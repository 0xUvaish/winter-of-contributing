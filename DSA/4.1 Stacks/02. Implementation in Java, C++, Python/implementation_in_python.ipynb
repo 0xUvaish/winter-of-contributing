{
 "cells": [
  {
   "cell_type": "markdown",
   "id": "d94fb349",
   "metadata": {},
   "source": [
    "# Implementation of Stacks in Python"
   ]
  },
  {
   "cell_type": "markdown",
   "id": "7f352775",
   "metadata": {},
   "source": [
    "A stack is an ordered list in which insertion and deletion occur at the top of the list. The first element to be eliminated \n",
    "is the last one that was entered. As a result, it's known as the LIFO (Last in First Out) or FILO (First in Last Out) list.\n",
    "When an element is removed from a stack, it is called pop and when entered, it is called push. Trying to pop an element out of an empty stack is called 'underflow' and entering an element in a full stack is termed as 'overflow'. "
   ]
  },
  {
   "attachments": {
    "stacksimage.png": {
     "image/png": "[encoded data removed]"
    }
   },
   "cell_type": "markdown",
   "id": "0d94865f",
   "metadata": {},
   "source": [
    "![stacksimage.png](attachment:stacksimage.png)"
   ]
  },
  {
   "cell_type": "markdown",
   "id": "51887ff9",
   "metadata": {},
   "source": [
    "### Functions we can perform on stacks:\n",
    "- empty(): to check if the stack is empty.\n",
    "- size(): to find the size of the stack.\n",
    "- top(): to find the top (or element that was entered last).\n",
    "- push(a): to push element 'a' at the top of the stack.\n",
    "- pop(): to pop the topmost element of the stack"
   ]
  },
  {
   "cell_type": "markdown",
   "id": "39312611",
   "metadata": {},
   "source": [
    "### Implementation in Python\n",
    "Python offers various ways to implement the stack. These are the 3 ways that are going to be discussed in this documentation: \n",
    "- list\n",
    "- collections.deque\n",
    "- queue.LifoQueue"
   ]
  },
  {
   "cell_type": "markdown",
   "id": "ec73a03d",
   "metadata": {},
   "source": [
    "### Implementation using List\n",
    "The built-in list structure is used very often to implement stacks. We use the append() method to push an element to the stack and pop() to pop the last element. The main problem with using lists is that it gets slow as the size of list increases. In this data structure, elements are stored one after the other. Stacks based on Python lists extend to the right and shrink to the left. Let us see the sample code to implement stacks through lists."
   ]
  },
  {
   "cell_type": "code",
   "execution_count": 1,
   "id": "ec76932c",
   "metadata": {},
   "outputs": [
    {
     "data": {
      "text/plain": [
       "['GirlScript', 'Winter', 'of', 'Contributing']"
      ]
     },
     "execution_count": 1,
     "metadata": {},
     "output_type": "execute_result"
    }
   ],
   "source": [
    "stack = []\n",
    "stack.append('GirlScript')\n",
    "stack.append('Winter')\n",
    "stack.append('of')\n",
    "stack.append('Contributing')\n",
    "stack"
   ]
  },
  {
   "cell_type": "code",
   "execution_count": 2,
   "id": "96e19293",
   "metadata": {},
   "outputs": [
    {
     "data": {
      "text/plain": [
       "['GirlScript', 'Winter', 'of']"
      ]
     },
     "execution_count": 2,
     "metadata": {},
     "output_type": "execute_result"
    }
   ],
   "source": [
    "stack.pop()\n",
    "stack"
   ]
  },
  {
   "cell_type": "markdown",
   "id": "20777aec",
   "metadata": {},
   "source": [
    "We use len() to find the size of the stack. If the list has length 0, the stack is said to be empty."
   ]
  },
  {
   "cell_type": "code",
   "execution_count": 3,
   "id": "67d01fb0",
   "metadata": {},
   "outputs": [
    {
     "data": {
      "text/plain": [
       "3"
      ]
     },
     "execution_count": 3,
     "metadata": {},
     "output_type": "execute_result"
    }
   ],
   "source": [
    "len(stack)"
   ]
  },
  {
   "cell_type": "code",
   "execution_count": 4,
   "id": "c7aa5a04",
   "metadata": {},
   "outputs": [
    {
     "data": {
      "text/plain": [
       "[]"
      ]
     },
     "execution_count": 4,
     "metadata": {},
     "output_type": "execute_result"
    }
   ],
   "source": [
    "stack.pop()\n",
    "stack.pop()\n",
    "stack.pop()\n",
    "stack"
   ]
  },
  {
   "cell_type": "code",
   "execution_count": 5,
   "id": "5247911d",
   "metadata": {},
   "outputs": [
    {
     "data": {
      "text/plain": [
       "0"
      ]
     },
     "execution_count": 5,
     "metadata": {},
     "output_type": "execute_result"
    }
   ],
   "source": [
    "len(stack)"
   ]
  },
  {
   "cell_type": "markdown",
   "id": "7df83df0",
   "metadata": {},
   "source": [
    "The list (stack) is now empty. "
   ]
  },
  {
   "cell_type": "markdown",
   "id": "85f67267",
   "metadata": {},
   "source": [
    "### Implementation using collections.deque\n",
    "The collection module provides the deque class, which is used to creating Python stacks. This method is preferred for faster processing time. The time complexity for push and pop in deque is O(1), whereas it is O(n) for lists. Similar to lists, we use append() to push an element to the stack and pop to remove one. \n",
    "So why is it that the time complexities are different for lists and deque? \n",
    "Lists are stored in continuous blocks of memory. This is useful for a variety of tasks, such as indexing into a list. Python knows exactly where to seek in memory to find stack[3], thus getting it is quick. Slices perform well on lists because of this memory arrangement.\n",
    "\n",
    "Because of the contiguous memory layout, that list may take longer to complete.\n",
    "\n",
    "Some objects are easier to append() than others. If the contiguous memory block is filled, it will need to obtain another block, which will take significantly longer than a typical append().\n",
    "\n",
    "On the other hand, deque is based on a doubly linked list. Each entry in a linked list is kept in its own memory block and has a reference to the following entry in the list.\n",
    "\n",
    "A doubly linked list is similar to a linked list, except that each entry in the list has references to both the preceding and next entry. This makes it simple to append nodes to the list's ends.\n",
    "\n",
    "Here is the sample code for deque."
   ]
  },
  {
   "cell_type": "code",
   "execution_count": 6,
   "id": "d8471759",
   "metadata": {},
   "outputs": [
    {
     "data": {
      "text/plain": [
       "deque(['GirlScript', 'Winter', 'of', 'Contributing'])"
      ]
     },
     "execution_count": 6,
     "metadata": {},
     "output_type": "execute_result"
    }
   ],
   "source": [
    "from collections import deque\n",
    "\n",
    "stack = deque()\n",
    "\n",
    "stack.append('GirlScript')\n",
    "stack.append('Winter')\n",
    "stack.append('of')\n",
    "stack.append('Contributing')\n",
    "\n",
    "stack"
   ]
  },
  {
   "cell_type": "code",
   "execution_count": 7,
   "id": "12f359ac",
   "metadata": {},
   "outputs": [
    {
     "data": {
      "text/plain": [
       "deque(['GirlScript', 'Winter', 'of'])"
      ]
     },
     "execution_count": 7,
     "metadata": {},
     "output_type": "execute_result"
    }
   ],
   "source": [
    "stack.pop()\n",
    "stack"
   ]
  },
  {
   "cell_type": "code",
   "execution_count": 8,
   "id": "8f300718",
   "metadata": {},
   "outputs": [
    {
     "data": {
      "text/plain": [
       "deque([])"
      ]
     },
     "execution_count": 8,
     "metadata": {},
     "output_type": "execute_result"
    }
   ],
   "source": [
    "stack.pop()\n",
    "stack.pop()\n",
    "stack.pop()\n",
    "stack"
   ]
  },
  {
   "cell_type": "markdown",
   "id": "168672bd",
   "metadata": {},
   "source": [
    "### Implementation using the queue module\n",
    "The LIFO queue, which is the same as the stack, is part of the queue module. The put() method is used to add data to the queue, and the get() method is used to remove it.\n",
    "\n",
    "Other methods available in the queue:\n",
    "- empty(): used to check if the queue is empty.\n",
    "- maxsize(): used to set the maximum number of elements of the queue.\n",
    "- get(): used to perform the pop function.\n",
    "- full(): checks if the queue is full.\n",
    "- put(a): used to push element a into the queue.\n",
    "- qsize(): used to check the size of the queue.\n",
    "\n",
    "Here is the sample code."
   ]
  },
  {
   "cell_type": "code",
   "execution_count": 9,
   "id": "a62e790f",
   "metadata": {},
   "outputs": [
    {
     "data": {
      "text/plain": [
       "4"
      ]
     },
     "execution_count": 9,
     "metadata": {},
     "output_type": "execute_result"
    }
   ],
   "source": [
    "from queue import LifoQueue\n",
    "\n",
    "stack = LifoQueue(maxsize = 4)\n",
    "\n",
    "stack.put('GirlScript')\n",
    "stack.put('Winter')\n",
    "stack.put('of')\n",
    "stack.put('Contributing')\n",
    "\n",
    "stack.qsize()"
   ]
  },
  {
   "cell_type": "code",
   "execution_count": 10,
   "id": "7513186c",
   "metadata": {},
   "outputs": [
    {
     "data": {
      "text/plain": [
       "True"
      ]
     },
     "execution_count": 10,
     "metadata": {},
     "output_type": "execute_result"
    }
   ],
   "source": [
    "stack.full()"
   ]
  },
  {
   "cell_type": "code",
   "execution_count": 11,
   "id": "07c71af2",
   "metadata": {},
   "outputs": [
    {
     "data": {
      "text/plain": [
       "'GirlScript'"
      ]
     },
     "execution_count": 11,
     "metadata": {},
     "output_type": "execute_result"
    }
   ],
   "source": [
    "stack.get()\n",
    "stack.get()\n",
    "stack.get()\n",
    "stack.get()"
   ]
  },
  {
   "cell_type": "code",
   "execution_count": 12,
   "id": "b8f87ca9",
   "metadata": {},
   "outputs": [
    {
     "name": "stdout",
     "output_type": "stream",
     "text": [
      "<queue.LifoQueue object at 0x0000025EE3BF0760>\n"
     ]
    }
   ],
   "source": [
    "print(stack)"
   ]
  },
  {
   "cell_type": "code",
   "execution_count": 13,
   "id": "8577ae41",
   "metadata": {},
   "outputs": [
    {
     "data": {
      "text/plain": [
       "True"
      ]
     },
     "execution_count": 13,
     "metadata": {},
     "output_type": "execute_result"
    }
   ],
   "source": [
    "stack.empty()"
   ]
  },
  {
   "cell_type": "markdown",
   "id": "ba3381be",
   "metadata": {},
   "source": [
    "We have defined a stack and its implementation in brief. Python stack can be used in real-life programs. We can choose either implement the method according to our requirements. "
   ]
  }
 ],
 "metadata": {
  "kernelspec": {
   "display_name": "Python 3",
   "language": "python",
   "name": "python3"
  },
  "language_info": {
   "codemirror_mode": {
    "name": "ipython",
    "version": 3
   },
   "file_extension": ".py",
   "mimetype": "text/x-python",
   "name": "python",
   "nbconvert_exporter": "python",
   "pygments_lexer": "ipython3",
   "version": "3.8.8"
  }
 },
 "nbformat": 4,
 "nbformat_minor": 5
}
