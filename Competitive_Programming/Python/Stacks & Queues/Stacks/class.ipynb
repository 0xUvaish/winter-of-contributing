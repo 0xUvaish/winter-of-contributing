{
 "cells": [
  {
   "cell_type": "code",
   "execution_count": null,
   "source": [
    "class Stack:\r\n",
    "    def __init__(self):\r\n",
    "        self.items = []\r\n",
    "\r\n",
    "    def is_empty(self):\r\n",
    "        # return len(self.items) == 0\r\n",
    "        return not self.items\r\n",
    "\r\n",
    "    def push(self, item):\r\n",
    "        self.items.append(item)\r\n",
    "\r\n",
    "    def pop(self):\r\n",
    "        return self.items.pop()\r\n",
    "\r\n",
    "    def peek(self):\r\n",
    "        return self.items[-1]\r\n",
    "\r\n",
    "    def size(self):\r\n",
    "        return len(self.items)\r\n",
    "\r\n",
    "    def __str__(self):\r\n",
    "        return str(self.items)\r\n",
    "\r\n",
    "if __name__ == \"__main__\":\r\n",
    "    s = Stack()\r\n",
    "    print(s)\r\n",
    "    print(s.is_empty())\r\n",
    "    s.push(3)\r\n",
    "    print(s)\r\n",
    "    s.push(7)\r\n",
    "    s.push(5)\r\n",
    "    print(s)\r\n",
    "    print(s.pop())\r\n",
    "    print(s)\r\n",
    "    print(s.peek())\r\n",
    "    print(s.size())"
   ],
   "outputs": [],
   "metadata": {}
  }
 ],
 "metadata": {
  "orig_nbformat": 4,
  "language_info": {
   "name": "python"
  }
 },
 "nbformat": 4,
 "nbformat_minor": 2
}