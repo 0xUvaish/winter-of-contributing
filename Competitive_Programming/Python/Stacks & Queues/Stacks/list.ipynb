{
 "cells": [
  {
   "cell_type": "markdown",
   "source": [
    "# Stack using list\r\n",
    "Using list, we have to use **append()** instead of push() to add elements to the top of the stack while **pop()** remains as is."
   ],
   "metadata": {}
  },
  {
   "cell_type": "code",
   "execution_count": 1,
   "source": [
    "\r\n",
    "stack = ['x', 'y', 'z'] # list as a stack\r\n",
    " \r\n",
    "# append() function to push element in the stack\r\n",
    "stack.append('a')\r\n",
    "stack.append('b')\r\n",
    "stack.append('c')\r\n",
    " \r\n",
    "print(\"stack:\",stack)\r\n",
    " \r\n",
    "# pop() function to pop element from stack\r\n",
    "print('Elements popped from stack:')\r\n",
    "print(stack.pop())\r\n",
    "print(stack.pop())\r\n",
    "print(stack.pop())\r\n",
    " \r\n",
    "print('Stack:',stack)"
   ],
   "outputs": [
    {
     "output_type": "stream",
     "name": "stdout",
     "text": [
      "stack: ['x', 'y', 'z', 'a', 'b', 'c']\n",
      "Elements popped from stack:\n",
      "c\n",
      "b\n",
      "a\n",
      "Stack: ['x', 'y', 'z']\n"
     ]
    }
   ],
   "metadata": {}
  }
 ],
 "metadata": {
  "orig_nbformat": 4,
  "language_info": {
   "name": "python",
   "version": "3.7.9",
   "mimetype": "text/x-python",
   "codemirror_mode": {
    "name": "ipython",
    "version": 3
   },
   "pygments_lexer": "ipython3",
   "nbconvert_exporter": "python",
   "file_extension": ".py"
  },
  "kernelspec": {
   "name": "python3",
   "display_name": "Python 3.7.9 64-bit"
  },
  "interpreter": {
   "hash": "f8a4220264a22d692c2e3132ffee74066f7b7c05c532ec5d92c4520053df6773"
  }
 },
 "nbformat": 4,
 "nbformat_minor": 2
}