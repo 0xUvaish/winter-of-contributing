{
 "cells": [
  {
   "cell_type": "markdown",
   "source": [
    "# Stack using collection.deque\r\n",
    "Python stack can be implemented using the deque class from the collections module. Deque provides an O(1) time complexity for append and pop operations as compared to list which provides O(n) time complexity."
   ],
   "metadata": {}
  },
  {
   "cell_type": "code",
   "execution_count": 1,
   "source": [
    "\r\n",
    "from collections import deque\r\n",
    " \r\n",
    "stack = deque()\r\n",
    " \r\n",
    "# append() function to push element in the stack\r\n",
    "stack.append('a')\r\n",
    "stack.append('b')\r\n",
    "stack.append('c')\r\n",
    " \r\n",
    "print(\"stack:\",stack)\r\n",
    " \r\n",
    "# pop() function to pop element from stack\r\n",
    "print('Elements popped from stack:')\r\n",
    "print(stack.pop())\r\n",
    "print(stack.pop())\r\n",
    " \r\n",
    "print('Stack after popping:',stack)"
   ],
   "outputs": [
    {
     "output_type": "stream",
     "name": "stdout",
     "text": [
      "stack: deque(['a', 'b', 'c'])\n",
      "Elements popped from stack:\n",
      "c\n",
      "b\n",
      "Stack after popping: deque(['a'])\n"
     ]
    }
   ],
   "metadata": {}
  }
 ],
 "metadata": {
  "orig_nbformat": 4,
  "language_info": {
   "name": "python",
   "version": "3.7.9",
   "mimetype": "text/x-python",
   "codemirror_mode": {
    "name": "ipython",
    "version": 3
   },
   "pygments_lexer": "ipython3",
   "nbconvert_exporter": "python",
   "file_extension": ".py"
  },
  "kernelspec": {
   "name": "python3",
   "display_name": "Python 3.7.9 64-bit"
  },
  "interpreter": {
   "hash": "f8a4220264a22d692c2e3132ffee74066f7b7c05c532ec5d92c4520053df6773"
  }
 },
 "nbformat": 4,
 "nbformat_minor": 2
}