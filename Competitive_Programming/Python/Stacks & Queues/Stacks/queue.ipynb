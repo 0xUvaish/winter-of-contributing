{
 "cells": [
  {
   "cell_type": "markdown",
   "source": [
    "# Stack using queue module\r\n",
    "Queue module also has a LIFO Queue, which is basically a Stack. Data is inserted using the put() function and get() takes data out from the Queue. \r\n",
    "<br>\r\n",
    "There are various functions available in this module [Read here](https://docs.python.org/3/library/queue.html)"
   ],
   "metadata": {}
  },
  {
   "cell_type": "code",
   "execution_count": 2,
   "source": [
    "# Python program to demonstrate stack implementation using queue module\r\n",
    " \r\n",
    "from queue import LifoQueue\r\n",
    " \r\n",
    "# Initializing a stack\r\n",
    "stack = LifoQueue(maxsize = 5)\r\n",
    " \r\n",
    "# qsize() show the number of elements in the stack\r\n",
    "print(stack.qsize())\r\n",
    "  \r\n",
    "# put() function to push element in the stack\r\n",
    "stack.put('a')\r\n",
    "stack.put('b')\r\n",
    "stack.put('c')\r\n",
    "stack.put('d')\r\n",
    "stack.put('e')\r\n",
    " \r\n",
    "print(\"Full: \", stack.full())\r\n",
    "print(\"Size: \", stack.qsize())\r\n",
    " \r\n",
    "# get() function to pop element from stack in LIFO order\r\n",
    "print('Elements popped from the stack')\r\n",
    "print(stack.get())\r\n",
    "print(stack.get())\r\n",
    "print(stack.get())\r\n",
    " \r\n",
    "print(\"Is stack empty?\", stack.empty()) # returns a boolean value"
   ],
   "outputs": [
    {
     "output_type": "stream",
     "name": "stdout",
     "text": [
      "0\n",
      "Full:  True\n",
      "Size:  5\n",
      "Elements popped from the stack\n",
      "e\n",
      "d\n",
      "c\n",
      "Is stack empty? False\n"
     ]
    }
   ],
   "metadata": {}
  }
 ],
 "metadata": {
  "orig_nbformat": 4,
  "language_info": {
   "name": "python",
   "version": "3.7.9",
   "mimetype": "text/x-python",
   "codemirror_mode": {
    "name": "ipython",
    "version": 3
   },
   "pygments_lexer": "ipython3",
   "nbconvert_exporter": "python",
   "file_extension": ".py"
  },
  "kernelspec": {
   "name": "python3",
   "display_name": "Python 3.7.9 64-bit"
  },
  "interpreter": {
   "hash": "f8a4220264a22d692c2e3132ffee74066f7b7c05c532ec5d92c4520053df6773"
  }
 },
 "nbformat": 4,
 "nbformat_minor": 2
}