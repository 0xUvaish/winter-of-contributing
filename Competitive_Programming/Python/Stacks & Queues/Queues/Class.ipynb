{
 "cells": [
  {
   "cell_type": "code",
   "execution_count": null,
   "source": [
    "from collections import deque\r\n",
    "\r\n",
    "\r\n",
    "class Queue:\r\n",
    "    def __init__(self):\r\n",
    "        self.items = deque()\r\n",
    "\r\n",
    "    def is_empty(self):\r\n",
    "        return not self.items\r\n",
    "        # return len(self.items) == 0\r\n",
    "\r\n",
    "    def enqueue(self, item):\r\n",
    "        self.items.append(item)\r\n",
    "\r\n",
    "    def dequeue(self):\r\n",
    "        return self.items.popleft()\r\n",
    "\r\n",
    "    def size(self):\r\n",
    "        return len(self.items)\r\n",
    "\r\n",
    "    def peek(self):\r\n",
    "        return self.items[0]\r\n",
    "\r\n",
    "    def __str__(self):\r\n",
    "        return str(self.items)\r\n",
    "\r\n",
    "\r\n",
    "if __name__ == \"__main__\":\r\n",
    "    q = Queue()\r\n",
    "    print(q)\r\n",
    "    print(q.is_empty())\r\n",
    "    q.enqueue(\"A\")\r\n",
    "    q.enqueue(\"D\")\r\n",
    "    q.enqueue(\"F\")\r\n",
    "    print(q)\r\n",
    "    print(q.dequeue())\r\n",
    "    print(q.dequeue())\r\n",
    "    print(q)\r\n",
    "    print(q.size())\r\n",
    "    print(q.peek())\r\n",
    "    print(q)\r\n",
    "\r\n"
   ],
   "outputs": [],
   "metadata": {}
  }
 ],
 "metadata": {
  "orig_nbformat": 4,
  "language_info": {
   "name": "python"
  }
 },
 "nbformat": 4,
 "nbformat_minor": 2
}