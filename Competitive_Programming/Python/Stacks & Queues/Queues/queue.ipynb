{
 "cells": [
  {
   "cell_type": "markdown",
   "source": [
    "# Queue using queue.Queue\r\n",
    "queue is a built-in module which has Queue class that follows FIFO rule. Its syntax is ```queue.Queue(maxsize)``` <br>\r\n",
    "There are various functions available in this module [Read here](https://docs.python.org/3/library/queue.html)"
   ],
   "metadata": {}
  },
  {
   "cell_type": "code",
   "execution_count": 1,
   "source": [
    "from queue import Queue\r\n",
    " \r\n",
    "# Initializing a queue\r\n",
    "q = Queue(maxsize = 3) # A maxsize of zero ‘0’ means a infinite queue\r\n",
    " \r\n",
    "# printing the maxsize of the Queue\r\n",
    "print(q.qsize())\r\n",
    " \r\n",
    "# Adding elements to queue\r\n",
    "q.put('x')\r\n",
    "q.put('y')\r\n",
    " \r\n",
    "# Return Boolean for Full Queue\r\n",
    "print(\"Full: \", q.full())\r\n",
    " \r\n",
    "# Removing element from queue\r\n",
    "print(\"Elements dequeued from the queue\")\r\n",
    "print(q.get())\r\n",
    "print(q.get())\r\n",
    " \r\n",
    "# Return Boolean for Empty Queue\r\n",
    "print(\"\\nEmpty: \", q.empty())\r\n",
    " \r\n",
    "q.put(1)\r\n",
    "print(\"Empty: \", q.empty())\r\n",
    "print(\"Full: \", q.full())"
   ],
   "outputs": [
    {
     "output_type": "stream",
     "name": "stdout",
     "text": [
      "0\n",
      "Full:  False\n",
      "Elements dequeued from the queue\n",
      "x\n",
      "y\n",
      "\n",
      "Empty:  True\n",
      "Empty:  False\n",
      "Full:  False\n"
     ]
    }
   ],
   "metadata": {}
  }
 ],
 "metadata": {
  "orig_nbformat": 4,
  "language_info": {
   "name": "python",
   "version": "3.7.9",
   "mimetype": "text/x-python",
   "codemirror_mode": {
    "name": "ipython",
    "version": 3
   },
   "pygments_lexer": "ipython3",
   "nbconvert_exporter": "python",
   "file_extension": ".py"
  },
  "kernelspec": {
   "name": "python3",
   "display_name": "Python 3.7.9 64-bit (windows store)"
  },
  "interpreter": {
   "hash": "5a5d4a13195f19930215ed5cff3a85d2d0b88ef268478be4949108961f985409"
  }
 },
 "nbformat": 4,
 "nbformat_minor": 2
}