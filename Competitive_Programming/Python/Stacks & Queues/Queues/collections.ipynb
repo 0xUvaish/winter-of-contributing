{
 "cells": [
  {
   "cell_type": "markdown",
   "source": [
    "# Queue using collections.deque\r\n",
    "Deque is a class in queue module. It has quicker append and pop operations from both the ends of container, as deque provides an O(1) time complexity for append and pop operations. append() and popleft() functions are used instead of enqueue and deque."
   ],
   "metadata": {}
  },
  {
   "cell_type": "code",
   "execution_count": null,
   "source": [
    "from collections import deque\r\n",
    " \r\n",
    "# Initializing a queue\r\n",
    "q = deque()\r\n",
    " \r\n",
    "# Adding elements to a queue\r\n",
    "q.append('x')\r\n",
    "q.append('y')\r\n",
    "q.append('z')\r\n",
    " \r\n",
    "print(\"Initial queue\",q)\r\n",
    " \r\n",
    "# Removing elements from a queue\r\n",
    "print(\"Elements dequeued from the queue\")\r\n",
    "print(q.popleft())\r\n",
    "print(q.popleft())\r\n",
    "print(q.popleft())\r\n",
    " \r\n",
    "print(\"Queue\",q)\r\n"
   ],
   "outputs": [],
   "metadata": {}
  }
 ],
 "metadata": {
  "orig_nbformat": 4,
  "language_info": {
   "name": "python"
  }
 },
 "nbformat": 4,
 "nbformat_minor": 2
}