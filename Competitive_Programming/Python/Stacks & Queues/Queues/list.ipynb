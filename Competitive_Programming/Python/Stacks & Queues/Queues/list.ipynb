{
 "cells": [
  {
   "cell_type": "markdown",
   "source": [
    "# Queue using list\r\n",
    "In list, instead of enqueue() and dequeue(), append() and pop() function is used. However, lists are quite slow because inserting or deleting an element at the beginning takes O(n) time."
   ],
   "metadata": {}
  },
  {
   "cell_type": "code",
   "execution_count": 1,
   "source": [
    "# Initializing a queue\r\n",
    "queue = []\r\n",
    " \r\n",
    "# Adding elements to the queue\r\n",
    "queue.append('x')\r\n",
    "queue.append('y')\r\n",
    "queue.append('z')\r\n",
    " \r\n",
    "print(\"Queue:\",queue)\r\n",
    " \r\n",
    "# Removing elements from the queue\r\n",
    "print(\"Elements dequeued from queue\")\r\n",
    "print(queue.pop(0))\r\n",
    "print(queue.pop(0))\r\n",
    " \r\n",
    "print(\"Queue after removing elements\")\r\n",
    "print(queue)"
   ],
   "outputs": [
    {
     "output_type": "stream",
     "name": "stdout",
     "text": [
      "Queue: ['x', 'y', 'z']\n",
      "Elements dequeued from queue\n",
      "x\n",
      "y\n",
      "z\n",
      "Queue after removing elements\n",
      "[]\n"
     ]
    }
   ],
   "metadata": {}
  }
 ],
 "metadata": {
  "orig_nbformat": 4,
  "language_info": {
   "name": "python",
   "version": "3.7.9",
   "mimetype": "text/x-python",
   "codemirror_mode": {
    "name": "ipython",
    "version": 3
   },
   "pygments_lexer": "ipython3",
   "nbconvert_exporter": "python",
   "file_extension": ".py"
  },
  "kernelspec": {
   "name": "python3",
   "display_name": "Python 3.7.9 64-bit (windows store)"
  },
  "interpreter": {
   "hash": "5a5d4a13195f19930215ed5cff3a85d2d0b88ef268478be4949108961f985409"
  }
 },
 "nbformat": 4,
 "nbformat_minor": 2
}