{
  "nbformat": 4,
  "nbformat_minor": 0,
  "metadata": {
    "colab": {
      "name": "image_segmentation_using_KMeans_clustering.ipynb",
      "provenance": []
    },
    "kernelspec": {
      "name": "python3",
      "display_name": "Python 3"
    },
    "language_info": {
      "name": "python"
    }
  },
  "cells": [
    {
      "cell_type": "markdown",
      "metadata": {
        "id": "I45Jc_87HPzG"
      },
      "source": [
        "# IMAGE SEGMENTATION USING K MEANS CLUSTERING\n",
        "<p align=\"center\">\n",
        "  <img width=\"700\" height=\"350\" src=\"https://www.crcv.ucf.edu/projects/3D-CNN-segmentation/drift-chicane.gif\">\n",
        "</p>\n",
        "\n",
        "Image segmentation is an important step in image processing, and it seems everywhere if we want to analyze what’s inside the image. For example, if we seek to find if there is a chair or person inside an indoor image, we may need image segmentation to separate objects and analyze each object individually to check what it is. Image segmentation usually serves as the pre-processing before pattern recognition, feature extraction, and compression of the image.\n",
        "\n"
      ]
    },
    {
      "cell_type": "markdown",
      "metadata": {
        "id": "WafVxARbM8pH"
      },
      "source": [
        "## K-Means Clustering Algorithm\n",
        "K-Means clustering algorithm is an unsupervised algorithm and it is used to segment the interest area from the background. It clusters, or partitions the given data into K-clusters or parts based on the K-centroids.\n",
        "\n",
        "The algorithm is used when you have unlabeled data(i.e. data without defined categories or groups). The goal is to find certain groups based on some kind of similarity in the data with the number of groups represented by K."
      ]
    },
    {
      "cell_type": "markdown",
      "metadata": {
        "id": "A6302EXyNEwm"
      },
      "source": [
        "## Steps in K-Means algorithm:\n",
        "\n",
        "1. Choose the number of clusters K.\n",
        "2. Select at random K points, the centroids(not necessarily from your dataset).\n",
        "3. Assign each data point to the closest centroid → that forms K clusters.\n",
        "4. Compute and place the new centroid of each cluster.\n",
        "5. Reassign each data point to the new closest centroid. If any reassignment took place, go to step 4, otherwise, the model is ready."
      ]
    },
    {
      "cell_type": "markdown",
      "metadata": {
        "id": "4Zm9RZ4-NRCX"
      },
      "source": [
        "## COLOUR CLUSTERING (SEGMENTATION)"
      ]
    },
    {
      "cell_type": "markdown",
      "metadata": {
        "id": "DggfNt3JNWMG"
      },
      "source": [
        "Import the required libraries."
      ]
    },
    {
      "cell_type": "code",
      "metadata": {
        "id": "pBWFhKs6GN4h"
      },
      "source": [
        "import numpy as np\n",
        "import cv2\n",
        "import matplotlib.pyplot as plt\n"
      ],
      "execution_count": null,
      "outputs": []
    },
    {
      "cell_type": "markdown",
      "metadata": {
        "id": "c40a-CoWNaKe"
      },
      "source": [
        "Load the image RGB Color Space "
      ]
    },
    {
      "cell_type": "code",
      "metadata": {
        "id": "AOvLIjMAGVIv"
      },
      "source": [
        "original_image = cv2.imread(r\"photo.jpg\")\n"
      ],
      "execution_count": null,
      "outputs": []
    },
    {
      "cell_type": "markdown",
      "metadata": {
        "id": "Io5jcRKJNakm"
      },
      "source": [
        "Convert the image from RGB Colours Space to HSV to work ahead"
      ]
    },
    {
      "cell_type": "code",
      "metadata": {
        "id": "LzmDPdekGVGm"
      },
      "source": [
        "img=cv2.cvtColor(original_image,cv2.COLOR_BGR2RGB)\n"
      ],
      "execution_count": null,
      "outputs": []
    },
    {
      "cell_type": "markdown",
      "metadata": {
        "id": "BcVKDUH0NbA-"
      },
      "source": [
        "1. Converts the MxNx3 image into a Kx3 matrix where K=MxN and each row in now a vector in the 3-D space of RGB.\n",
        "2. Convert the unit8 values to float as it is a requirement of the k-means method of OpenCV."
      ]
    },
    {
      "cell_type": "code",
      "metadata": {
        "id": "_DrVzp1OGVD5"
      },
      "source": [
        "vectorized = img.reshape((-1,3))\n",
        "vectorized = np.float32(vectorized)\n"
      ],
      "execution_count": null,
      "outputs": []
    },
    {
      "cell_type": "markdown",
      "metadata": {
        "id": "TBBGhCK_Nck-"
      },
      "source": [
        "Define criteria, number of clusters(K) and apply k-means().\n",
        "\n",
        "**Criteria: It is the iteration termination criteria. When this criterion is satisfied, the algorithm iteration stops. Actually, it should be a tuple of 3 parameters.**\n",
        "\n",
        "**Attempts: Flag to specify the number of times the algorithm is executed using different initial labelings. The algorithm returns the labels that yield the best compactness. This compactness is returned as output.**"
      ]
    },
    {
      "cell_type": "code",
      "metadata": {
        "id": "J_s_O4xkGVBd"
      },
      "source": [
        "criteria = (cv2.TERM_CRITERIA_EPS + cv2.TERM_CRITERIA_MAX_ITER, 10, 1.0)\n"
      ],
      "execution_count": null,
      "outputs": []
    },
    {
      "cell_type": "markdown",
      "metadata": {
        "id": "wjhuh6SjNc6t"
      },
      "source": [
        "OpenCV provides cv2.kmeans(samples, nclusters(K), criteria, attempts, flags) function for color clustering."
      ]
    },
    {
      "cell_type": "code",
      "metadata": {
        "id": "tvJ0Wkq_GU-0"
      },
      "source": [
        "K = 10\n",
        "attempts=10\n",
        "ret,label,center=cv2.kmeans(vectorized,K,None,criteria,attempts,cv2.KMEANS_PP_CENTERS)\n"
      ],
      "execution_count": null,
      "outputs": []
    },
    {
      "cell_type": "markdown",
      "metadata": {
        "id": "61hPwRftNdgd"
      },
      "source": [
        " Convert back into uint8."
      ]
    },
    {
      "cell_type": "code",
      "metadata": {
        "id": "XAdsEVkhGU8N"
      },
      "source": [
        "center = np.uint8(center)\n"
      ],
      "execution_count": null,
      "outputs": []
    },
    {
      "cell_type": "markdown",
      "metadata": {
        "id": "jzau97VGNd59"
      },
      "source": [
        "Access the label to generate the clustered image"
      ]
    },
    {
      "cell_type": "code",
      "metadata": {
        "id": "E2cPCA-LGU5l"
      },
      "source": [
        "res = center[label.flatten()]\n",
        "result_image = res.reshape((img.shape))\n"
      ],
      "execution_count": null,
      "outputs": []
    },
    {
      "cell_type": "markdown",
      "metadata": {
        "id": "flJZsVm4Nepu"
      },
      "source": [
        "Visualise the output"
      ]
    },
    {
      "cell_type": "code",
      "metadata": {
        "id": "XdddJweHGUvX"
      },
      "source": [
        "figure_size = 10\n",
        "plt.figure(figsize=(figure_size,figure_size))\n",
        "plt.subplot(1,2,1),plt.imshow(img)\n",
        "plt.title('Original Image'), plt.xticks([]), plt.yticks([])\n",
        "plt.subplot(1,2,2),plt.imshow(result_image)\n",
        "plt.title('Segmented Image when K = %i' % K), plt.xticks([]), plt.yticks([])\n",
        "plt.show()"
      ],
      "execution_count": null,
      "outputs": []
    }
  ]
}
