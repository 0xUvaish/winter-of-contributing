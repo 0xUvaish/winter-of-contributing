{
  "nbformat": 4,
  "nbformat_minor": 0,
  "metadata": {
    "colab": {
      "name": "R-squrared & MSE.ipynb",
      "provenance": [],
      "collapsed_sections": []
    },
    "kernelspec": {
      "name": "python3",
      "display_name": "Python 3"
    },
    "language_info": {
      "name": "python"
    }
  },
  "cells": [
    {
      "cell_type": "markdown",
      "metadata": {
        "id": "hk3sdrx4nBkk"
      },
      "source": [
        "# R squared and Mean Squared Error (MSE)\n",
        "\n",
        "* Name: Apoorv Yadav\n",
        "* GitHub Profile: https://github.com/Apoorv-17\n",
        "* Batch No: 15\n",
        "* Serial No: 537\n",
        "\n",
        "## 1. R-squared\n",
        "R-squared is a statistical measure of how close the data are to the fitted regression line. It is also known as the coefficient of determination, or the coefficient of multiple determination for multiple regression.\n",
        "\n",
        "![image.png](data:image/png;base64,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)\n",
        "\n",
        "**Implementation in Python**\n"
      ]
    },
    {
      "cell_type": "markdown",
      "metadata": {
        "id": "aCxAOtsXq919"
      },
      "source": [
        "Code: r2_score using sklearn.metrics"
      ]
    },
    {
      "cell_type": "code",
      "metadata": {
        "id": "fh3v966mnCs6"
      },
      "source": [
        "# Importing r2_score from sklearn.metrics\n",
        "from sklearn.metrics import r2_score"
      ],
      "execution_count": null,
      "outputs": []
    },
    {
      "cell_type": "code",
      "metadata": {
        "id": "lPhmjYcwmfu4",
        "colab": {
          "base_uri": "https://localhost:8080/"
        },
        "outputId": "9a5e5efd-7a3b-4ccf-c79c-c61872fb204f"
      },
      "source": [
        "### Assume y_true is the actual value and y_pred is the predicted values\n",
        "Y_true = [1,1,2,2,4]\n",
        "Y_pred = [0.6,1.29,1.99,2.69,3.4]\n",
        "r2 = r2_score(Y_true, Y_pred)\n",
        "print('r2 score for perfect model is', r2)"
      ],
      "execution_count": null,
      "outputs": [
        {
          "output_type": "stream",
          "name": "stdout",
          "text": [
            "r2 score for perfect model is 0.81995\n"
          ]
        }
      ]
    },
    {
      "cell_type": "markdown",
      "metadata": {
        "id": "wgke1acYrs6j"
      },
      "source": [
        "## 2. Mean Squared Error\n",
        "The Mean Squared Error (MSE) or Mean Squared Deviation (MSD) of an estimator measures the average of error squares i.e., the average squared difference between the estimated values and true value. \n",
        "\n",
        "![image.png](data:image/png;base64,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)\n",
        "\n"
      ]
    },
    {
      "cell_type": "markdown",
      "metadata": {
        "id": "2UR-JJwWsHpt"
      },
      "source": [
        "Code 1: MSE using scikit – learn\n",
        "\n"
      ]
    },
    {
      "cell_type": "code",
      "metadata": {
        "id": "mOgUAsZbsrSc"
      },
      "source": [
        "# Importing mean_squared_error from sklearn.metrics\n",
        "from sklearn.metrics import mean_squared_error"
      ],
      "execution_count": null,
      "outputs": []
    },
    {
      "cell_type": "code",
      "metadata": {
        "colab": {
          "base_uri": "https://localhost:8080/"
        },
        "id": "nqIuVp39s2dt",
        "outputId": "484390a8-04e3-4de6-95d0-92bc2e843ae2"
      },
      "source": [
        "### Assume y_true is the actual value and y_pred is the predicted values\n",
        "Y_true = [1,1,2,2,4] \n",
        "Y_pred = [0.6,1.29,1.99,2.69,3.4]\n",
        "  \n",
        "# Calculation of Mean Squared Error (MSE)\n",
        "mean_squared_error(Y_true,Y_pred)"
      ],
      "execution_count": null,
      "outputs": [
        {
          "output_type": "execute_result",
          "data": {
            "text/plain": [
              "0.21606"
            ]
          },
          "metadata": {},
          "execution_count": 5
        }
      ]
    },
    {
      "cell_type": "markdown",
      "metadata": {
        "id": "fgTXRF2FtC50"
      },
      "source": [
        "Code 2: MSE using Numpy module"
      ]
    },
    {
      "cell_type": "code",
      "metadata": {
        "id": "NDGqSlfqtX7s"
      },
      "source": [
        "# Importing numpy package\n",
        "import numpy as np"
      ],
      "execution_count": null,
      "outputs": []
    },
    {
      "cell_type": "code",
      "metadata": {
        "colab": {
          "base_uri": "https://localhost:8080/"
        },
        "id": "KKABx3-EteOV",
        "outputId": "6181dbef-8832-4069-d5ea-cae1a88d604b"
      },
      "source": [
        "### Assume y_true is the actual value and y_pred is the predicted values\n",
        "Y_true = [1,1,2,2,4] \n",
        "Y_pred = [0.6,1.29,1.99,2.69,3.4]\n",
        "  \n",
        "# Mean Squared Error\n",
        "np.square(np.subtract(Y_true,Y_pred)).mean()"
      ],
      "execution_count": null,
      "outputs": [
        {
          "output_type": "execute_result",
          "data": {
            "text/plain": [
              "0.21606"
            ]
          },
          "metadata": {},
          "execution_count": 13
        }
      ]
    },
    {
      "cell_type": "markdown",
      "metadata": {
        "id": "-wXr8Hhf6cmB"
      },
      "source": [
        "## Combined implementation of R-squared and MSE on the Boston Dataset\n",
        "\n",
        "Here is the python code representing how to calculate mean squared error or R-Squared value while working with regression models. \n",
        "\n",
        "* `Sklearn.metrics`, `mean_squared_error` and `r2_score` is used for measuring the MSE and R-Squared values. Input to this methods are actual values and predicted values.\n",
        "* Sklearn Boston housing dataset is used for training a multiple linear regression model using Sklearn.linear_model LinearRegression"
      ]
    },
    {
      "cell_type": "code",
      "metadata": {
        "id": "LdIDYzlu6IZe"
      },
      "source": [
        "# Importing necessary packages\n",
        "import pandas as pd\n",
        "from sklearn.model_selection import train_test_split\n",
        "from sklearn.preprocessing import StandardScaler\n",
        "from sklearn.linear_model import LinearRegression\n",
        "from sklearn.pipeline import make_pipeline\n",
        "from sklearn.metrics import mean_squared_error, r2_score\n",
        "from sklearn import datasets"
      ],
      "execution_count": null,
      "outputs": []
    },
    {
      "cell_type": "code",
      "metadata": {
        "colab": {
          "base_uri": "https://localhost:8080/"
        },
        "id": "A3r5OAhY575L",
        "outputId": "0d6ceec4-e4a2-4139-b5d5-488fe5d88fdf"
      },
      "source": [
        "# Load the Sklearn Boston Dataset\n",
        "boston_ds = datasets.load_boston()\n",
        "X = boston_ds.data\n",
        "y = boston_ds.target\n",
        "\n",
        "# Create a training and test split\n",
        "X_train, X_test, y_train, y_test = train_test_split(X, y, test_size=0.3, random_state=42)\n",
        "\n",
        "# Fit a pipeline using Training dataset and related labels\n",
        "pipeline = make_pipeline(StandardScaler(), LinearRegression())\n",
        "pipeline.fit(X_train, y_train)\n",
        "\n",
        "# Calculate the predicted value for training and test dataset\n",
        "y_train_pred = pipeline.predict(X_train)\n",
        "y_test_pred = pipeline.predict(X_test)\n",
        "\n",
        "# Mean Squared Error\n",
        "print('MSE train: %.3f, test: %.3f' % (mean_squared_error(y_train, y_train_pred),\n",
        "                mean_squared_error(y_test, y_test_pred)))\n",
        "# R-Squared\n",
        "print('R^2 train: %.3f, test: %.3f' % (r2_score(y_train, y_train_pred),\n",
        "                r2_score(y_test, y_test_pred)))"
      ],
      "execution_count": null,
      "outputs": [
        {
          "output_type": "stream",
          "name": "stdout",
          "text": [
            "MSE train: 22.545, test: 21.517\n",
            "R^2 train: 0.743, test: 0.711\n"
          ]
        }
      ]
    },
    {
      "cell_type": "markdown",
      "metadata": {
        "id": "eN-aHBjttq0s"
      },
      "source": [
        "### **Conclusion**\n",
        "So, in conclusion we come out with what to use either mean square error (MSE) or R-Squared in the given condition:\n",
        "\n",
        "* MSE represents the residual error which is nothing but sum of squared difference between actual values and the predicted / estimated values.\n",
        "R-Squared represents the fraction of response variance captured by the regression model\n",
        "* R-squared does not indicate whether a regression model is adequate. You can have a low R-squared value for a good model, or a high R-squared value for a model that does not fit the data!\n",
        "* The disadvantage of using MSE is that the value of MSE varies based on whether the values of response variable is scaled or not. If scaled, MSE will be lower than the unscaled values."
      ]
    },
    {
      "cell_type": "code",
      "metadata": {
        "id": "aBtkz-oR539C"
      },
      "source": [
        ""
      ],
      "execution_count": null,
      "outputs": []
    }
  ]
}
