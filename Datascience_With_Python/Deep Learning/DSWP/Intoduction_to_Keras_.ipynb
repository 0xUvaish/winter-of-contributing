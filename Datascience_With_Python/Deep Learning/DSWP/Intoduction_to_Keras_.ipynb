{
  "nbformat": 4,
  "nbformat_minor": 0,
  "metadata": {
    "colab": {
      "name": "Intoduction to Keras .ipynb",
      "provenance": [],
      "collapsed_sections": []
    },
    "kernelspec": {
      "name": "python3",
      "display_name": "Python 3"
    },
    "language_info": {
      "name": "python"
    }
  },
  "cells": [
    {
      "cell_type": "markdown",
      "metadata": {
        "id": "Dn7Q4H7tc-V3"
      },
      "source": [
        "## **Introduction to Keras**\n",
        "Keras are powerful open source library used mainly for deep learning. It was developed by a Google Engineer. It wraps the efficient numerical computation libraries Theano and TensorFlow and allows you to define and train neural network models in just a few lines of code.\n"
      ]
    },
    {
      "cell_type": "markdown",
      "metadata": {
        "id": "nEDlgXBPfnad"
      },
      "source": [
        "# *Steps to build Deep Learning model using Keras :*\n",
        "\n",
        "\n",
        "\n",
        "1.  Have Python 2 or 3 installed and configured\n",
        "2.   SciPy (including NumPy) should be installed and configured.\n",
        "3.   Install Keras using this command\n",
        "            $ pip install keras\n",
        "4. Import numpy and pandas\n",
        "\n",
        "\n",
        "\n",
        "\n",
        "\n",
        "\n"
      ]
    },
    {
      "cell_type": "code",
      "metadata": {
        "id": "pqghsPe776Gm"
      },
      "source": [
        "import numpy as np\n",
        "import pandas as pd"
      ],
      "execution_count": 1,
      "outputs": []
    },
    {
      "cell_type": "markdown",
      "metadata": {
        "id": "_IKELT3vbNh7"
      },
      "source": [
        ""
      ]
    },
    {
      "cell_type": "markdown",
      "metadata": {
        "id": "bSc5pFLI8J4K"
      },
      "source": [
        " 5. Next, we'll import the Sequential model type from Keras. This is generally used for feed foward CNN\n",
        " "
      ]
    },
    {
      "cell_type": "code",
      "metadata": {
        "id": "3jvRW5dsdKbl"
      },
      "source": [
        "from keras.models import Sequential\n",
        "from keras.layers import Dense, Dropout, Activation, Flatten"
      ],
      "execution_count": null,
      "outputs": []
    },
    {
      "cell_type": "markdown",
      "metadata": {
        "id": "9vRI6gSu8H0U"
      },
      "source": [
        "6. Import convolution2D , Maxpooling for training image data"
      ]
    },
    {
      "cell_type": "code",
      "metadata": {
        "id": "gDZSUMBm80mf"
      },
      "source": [
        "from keras.layers import Convolution2D, MaxPooling2D"
      ],
      "execution_count": null,
      "outputs": []
    },
    {
      "cell_type": "markdown",
      "metadata": {
        "id": "bLT6kUqnBK0H"
      },
      "source": [
        "7. To transforn data , import some utilities"
      ]
    },
    {
      "cell_type": "code",
      "metadata": {
        "id": "E5Nk6-fXBasb"
      },
      "source": [
        "\t\n",
        "from keras.utils import np_utils"
      ],
      "execution_count": null,
      "outputs": []
    },
    {
      "cell_type": "markdown",
      "metadata": {
        "id": "Hq6SnK_uBmQH"
      },
      "source": [
        "8 . Load Data for building deep learning model(Load any dataset (csv or excel file) of your choice( i prefer taking dataset from kaggle) )\n",
        "          Read CSV file using pandas dataframe\n",
        "\n",
        "          df =pd.read_csv(\"file_name.csv)\n",
        "\n",
        "    "
      ]
    },
    {
      "cell_type": "markdown",
      "metadata": {
        "id": "xnaZ8dwJy2az"
      },
      "source": [
        "9. Perform feature selection , outlier detection( basically data exploration)\n",
        "\n",
        "10. Test the model using .test() and compile it using\n",
        "            model.compile(loss=' ',\n",
        "              optimizer=' ',\n",
        "              metrics=[' '])"
      ]
    },
    {
      "cell_type": "markdown",
      "metadata": {
        "id": "nUExxDpbyilJ"
      },
      "source": [
        ""
      ]
    },
    {
      "cell_type": "markdown",
      "metadata": {
        "id": "eK8jcJhZGRoY"
      },
      "source": [
        "11. Next , fit the model on training data\n",
        "            \n",
        "            model.fit(X_train, Y_train)"
      ]
    },
    {
      "cell_type": "markdown",
      "metadata": {
        "id": "mit99cbYHgH0"
      },
      "source": [
        "12. Finally , Evaluate the model on testing data\n",
        "         \n",
        "         score = model.evaluate(X_test, Y_test)\n",
        "         "
      ]
    },
    {
      "cell_type": "markdown",
      "metadata": {
        "id": "GQcvuwjiIeIk"
      },
      "source": [
        "#    In this documentation , we saw the basics on how to import keras and what are the steps required to build a deep learning using Keras.\n"
      ]
    },
    {
      "cell_type": "code",
      "metadata": {
        "id": "8nUSitbWJb5O"
      },
      "source": [
        ""
      ],
      "execution_count": null,
      "outputs": []
    }
  ]
}