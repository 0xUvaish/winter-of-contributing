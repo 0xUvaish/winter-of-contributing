{
  "nbformat": 4,
  "nbformat_minor": 0,
  "metadata": {
    "colab": {
      "name": "Introduction_to_pytorch.ipynb",
      "provenance": [],
      "collapsed_sections": [
        "zgG3zPWlDu9J"
      ]
    },
    "kernelspec": {
      "name": "python3",
      "display_name": "Python 3"
    },
    "language_info": {
      "name": "python"
    }
  },
  "cells": [
    {
      "cell_type": "markdown",
      "metadata": {
        "id": "QajVlICRCzo9"
      },
      "source": [
        "# Introduction to PyTorch"
      ]
    },
    {
      "cell_type": "markdown",
      "metadata": {
        "id": "zgG3zPWlDu9J"
      },
      "source": [
        "### How to run the code\n",
        "\n",
        "#### Option 1: Running using free online resources (1-click, recommended)\n",
        "\n",
        "The easiest way to start executing the code is to run it on Google Colab by simply downloading this file and uploading it on Google Colab.\n",
        "\n",
        "\n",
        "#### Option 2: Running on your computer locally\n",
        "\n",
        "To run the code on your computer locally, you'll need to set up [Python](https://www.python.org), download the notebook and install the required libraries. We recommend using the [Conda](https://docs.conda.io/projects/conda/en/latest/user-guide/install/) distribution of Python. \n",
        "\n",
        ">  **Jupyter Notebooks**: This tutorial is a [Jupyter notebook](https://jupyter.org) - a document made of _cells_. Each cell can contain code written in Python or explanations in plain English. You can execute code cells and view the results, e.g., numbers, messages, graphs, tables, files, etc. instantly within the notebook. Jupyter is a powerful platform for experimentation and analysis. Don't be afraid to mess around with the code & break things - you'll learn a lot by encountering and fixing errors. You can use the \"Kernel > Restart & Clear Output\" or \"Edit > Clear Outputs\" menu option to clear all outputs and start again from the top."
      ]
    },
    {
      "cell_type": "markdown",
      "metadata": {
        "id": "j9-7wXbBDLJ8"
      },
      "source": [
        "Before we begin, we need to install the required libraries. The installation of PyTorch may differ based on your operating system / cloud environment. You can find detailed installation instructions here: https://pytorch.org .\n"
      ]
    },
    {
      "cell_type": "code",
      "metadata": {
        "id": "6TwMO0ZgC_9R"
      },
      "source": [
        "# Uncomment and run the appropriate command for your operating system, if required\n",
        "\n",
        "# Linux / Binder\n",
        "# !pip install numpy torch==1.7.0+cpu torchvision==0.8.1+cpu torchaudio==0.7.0 -f https://download.pytorch.org/whl/torch_stable.html\n",
        "\n",
        "# Windows\n",
        "# !pip install numpy torch==1.7.0+cpu torchvision==0.8.1+cpu torchaudio==0.7.0 -f https://download.pytorch.org/whl/torch_stable.html\n",
        "\n",
        "# MacOS\n",
        "# !pip install numpy torch torchvision torchaudio"
      ],
      "execution_count": 3,
      "outputs": []
    },
    {
      "cell_type": "markdown",
      "metadata": {
        "id": "ShFbhX1yDTct"
      },
      "source": [
        "Let's import the torch module to get started"
      ]
    },
    {
      "cell_type": "code",
      "metadata": {
        "id": "TXjE0LLMC_-E"
      },
      "source": [
        "import torch"
      ],
      "execution_count": 4,
      "outputs": []
    },
    {
      "cell_type": "markdown",
      "metadata": {
        "id": "Tj3dCnPOC6GX"
      },
      "source": [
        "## Tensors\n",
        "\n",
        "At its core, PyTorch is a library for processing tensors. \n",
        "\n",
        "A torch.Tensor is a multi-dimensional matrix containing elements of a single data type.\n",
        "\n",
        "Torch defines 10 tensor types with CPU and GPU variants which can be found on it's offcial [documentation page](https://pytorch.org/docs/stable/tensors.html)"
      ]
    },
    {
      "cell_type": "code",
      "metadata": {
        "colab": {
          "base_uri": "https://localhost:8080/"
        },
        "id": "J56sl_YXDh7C",
        "outputId": "c0e60947-9672-4f79-bf3d-5c5ae3b76984"
      },
      "source": [
        "# Number\n",
        "t1 = torch.tensor(4.)\n",
        "t1"
      ],
      "execution_count": 5,
      "outputs": [
        {
          "output_type": "execute_result",
          "data": {
            "text/plain": [
              "tensor(4.)"
            ]
          },
          "metadata": {},
          "execution_count": 5
        }
      ]
    },
    {
      "cell_type": "code",
      "metadata": {
        "colab": {
          "base_uri": "https://localhost:8080/"
        },
        "id": "JqXBXIWRG5bu",
        "outputId": "7eb1c6b6-22c7-43ea-aa41-0acb256b96dd"
      },
      "source": [
        "# Vector\n",
        "t2 = torch.tensor([1., 2, 3, 4])\n",
        "t2"
      ],
      "execution_count": 6,
      "outputs": [
        {
          "output_type": "execute_result",
          "data": {
            "text/plain": [
              "tensor([1., 2., 3., 4.])"
            ]
          },
          "metadata": {},
          "execution_count": 6
        }
      ]
    },
    {
      "cell_type": "code",
      "metadata": {
        "colab": {
          "base_uri": "https://localhost:8080/"
        },
        "id": "BeyA_mK0HGiH",
        "outputId": "d9d11114-f272-4edc-e016-e8a82eee4a66"
      },
      "source": [
        "# Matrix\n",
        "t3 = torch.tensor([[5., 6], \n",
        "                   [7, 8], \n",
        "                   [9, 10]])\n",
        "t3"
      ],
      "execution_count": 7,
      "outputs": [
        {
          "output_type": "execute_result",
          "data": {
            "text/plain": [
              "tensor([[ 5.,  6.],\n",
              "        [ 7.,  8.],\n",
              "        [ 9., 10.]])"
            ]
          },
          "metadata": {},
          "execution_count": 7
        }
      ]
    },
    {
      "cell_type": "code",
      "metadata": {
        "colab": {
          "base_uri": "https://localhost:8080/"
        },
        "id": "SIo_5pnuHNVk",
        "outputId": "b334a2d6-672e-4d71-d00d-3e296190e651"
      },
      "source": [
        "# 3-dimensional array\n",
        "t4 = torch.tensor([\n",
        "    [[11, 12, 13], \n",
        "     [13, 14, 15]], \n",
        "    [[15, 16, 17], \n",
        "     [17, 18, 19.]]])\n",
        "t4"
      ],
      "execution_count": 8,
      "outputs": [
        {
          "output_type": "execute_result",
          "data": {
            "text/plain": [
              "tensor([[[11., 12., 13.],\n",
              "         [13., 14., 15.]],\n",
              "\n",
              "        [[15., 16., 17.],\n",
              "         [17., 18., 19.]]])"
            ]
          },
          "metadata": {},
          "execution_count": 8
        }
      ]
    },
    {
      "cell_type": "markdown",
      "metadata": {
        "id": "rH85EKKzInCV"
      },
      "source": [
        "The contents of a tensor can be accessed and modified using Python’s indexing and slicing notation:"
      ]
    },
    {
      "cell_type": "code",
      "metadata": {
        "colab": {
          "base_uri": "https://localhost:8080/"
        },
        "id": "Flds8LgdIoBY",
        "outputId": "ebb8da7a-2e65-43b6-fbd4-6bd25cfbae47"
      },
      "source": [
        "t5 = torch.tensor([[1,2,3],\n",
        "                   [4,5,6]])\n",
        "t5[0,1]"
      ],
      "execution_count": 9,
      "outputs": [
        {
          "output_type": "execute_result",
          "data": {
            "text/plain": [
              "tensor(2)"
            ]
          },
          "metadata": {},
          "execution_count": 9
        }
      ]
    },
    {
      "cell_type": "code",
      "metadata": {
        "colab": {
          "base_uri": "https://localhost:8080/"
        },
        "id": "Q-KYWbl7I2CB",
        "outputId": "ce1b339c-4fe3-43e8-a7a7-49edad073c6a"
      },
      "source": [
        "t5[1,2]=0\n",
        "t5"
      ],
      "execution_count": 10,
      "outputs": [
        {
          "output_type": "execute_result",
          "data": {
            "text/plain": [
              "tensor([[1, 2, 3],\n",
              "        [4, 5, 0]])"
            ]
          },
          "metadata": {},
          "execution_count": 10
        }
      ]
    },
    {
      "cell_type": "markdown",
      "metadata": {
        "id": "QAZ1TjgMJxpU"
      },
      "source": [
        "Tensors can have any number of dimensions and different lengths along each dimension. We can inspect the length along each dimension using the `.shape` property of a tensor."
      ]
    },
    {
      "cell_type": "code",
      "metadata": {
        "colab": {
          "base_uri": "https://localhost:8080/"
        },
        "id": "aOoNe8lwI8Cp",
        "outputId": "a5aac82c-3cc4-48fd-8c4e-f94f8826c7ea"
      },
      "source": [
        "print(t1)\n",
        "t1.shape"
      ],
      "execution_count": 11,
      "outputs": [
        {
          "output_type": "stream",
          "name": "stdout",
          "text": [
            "tensor(4.)\n"
          ]
        },
        {
          "output_type": "execute_result",
          "data": {
            "text/plain": [
              "torch.Size([])"
            ]
          },
          "metadata": {},
          "execution_count": 11
        }
      ]
    },
    {
      "cell_type": "code",
      "metadata": {
        "colab": {
          "base_uri": "https://localhost:8080/"
        },
        "id": "Gu8ymOoKKBJ1",
        "outputId": "ba561e1f-6ea7-4f02-f06d-dcb10901a62b"
      },
      "source": [
        "print(t2)\n",
        "t2.shape"
      ],
      "execution_count": 12,
      "outputs": [
        {
          "output_type": "stream",
          "name": "stdout",
          "text": [
            "tensor([1., 2., 3., 4.])\n"
          ]
        },
        {
          "output_type": "execute_result",
          "data": {
            "text/plain": [
              "torch.Size([4])"
            ]
          },
          "metadata": {},
          "execution_count": 12
        }
      ]
    },
    {
      "cell_type": "code",
      "metadata": {
        "colab": {
          "base_uri": "https://localhost:8080/"
        },
        "id": "hh2fojMWK-BW",
        "outputId": "10a09e0f-5a9e-4160-a25d-d25813f6f045"
      },
      "source": [
        "print(t3)\n",
        "t3.shape"
      ],
      "execution_count": 13,
      "outputs": [
        {
          "output_type": "stream",
          "name": "stdout",
          "text": [
            "tensor([[ 5.,  6.],\n",
            "        [ 7.,  8.],\n",
            "        [ 9., 10.]])\n"
          ]
        },
        {
          "output_type": "execute_result",
          "data": {
            "text/plain": [
              "torch.Size([3, 2])"
            ]
          },
          "metadata": {},
          "execution_count": 13
        }
      ]
    },
    {
      "cell_type": "code",
      "metadata": {
        "colab": {
          "base_uri": "https://localhost:8080/"
        },
        "id": "Pi2YAb_oLAjo",
        "outputId": "4ce2c76c-8bc1-4160-d937-d31d8dccdb93"
      },
      "source": [
        "print(t4)\n",
        "t4.shape"
      ],
      "execution_count": 14,
      "outputs": [
        {
          "output_type": "stream",
          "name": "stdout",
          "text": [
            "tensor([[[11., 12., 13.],\n",
            "         [13., 14., 15.]],\n",
            "\n",
            "        [[15., 16., 17.],\n",
            "         [17., 18., 19.]]])\n"
          ]
        },
        {
          "output_type": "execute_result",
          "data": {
            "text/plain": [
              "torch.Size([2, 2, 3])"
            ]
          },
          "metadata": {},
          "execution_count": 14
        }
      ]
    },
    {
      "cell_type": "code",
      "metadata": {
        "colab": {
          "base_uri": "https://localhost:8080/"
        },
        "id": "Tw0x_7U-LCKs",
        "outputId": "c15db071-ac33-45dc-d7d4-033574e047b2"
      },
      "source": [
        "print(t5)\n",
        "t5.shape"
      ],
      "execution_count": 15,
      "outputs": [
        {
          "output_type": "stream",
          "name": "stdout",
          "text": [
            "tensor([[1, 2, 3],\n",
            "        [4, 5, 0]])\n"
          ]
        },
        {
          "output_type": "execute_result",
          "data": {
            "text/plain": [
              "torch.Size([2, 3])"
            ]
          },
          "metadata": {},
          "execution_count": 15
        }
      ]
    },
    {
      "cell_type": "markdown",
      "metadata": {
        "id": "LBDMBBawLNgA"
      },
      "source": [
        "Note that it's not possible to create tensors with an improper shape."
      ]
    },
    {
      "cell_type": "code",
      "metadata": {
        "colab": {
          "base_uri": "https://localhost:8080/",
          "height": 225
        },
        "id": "lebfkiKnLKXY",
        "outputId": "c5cd5754-9ff5-4c39-a3af-3df7f14a2c88"
      },
      "source": [
        "# Matrix\n",
        "t6 = torch.tensor([[5., 6, 11], \n",
        "                   [7, 8], \n",
        "                   [9, 10]])\n",
        "t6"
      ],
      "execution_count": 16,
      "outputs": [
        {
          "output_type": "error",
          "ename": "ValueError",
          "evalue": "ignored",
          "traceback": [
            "\u001b[0;31m---------------------------------------------------------------------------\u001b[0m",
            "\u001b[0;31mValueError\u001b[0m                                Traceback (most recent call last)",
            "\u001b[0;32m<ipython-input-16-cfac44a66f89>\u001b[0m in \u001b[0;36m<module>\u001b[0;34m()\u001b[0m\n\u001b[1;32m      2\u001b[0m t6 = torch.tensor([[5., 6, 11], \n\u001b[1;32m      3\u001b[0m                    \u001b[0;34m[\u001b[0m\u001b[0;36m7\u001b[0m\u001b[0;34m,\u001b[0m \u001b[0;36m8\u001b[0m\u001b[0;34m]\u001b[0m\u001b[0;34m,\u001b[0m\u001b[0;34m\u001b[0m\u001b[0;34m\u001b[0m\u001b[0m\n\u001b[0;32m----> 4\u001b[0;31m                    [9, 10]])\n\u001b[0m\u001b[1;32m      5\u001b[0m \u001b[0mt6\u001b[0m\u001b[0;34m\u001b[0m\u001b[0;34m\u001b[0m\u001b[0m\n",
            "\u001b[0;31mValueError\u001b[0m: expected sequence of length 3 at dim 1 (got 2)"
          ]
        }
      ]
    },
    {
      "cell_type": "markdown",
      "metadata": {
        "id": "XgVu6jwQLjck"
      },
      "source": [
        "### Tensor operations and gradients\n",
        "\n",
        "We can combine tensors with the usual arithmetic operations. Let's look at an example:"
      ]
    },
    {
      "cell_type": "code",
      "metadata": {
        "id": "ou01OygoLQKi"
      },
      "source": [
        "x = torch.tensor(2.)\n",
        "y = torch.tensor(5., requires_grad=True)\n",
        "z = torch.tensor(7., requires_grad=True)"
      ],
      "execution_count": 17,
      "outputs": []
    },
    {
      "cell_type": "markdown",
      "metadata": {
        "id": "APBlgzZWMGNM"
      },
      "source": [
        "We have creates 3 tensors `x`,`y` and `z` with 2 of them having gradient set to `True`"
      ]
    },
    {
      "cell_type": "code",
      "metadata": {
        "colab": {
          "base_uri": "https://localhost:8080/"
        },
        "id": "ZtZhmAUoMUOw",
        "outputId": "363a601f-822c-4e4f-819f-cf616164b963"
      },
      "source": [
        "#Arithmetic Operation\n",
        "f = x * y + z\n",
        "f"
      ],
      "execution_count": 18,
      "outputs": [
        {
          "output_type": "execute_result",
          "data": {
            "text/plain": [
              "tensor(17., grad_fn=<AddBackward0>)"
            ]
          },
          "metadata": {},
          "execution_count": 18
        }
      ]
    },
    {
      "cell_type": "markdown",
      "metadata": {
        "id": "S3fVpFd2NCgV"
      },
      "source": [
        "What makes PyTorch unique is that we can automatically compute the derivative of `f` w.r.t. the tensors that have `requires_grad` set to `True` i.e. w and b. This feature of PyTorch is called [_autograd_](https://pytorch.org/docs/stable/autograd.html#module-torch.autograd) (automatic gradients).\n",
        "\n",
        "To compute the derivatives, we can invoke the `.backward` method on our result `y`.\n"
      ]
    },
    {
      "cell_type": "code",
      "metadata": {
        "id": "3ZFn4zvDN5bo"
      },
      "source": [
        "# Compute derivatives\n",
        "f.backward()"
      ],
      "execution_count": 19,
      "outputs": []
    },
    {
      "cell_type": "markdown",
      "metadata": {
        "id": "-TtyCr3hOF-S"
      },
      "source": [
        "The derivatives of `f` with respect to the input tensors are stored in the `.grad` property of the respective tensors."
      ]
    },
    {
      "cell_type": "code",
      "metadata": {
        "colab": {
          "base_uri": "https://localhost:8080/"
        },
        "id": "6IuPsIR7OAwK",
        "outputId": "2b6809b3-bc0b-4f79-ef94-a5b14401edcf"
      },
      "source": [
        "# Display gradients\n",
        "print('df/dx:', x.grad)\n",
        "print('df/dy:', y.grad)\n",
        "print('df/dz:', z.grad)"
      ],
      "execution_count": 20,
      "outputs": [
        {
          "output_type": "stream",
          "name": "stdout",
          "text": [
            "df/dx: None\n",
            "df/dy: tensor(2.)\n",
            "df/dz: tensor(1.)\n"
          ]
        }
      ]
    },
    {
      "cell_type": "markdown",
      "metadata": {
        "id": "vyyKgLjRPHSc"
      },
      "source": [
        "### Tensor functions\n",
        "\n",
        "Apart from arithmetic operations, the `torch` module also contains many functions for creating and manipulating tensors. Let's look at some examples."
      ]
    },
    {
      "cell_type": "code",
      "metadata": {
        "colab": {
          "base_uri": "https://localhost:8080/"
        },
        "id": "csePshaYOMDn",
        "outputId": "adc10529-574f-4769-d8f2-c7ac3e96e8c8"
      },
      "source": [
        "# Create a tensor with a fixed value for every element\n",
        "t7 = torch.full((3, 2), 31)\n",
        "t7"
      ],
      "execution_count": 21,
      "outputs": [
        {
          "output_type": "execute_result",
          "data": {
            "text/plain": [
              "tensor([[31, 31],\n",
              "        [31, 31],\n",
              "        [31, 31]])"
            ]
          },
          "metadata": {},
          "execution_count": 21
        }
      ]
    },
    {
      "cell_type": "code",
      "metadata": {
        "colab": {
          "base_uri": "https://localhost:8080/"
        },
        "id": "eCejSQT4P5Px",
        "outputId": "fc9fd5a6-c20e-4c16-8ae8-8c615349c4b1"
      },
      "source": [
        "# Concatenate two tensors with compatible shapes\n",
        "t8 = torch.cat((t3, t7))\n",
        "t8"
      ],
      "execution_count": 25,
      "outputs": [
        {
          "output_type": "execute_result",
          "data": {
            "text/plain": [
              "tensor([[ 5.,  6.],\n",
              "        [ 7.,  8.],\n",
              "        [ 9., 10.],\n",
              "        [31., 31.],\n",
              "        [31., 31.],\n",
              "        [31., 31.]])"
            ]
          },
          "metadata": {},
          "execution_count": 25
        }
      ]
    },
    {
      "cell_type": "code",
      "metadata": {
        "colab": {
          "base_uri": "https://localhost:8080/"
        },
        "id": "TZ7M817PP8v7",
        "outputId": "7a75536d-1890-43cb-f753-754e67435af1"
      },
      "source": [
        "# Compute the cos of each element\n",
        "t9 = torch.cos(t8)\n",
        "t9"
      ],
      "execution_count": 26,
      "outputs": [
        {
          "output_type": "execute_result",
          "data": {
            "text/plain": [
              "tensor([[ 0.2837,  0.9602],\n",
              "        [ 0.7539, -0.1455],\n",
              "        [-0.9111, -0.8391],\n",
              "        [ 0.9147,  0.9147],\n",
              "        [ 0.9147,  0.9147],\n",
              "        [ 0.9147,  0.9147]])"
            ]
          },
          "metadata": {},
          "execution_count": 26
        }
      ]
    },
    {
      "cell_type": "code",
      "metadata": {
        "colab": {
          "base_uri": "https://localhost:8080/"
        },
        "id": "hJZic22OQAgC",
        "outputId": "3b847de6-4cb2-49e1-c77f-c8139a5bba18"
      },
      "source": [
        "# Change the shape of a tensor\n",
        "t10 = t9.reshape(3, 2, 2)\n",
        "t10"
      ],
      "execution_count": 32,
      "outputs": [
        {
          "output_type": "execute_result",
          "data": {
            "text/plain": [
              "tensor([[[ 0.2837,  0.9602],\n",
              "         [ 0.7539, -0.1455]],\n",
              "\n",
              "        [[-0.9111, -0.8391],\n",
              "         [ 0.9147,  0.9147]],\n",
              "\n",
              "        [[ 0.9147,  0.9147],\n",
              "         [ 0.9147,  0.9147]]])"
            ]
          },
          "metadata": {},
          "execution_count": 32
        }
      ]
    },
    {
      "cell_type": "markdown",
      "metadata": {
        "id": "WtvU2PuvOahw"
      },
      "source": [
        "Let's look at difference between 2 very similar functions:"
      ]
    },
    {
      "cell_type": "code",
      "metadata": {
        "colab": {
          "base_uri": "https://localhost:8080/"
        },
        "id": "cMxanMORNSl9",
        "outputId": "5410ef92-952a-4f40-e32d-2a376b196c52"
      },
      "source": [
        "#Difference between 2 PyTorch Functions:  view & permute\n",
        "\n",
        "x = torch.rand(2,4) #generates a random tensor of 2x4\n",
        "\n",
        "print('x:', x)\n",
        "\n",
        "print('shape:', x.shape)\n",
        "\n",
        "\n",
        "\n",
        "y = x.view(4, 2) #view the tensor as 4x2\n",
        "\n",
        "print('y:', y)\n",
        "\n",
        "print('shape:', y.shape)\n",
        "\n",
        "\n",
        "\n",
        "z = x.permute(1, 0) #works like transpose of a matrix\n",
        "\n",
        "print('z:', z)\n",
        "\n",
        "print('shape:', z.shape)"
      ],
      "execution_count": 35,
      "outputs": [
        {
          "output_type": "stream",
          "name": "stdout",
          "text": [
            "x: tensor([[0.1001, 0.1410, 0.9418, 0.5167],\n",
            "        [0.6634, 0.4888, 0.3876, 0.4063]])\n",
            "shape: torch.Size([2, 4])\n",
            "y: tensor([[0.1001, 0.1410],\n",
            "        [0.9418, 0.5167],\n",
            "        [0.6634, 0.4888],\n",
            "        [0.3876, 0.4063]])\n",
            "shape: torch.Size([4, 2])\n",
            "z: tensor([[0.1001, 0.6634],\n",
            "        [0.1410, 0.4888],\n",
            "        [0.9418, 0.3876],\n",
            "        [0.5167, 0.4063]])\n",
            "shape: torch.Size([4, 2])\n"
          ]
        }
      ]
    },
    {
      "cell_type": "markdown",
      "metadata": {
        "id": "oQRsB-EQOnyh"
      },
      "source": [
        "You can find more useful functions in the official documentation [here](https://pytorch.org/docs/stable/torch.html)"
      ]
    },
    {
      "cell_type": "markdown",
      "metadata": {
        "id": "rowOSvw_Qtgr"
      },
      "source": [
        "## Interoperability with Numpy\n",
        "\n",
        "[Numpy](http://www.numpy.org/) is a popular open-source library used for mathematical and scientific computing in Python. It enables efficient operations on large multi-dimensional arrays and has a vast ecosystem of supporting libraries, including:\n",
        "\n",
        "* [Pandas](https://pandas.pydata.org/) for file I/O and data analysis\n",
        "* [Matplotlib](https://matplotlib.org/) for plotting and visualization\n",
        "* [OpenCV](https://opencv.org/) for image and video processing\n",
        "\n",
        "Instead of reinventing the wheel, PyTorch interoperates well with Numpy to leverage its existing ecosystem of tools and libraries."
      ]
    },
    {
      "cell_type": "code",
      "metadata": {
        "colab": {
          "base_uri": "https://localhost:8080/"
        },
        "id": "pLj7kA77Qh1F",
        "outputId": "8d2fe9e4-d174-4dae-9edc-d94806350b94"
      },
      "source": [
        "import numpy as np\n",
        "\n",
        "x = np.array([[1, 2], [3, 4.]])\n",
        "x"
      ],
      "execution_count": 28,
      "outputs": [
        {
          "output_type": "execute_result",
          "data": {
            "text/plain": [
              "array([[1., 2.],\n",
              "       [3., 4.]])"
            ]
          },
          "metadata": {},
          "execution_count": 28
        }
      ]
    },
    {
      "cell_type": "markdown",
      "metadata": {
        "id": "4IQlhVyMQ5gz"
      },
      "source": [
        "We can convert a Numpy array to a PyTorch tensor using `torch.from_numpy`."
      ]
    },
    {
      "cell_type": "code",
      "metadata": {
        "colab": {
          "base_uri": "https://localhost:8080/"
        },
        "id": "MKkGGJwMQ7ub",
        "outputId": "0c3cf251-1013-4ec9-f430-d3ea787e7717"
      },
      "source": [
        "# Convert the numpy array to a torch tensor.\n",
        "y = torch.from_numpy(x)\n",
        "y"
      ],
      "execution_count": 29,
      "outputs": [
        {
          "output_type": "execute_result",
          "data": {
            "text/plain": [
              "tensor([[1., 2.],\n",
              "        [3., 4.]], dtype=torch.float64)"
            ]
          },
          "metadata": {},
          "execution_count": 29
        }
      ]
    },
    {
      "cell_type": "markdown",
      "metadata": {
        "id": "VGJRChy6LgfO"
      },
      "source": [
        "Numpy array and Torch tensor will have similar datatype:"
      ]
    },
    {
      "cell_type": "code",
      "metadata": {
        "id": "srT46WzbQ8qV",
        "colab": {
          "base_uri": "https://localhost:8080/"
        },
        "outputId": "f6829b7d-a783-4255-df96-67a193456cf6"
      },
      "source": [
        "x.dtype, y.dtype"
      ],
      "execution_count": 30,
      "outputs": [
        {
          "output_type": "execute_result",
          "data": {
            "text/plain": [
              "(dtype('float64'), torch.float64)"
            ]
          },
          "metadata": {},
          "execution_count": 30
        }
      ]
    },
    {
      "cell_type": "markdown",
      "metadata": {
        "id": "fpMQY_bYLtCa"
      },
      "source": [
        "We can convert a PyTorch tensor to a Numpy array using the `.numpy` method of a tensor."
      ]
    },
    {
      "cell_type": "code",
      "metadata": {
        "colab": {
          "base_uri": "https://localhost:8080/"
        },
        "id": "UGVp2UCtLFag",
        "outputId": "0e50b4f4-bfaa-411e-bdbe-5c07daf37f3c"
      },
      "source": [
        "# Convert a torch tensor to a numpy array\n",
        "z = y.numpy()\n",
        "z"
      ],
      "execution_count": 31,
      "outputs": [
        {
          "output_type": "execute_result",
          "data": {
            "text/plain": [
              "array([[1., 2.],\n",
              "       [3., 4.]])"
            ]
          },
          "metadata": {},
          "execution_count": 31
        }
      ]
    },
    {
      "cell_type": "markdown",
      "metadata": {
        "id": "mYHQVQZDMKPJ"
      },
      "source": [
        "The interoperability between PyTorch and Numpy is essential because most datasets you'll work with will likely be read and preprocessed as Numpy arrays.\n"
      ]
    },
    {
      "cell_type": "markdown",
      "metadata": {
        "id": "mDe5iZnnL9-b"
      },
      "source": [
        "### But why do we even need Pytorch? "
      ]
    },
    {
      "cell_type": "markdown",
      "metadata": {
        "id": "ypRUHjH_MFUG"
      },
      "source": [
        "You might wonder why we need a library like PyTorch at all since Numpy already provides data structures and utilities for working with multi-dimensional numeric data. There are two main reasons:\n",
        "\n",
        "1. **Autograd**: The ability to automatically compute gradients for tensor operations is essential for training deep learning models.\n",
        "2. **GPU support**: While working with massive datasets and large models, PyTorch tensor operations can be performed efficiently using a Graphics Processing Unit (GPU). Computations that might typically take hours can be completed within minutes using GPUs.\n"
      ]
    }
  ]
}