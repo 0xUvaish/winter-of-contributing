{
  "nbformat": 4,
  "nbformat_minor": 0,
  "metadata": {
    "colab": {
      "name": "basic_ml_code.ipynb",
      "provenance": []
    },
    "kernelspec": {
      "name": "python3",
      "display_name": "Python 3"
    },
    "language_info": {
      "name": "python"
    }
  },
  "cells": [
    {
      "cell_type": "markdown",
      "metadata": {
        "id": "foAr_OY0ekeH"
      },
      "source": [
        "# **BASIC LINEAR REGRESSION MODEL**\n",
        "The basic idea of any machine learning model is that it is exposed to a large number of inputs and also supplied the output applicable for them. On analysing more and more data, it tries to figure out the relationship between input and the result.\n",
        "<p align=\"center\">\n",
        "  <img width=\"450\" height=\"300\" src=\"https://miro.medium.com/max/875/1*saKqNtSnrKdVVEC772ewzw.png\">\n",
        "</p>"
      ]
    },
    {
      "cell_type": "markdown",
      "metadata": {
        "id": "99FB0oQofBit"
      },
      "source": [
        "GENERATE THE TRAINING DATASET"
      ]
    },
    {
      "cell_type": "code",
      "metadata": {
        "id": "6Nfj-O3fd2M4"
      },
      "source": [
        "from random import randint\n",
        "TRAIN_SET_LIMIT = 1000\n",
        "TRAIN_SET_COUNT = 100\n",
        "\n",
        "TRAIN_INPUT = list()\n",
        "TRAIN_OUTPUT = list()\n",
        "for i in range(TRAIN_SET_COUNT):\n",
        "    a = randint(0, TRAIN_SET_LIMIT)\n",
        "    b = randint(0, TRAIN_SET_LIMIT)\n",
        "    c = randint(0, TRAIN_SET_LIMIT)\n",
        "    op = a + (2*b) + (3*c)\n",
        "    TRAIN_INPUT.append([a, b, c])\n",
        "    TRAIN_OUTPUT.append(op)"
      ],
      "execution_count": 1,
      "outputs": []
    },
    {
      "cell_type": "markdown",
      "metadata": {
        "id": "ccdK0NZafFJG"
      },
      "source": [
        "TRAIN THE INITIALIZED MODEL"
      ]
    },
    {
      "cell_type": "code",
      "metadata": {
        "colab": {
          "base_uri": "https://localhost:8080/"
        },
        "id": "kwNXxavHd8EO",
        "outputId": "a374d11d-2f3f-48b2-d094-519c1f270e8b"
      },
      "source": [
        "from sklearn.linear_model import LinearRegression\n",
        "\n",
        "predictor = LinearRegression(n_jobs=-1)\n",
        "predictor.fit(X=TRAIN_INPUT, y=TRAIN_OUTPUT)"
      ],
      "execution_count": 2,
      "outputs": [
        {
          "output_type": "execute_result",
          "data": {
            "text/plain": [
              "LinearRegression(copy_X=True, fit_intercept=True, n_jobs=-1, normalize=False)"
            ]
          },
          "metadata": {},
          "execution_count": 2
        }
      ]
    },
    {
      "cell_type": "markdown",
      "metadata": {
        "id": "YYWGQxOJfHJu"
      },
      "source": [
        "USE TEST DATA TO PREDICT OUTPUT"
      ]
    },
    {
      "cell_type": "code",
      "metadata": {
        "colab": {
          "base_uri": "https://localhost:8080/"
        },
        "id": "ens81GXVd7pm",
        "outputId": "81466ede-8e31-4039-b2d0-112305bf2028"
      },
      "source": [
        "\n",
        "X_TEST = [[10, 20, 30]]\n",
        "outcome = predictor.predict(X=X_TEST)\n",
        "coefficients = predictor.coef_\n",
        "\n",
        "print('Outcome : {}\\nCoefficients : {}'.format(outcome, coefficients))"
      ],
      "execution_count": 3,
      "outputs": [
        {
          "output_type": "stream",
          "name": "stdout",
          "text": [
            "Outcome : [140.]\n",
            "Coefficients : [1. 2. 3.]\n"
          ]
        }
      ]
    }
  ]
}