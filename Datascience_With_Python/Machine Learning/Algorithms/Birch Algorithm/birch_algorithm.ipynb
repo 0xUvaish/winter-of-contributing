{
 "cells": [
  {
   "cell_type": "markdown",
   "id": "a6b43c89",
   "metadata": {},
   "source": [
    "## Implementing Birch Algorithm on Randomly Created Datasets"
   ]
  },
  {
   "cell_type": "markdown",
   "id": "19ce4ed9",
   "metadata": {},
   "source": [
    "BIRCH (Balanced Iterative Reducing and Clustering hierarchies) is a clustering algorithm in machine learning that has been specially designed for clustering on a very large data set. It is often faster than other clustering algorithms like batch K-Means. It provides a very similar result to the batch K-Means algorithm if the number of features in the dataset is not more than 20.\n",
    "\n",
    "When training the model using the BIRCH algorithm, it creates a tree structure with enough data to quickly assign each data point to a cluster. By storing all the data points in the tree, this algorithm allows the use of limited memory while working on a very large data set. In the section below, I will take you through its implementation by using the Python programming language."
   ]
  },
  {
   "cell_type": "markdown",
   "id": "2a996c09",
   "metadata": {},
   "source": [
    "## There are mainly four phases which are followed by the algorithm of BIRCH. \n",
    "\n",
    "### Scanning data into memory\n",
    "### Condense data(resize data)\n",
    "### Global clustering.  \n",
    "### Refining clusters.\n",
    "\n",
    "In these four phases, two of them (resize data and refining clusters) are optional. They come in the process when more clarity is required. But scanning data is just like loading data into a model. After loading the data, the algorithm scans the whole data and fits them into the CF trees. In condensing, it resets and resizes the data for better fitting into the CF tree. In global clustering, it sends  CF trees for clustering using existing clustering algorithms. Finally, refining fixes the problem of CF trees where the same valued points are assigned to different leaf nodes."
   ]
  },
  {
   "cell_type": "markdown",
   "id": "fa83901c",
   "metadata": {},
   "source": [
    "Scikit Learn provides the module for direct implementation of BIRCH under the cluster class packages. We need to provide values to the parameters according to the requirement.\n",
    "\n",
    "### There are three parameters in the BIRCH algorithm.\n",
    "\n",
    "#### Threshold  \n",
    "The maximum number of data samples to be considered in a  subcluster of the leaf node in a CF tree.\n",
    "#### Branching_factor \n",
    "It is the factor that is used to specify the number of CF sub-clusters that can be made in a node.\n",
    "#### N_clusters \n",
    "Number of clusters after the final clustering step, which treats the subclusters from the leaves as new samples."
   ]
  },
  {
   "cell_type": "markdown",
   "id": "f0adbe93",
   "metadata": {},
   "source": [
    "## Importing Libraries"
   ]
  },
  {
   "cell_type": "code",
   "execution_count": 9,
   "id": "d03bc5e7",
   "metadata": {},
   "outputs": [],
   "source": [
    "import matplotlib.pyplot as plt #Used for plotting graphs\n",
    "from sklearn.datasets import make_blobs #Used for creating random dataset\n",
    "from sklearn.cluster import Birch #Birch is provided under Scikit-Learn"
   ]
  },
  {
   "cell_type": "markdown",
   "id": "315cf0c2",
   "metadata": {},
   "source": [
    "## Generating Dataset"
   ]
  },
  {
   "cell_type": "code",
   "execution_count": 10,
   "id": "11cb1ca1",
   "metadata": {},
   "outputs": [
    {
     "data": {
      "text/plain": [
       "(1000, 2)"
      ]
     },
     "execution_count": 10,
     "metadata": {},
     "output_type": "execute_result"
    }
   ],
   "source": [
    "data, clusters = make_blobs(n_samples = 1000, centers = 12, cluster_std = 0.50, random_state = 0)\n",
    "#We are creating a dataset with 1000 arbitary points which will be equally divided among 12 cluster points , \n",
    "#with each cluster's standard deviation as 0.5\n",
    "data.shape"
   ]
  },
  {
   "cell_type": "markdown",
   "id": "7769a6ec",
   "metadata": {},
   "source": [
    "## Creating a Birch Model"
   ]
  },
  {
   "cell_type": "code",
   "execution_count": 11,
   "id": "edf3c177",
   "metadata": {},
   "outputs": [],
   "source": [
    "model = Birch(branching_factor = 50, n_clusters = None, threshold = 1.5)\n",
    "#With branching factor as 50 , we have specified max no of subclusters in each node as 50 , \n",
    "#the final clustering step won't be performed as we have defined None to n_clusters , \n",
    "#and the radius of cluster will be decided by the threshold."
   ]
  },
  {
   "cell_type": "markdown",
   "id": "03840348",
   "metadata": {},
   "source": [
    "## Fitting the data "
   ]
  },
  {
   "cell_type": "code",
   "execution_count": 12,
   "id": "24222338",
   "metadata": {},
   "outputs": [
    {
     "data": {
      "text/plain": [
       "Birch(n_clusters=None, threshold=1.5)"
      ]
     },
     "execution_count": 12,
     "metadata": {},
     "output_type": "execute_result"
    }
   ],
   "source": [
    "model.fit(data)"
   ]
  },
  {
   "cell_type": "markdown",
   "id": "81ca0876",
   "metadata": {},
   "source": [
    "Creating the prediction"
   ]
  },
  {
   "cell_type": "code",
   "execution_count": 13,
   "id": "c5f8f3d4",
   "metadata": {},
   "outputs": [],
   "source": [
    "pred = model.predict(data)"
   ]
  },
  {
   "cell_type": "markdown",
   "id": "e9c9e83e",
   "metadata": {},
   "source": [
    "Plotting the results"
   ]
  },
  {
   "cell_type": "code",
   "execution_count": 28,
   "id": "d8f1e15c",
   "metadata": {},
   "outputs": [
    {
     "data": {
      "image/png": "[encoded data removed]",
      "text/plain": [
       "<Figure size 432x288 with 1 Axes>"
      ]
     },
     "metadata": {
      "needs_background": "light"
     },
     "output_type": "display_data"
    }
   ],
   "source": [
    "plt.scatter(data[:, 0], data[:, 1], c = pred , cmap='magma')\n",
    "plt.show()"
   ]
  },
  {
   "cell_type": "markdown",
   "id": "42cde7b8",
   "metadata": {},
   "source": [
    "# Thanks a Lot !"
   ]
  }
 ],
 "metadata": {
  "kernelspec": {
   "display_name": "Python 3",
   "language": "python",
   "name": "python3"
  },
  "language_info": {
   "codemirror_mode": {
    "name": "ipython",
    "version": 3
   },
   "file_extension": ".py",
   "mimetype": "text/x-python",
   "name": "python",
   "nbconvert_exporter": "python",
   "pygments_lexer": "ipython3",
   "version": "3.8.8"
  }
 },
 "nbformat": 4,
 "nbformat_minor": 5
}
