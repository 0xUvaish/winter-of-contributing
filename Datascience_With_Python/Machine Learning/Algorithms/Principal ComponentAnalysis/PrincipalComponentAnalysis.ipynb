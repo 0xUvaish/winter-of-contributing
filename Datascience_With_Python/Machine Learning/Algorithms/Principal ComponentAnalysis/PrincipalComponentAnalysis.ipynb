{
  "nbformat": 4,
  "nbformat_minor": 0,
  "metadata": {
    "colab": {
      "name": "PrincipalComponentAnalysis.ipynb",
      "provenance": [],
      "collapsed_sections": []
    },
    "kernelspec": {
      "name": "python3",
      "display_name": "Python 3"
    },
    "language_info": {
      "name": "python"
    }
  },
  "cells": [
    {
      "cell_type": "markdown",
      "metadata": {
        "id": "wlYDlfUjoTLX"
      },
      "source": [
        "Principal Component Analysis (or PCA in short) is defined as a linear dimensionality reduction technique which is employed for extracting information from a high-dimensional space by projecting it into a lower-dimensional sub-space. It tries to preserve the essential parts that have more variation of the data and eliminate the non-essential parts with fewer variations.\n",
        "Now if you don't know what is dimension or variance? Then don't worry, at the end of this article you'll understand all the things.\n",
        "\n",
        "\n",
        "Dimensions are nothing but features that represent the parts of your data.\n",
        "*For instance,* a 30*30 image has 800 pixels that are the size or features which together represent that image.\n",
        "PCA is one of the most important topics of statistical procedures which is used for finding the inter-relation between variables in the given data & also to interpret and visualize the data.\n",
        "So before jumping on the detailed analysis of PCA, first let us understand some important terminologies of PCA for better understanding.\n"
      ]
    },
    {
      "cell_type": "markdown",
      "metadata": {
        "id": "q5bEgzgvy9qj"
      },
      "source": [
        "**Principal Components**\n",
        "\n",
        "---\n",
        "\n",
        "Principal components are the key to PCA; they represent the fundamental essence of your data. During a layman term, when the info is projected into a lower dimension (assume three dimensions) from a far better space, the three dimensions are nothing but the three Principal Components that captures or holds most of the variance of your data.\n",
        "Principal components are comprises of both direction as well as magnitude. The direction represents across which principal axes the info is typically opened or has most variance and thus the magnitude signifies the number of variance that Principal Component captures of the info when projected onto that axis. The principal components form a straight line, and therefore the first principal component holds the foremost variance within the data. Each subsequent principal component is orthogonal to the last and features a lesser variance.\n",
        "\n",
        "*Remember, each principal component represents a percentage of total variation captured from the data.*\n",
        "\n",
        "So this is how for a given group of x correlated variables over y samples you achieve a group of u uncorrelated principal components over an equivalent y samples.\n",
        "The reason you achieve uncorrelated principal components from the first features is that the correlated features contribute to an equivalent principal component, thereby reducing the first data features into uncorrelated principal components; each representing a special set of correlated features with different amounts of variation.\n"
      ]
    },
    {
      "cell_type": "markdown",
      "metadata": {
        "id": "wYvOSSNBzl-i"
      },
      "source": [
        "**Variance**\n",
        "\n",
        "---\n",
        "\n",
        "In machine learning, Variance is one among the foremost important factors that directly affect the accuracy of the output. When a machine learning model becomes too sensitive for the independent variables, it tries to seek out out the connection between every feature which provides rise to the matter like ‘overfitting’ or high variance. an excessive amount of noise enters the dataset due to high variance and thus results are affected. Once we use principal component analysis for dimensionality reduction, the matter of overfitting get’s solved simultaneously.\n"
      ]
    },
    {
      "cell_type": "markdown",
      "metadata": {
        "id": "62AIiAovz98G"
      },
      "source": [
        "## **PRINCIPAL COMPONENT ANALYSIS**\n",
        "\n",
        "---\n",
        "\n",
        "\n",
        "Technically, Principal Component Analysis is essentially a statistical method to convert a group of observation of possibly correlated variables into a group of values of linearly uncorrelated variables.\n",
        "PCA is particularly used for dimensionality reduction during a dataset consisting of the various variables that are highly correlated or lightly correlated with each other while retaining the variation present within the dataset up to a maximum extent. it's also an excellent tool for exploratory data analysis for creating predictive models.\n",
        "\n",
        "In statistics, we all have heard that the more data we've , the more accurate results we are getting to observe, while it's rightly said but it’s not just data that we require, we'd like high-quality data to urge better results. Dimensionality reduction is essentially a way where we reduce the amount of columns or features from the dataset supported their relevance to the matter , the smallest amount their requirement, the more are the probabilities that they get faraway from the dataset.\n",
        "PCA performs a linear transformation on the data in order that most of the variance or information in your high-dimensional dataset is captured by the primary few principal components. the primary principal component will capture the foremost variance, followed by the second principal component, and so on.\n",
        "Each principal component may be a linear combination of the first variables. Because all the principal components are orthogonal to each other, there is no redundant or repeated information. So, the entire variance within the data is defined because the sum of the variances of the individual component. So decide the entire number of principal components consistent with cumulative variance ‘‘explained’’ by them.\n"
      ]
    },
    {
      "cell_type": "markdown",
      "metadata": {
        "id": "KbG49TvV07Lm"
      },
      "source": [
        "# **USES OF PCA**\n",
        "\n",
        "---\n",
        "\n",
        "\n",
        "There are many uses of PCA, but Data Visualization, Speeding ML Algorithms, \n",
        "Engine Health Monitoring and Wine Detection are the most important ones. So let’s understand them one by one:\n",
        " \n",
        "\n",
        "**1. Data Visualization:** When performing on any data related problem, the challenge  in today's world is that the sheer volume of knowledge, and therefore the variables/features that outline that data to unravel a drag where data is that the key, you would like extensive data exploration like checking out how the variables are correlated or understanding the distribution of a couple of variables. Considering that there are an outsized number of variables or dimensions along which the data is distributed, visualization are often a challenge and almost impossible.\n",
        "Hence, PCA can do that for you since it projects the info into a lower dimension, thereby allowing you to ascertain the info during a 2D or 3D space.\n",
        "\n",
        "**2.Speeding Machine Learning (ML) Algorithm:** Since PCA's main idea is \n",
        "dimensionality reduction, you'll leverage that to hurry up your machine learning algorithm's training and testing time considering your data features a lot of features, and therefore the ML algorithm's learning is just too slow.\n",
        "\n",
        "**3.Engine Health Monitoring:**\n",
        "You have a dataset that has measurements for various sensors on an engine (temperatures, pressures, emissions, then on). While much of the info comes from a healthy engine, the sensors have also captured data from the engine when it needs maintenance. you can't see any obvious abnormalities by watching a person sensor. However, by applying PCA, you'll transform this data in order that most variations within the sensor measurements are captured by alittle number of principal components. it's easier to differentiate between a healthy and unhealthy engine by inspecting these principal components than by watching the raw sensor data.\n",
        "\n",
        "**4.Wine Detection:**\n",
        "You have a dataset that has measurements for various variables on wine (alcohol, ash, magnesium, then on). You can't see any obvious abnormalities by watching a person variables. However, by applying PCA, you'll transform this data in order that most variations within the measurements of the variables are captured by a little number of principal components. it's easier to differentiate between red and wine by inspecting these principal components than by watching the raw variable data.\n"
      ]
    },
    {
      "cell_type": "markdown",
      "metadata": {
        "id": "lCHuvvsqV-Q7"
      },
      "source": [
        "**Implementing PCA in Python**"
      ]
    },
    {
      "cell_type": "markdown",
      "metadata": {
        "id": "6INXdhpT2m46"
      },
      "source": [
        "Now as we have the basic understanding of PCA, let's start implenmenting it with Python.\n",
        "Click[ here ](https://drive.google.com/drive/u/0/folders/1uAQZpTD_n23AuyisPqpD7xbqK8e2WgC7)to get the dataset for implementation."
      ]
    },
    {
      "cell_type": "markdown",
      "metadata": {
        "id": "k_weH8GQ3Moy"
      },
      "source": [
        "\n",
        "\n",
        "*   First of all, we need to import some libraries of Python. So let's start\n",
        "\n"
      ]
    },
    {
      "cell_type": "code",
      "metadata": {
        "id": "SeMNLTsf3Xrx"
      },
      "source": [
        "\n",
        "import numpy as np\n",
        "import matplotlib.pyplot as plt\n",
        "import pandas as pd\n",
        "dataset = pd.read_csv('https://drive.google.com/file/d/1afipiHQljp4We3JpH-mpTLIWDMdPgP4M/view?usp=sharing')\n"
      ],
      "execution_count": 43,
      "outputs": []
    },
    {
      "cell_type": "markdown",
      "metadata": {
        "id": "jvrUL8B93jhd"
      },
      "source": [
        "\n",
        "\n",
        "*   Now import the database provided by the below syntax. We'll be using X and Y components for distributing the dataset for anlaysis."
      ]
    },
    {
      "cell_type": "code",
      "metadata": {
        "id": "wef388So8oC4"
      },
      "source": [
        " \n",
        "# distributing the dataset into two components X and Y\n",
        "X = dataset.iloc[:, 0:13].values\n",
        "y = dataset.iloc[:, 13].values"
      ],
      "execution_count": 39,
      "outputs": []
    },
    {
      "cell_type": "markdown",
      "metadata": {
        "id": "WkfsEBkO83sP"
      },
      "source": [
        "\n",
        "\n",
        "*   The dataset will be spillted into the Training set and Test set \n",
        "\n",
        "\n"
      ]
    },
    {
      "cell_type": "code",
      "metadata": {
        "id": "oDv-s2Z89Lvq"
      },
      "source": [
        "from sklearn.model_selection import train_test_split\n",
        "\n",
        "X_train, X_test, y_train, y_test = train_test_split(X, y, test_size = 0.2, random_state = 0)\n"
      ],
      "execution_count": 11,
      "outputs": []
    },
    {
      "cell_type": "markdown",
      "metadata": {
        "id": "-iqCScwz9SHh"
      },
      "source": [
        "*   Now we'll be doing the the pre-processing part on training and testing set such as fitting the Standard scale."
      ]
    },
    {
      "cell_type": "code",
      "metadata": {
        "id": "z_xotjsuWjvM"
      },
      "source": [
        "from sklearn.preprocessing import StandardScaler\n",
        "\n",
        "sc = StandardScaler()\n",
        "X_train = sc.fit_transform(X_train)\n",
        "X_test = sc.transform(X_test)"
      ],
      "execution_count": null,
      "outputs": []
    },
    {
      "cell_type": "markdown",
      "metadata": {
        "id": "9hV-EpEt-NkC"
      },
      "source": [
        "\n",
        "\n",
        "*   Applying the PCA function into training and testing set for analysis. \n",
        "\n"
      ]
    },
    {
      "cell_type": "code",
      "metadata": {
        "id": "xa9rITyYWhtd"
      },
      "source": [
        "from sklearn.decomposition import PCA\n",
        "\n",
        "pca = PCA(n_components = 2)\n",
        "\n",
        "X_train = pca.fit_transform(X_train)\n",
        "X_test = pca.transform(X_test)\n",
        "\n",
        "explained_variance = pca.explained_variance_ratio_\n"
      ],
      "execution_count": null,
      "outputs": []
    },
    {
      "cell_type": "markdown",
      "metadata": {
        "id": "nL8PBcXj-iSP"
      },
      "source": [
        "\n",
        "\n",
        "*   Fitting Logistic Regression To the training set and predicting the test set result.\n",
        "\n",
        "\n"
      ]
    },
    {
      "cell_type": "code",
      "metadata": {
        "id": "THrApIXhWvH_"
      },
      "source": [
        "# Fitting Logistic Regression To the training set\n",
        "from sklearn.linear_model import LogisticRegression\n",
        "\n",
        "classifier = LogisticRegression(random_state = 0)\n",
        "classifier.fit(X_train, y_train)\n",
        "\n",
        "# predict function under LogisticRegression\n",
        "y_pred = classifier.predict(X_test)\n"
      ],
      "execution_count": null,
      "outputs": []
    },
    {
      "cell_type": "markdown",
      "metadata": {
        "id": "XiAAoeWX_BKb"
      },
      "source": [
        "\n",
        "\n",
        "*   Creating the confusion matrix.\n",
        "\n"
      ]
    },
    {
      "cell_type": "code",
      "metadata": {
        "id": "O1eI7XubW0pQ"
      },
      "source": [
        "# making confusion matrix between\n",
        "# test set of Y and predicted value.\n",
        "from sklearn.metrics import confusion_matrix\n",
        "\n",
        "cm = confusion_matrix(y_test, y_pred)\n"
      ],
      "execution_count": null,
      "outputs": []
    },
    {
      "cell_type": "markdown",
      "metadata": {
        "id": "dKUz7pWQ_X2A"
      },
      "source": [
        "\n",
        "\n",
        "*  Predicting the training set result \n",
        " \n",
        "\n"
      ]
    },
    {
      "cell_type": "code",
      "metadata": {
        "id": "LfqVn4IKW9XS"
      },
      "source": [
        "from matplotlib.colors import ListedColormap\n",
        " \n",
        "X_set, y_set = X_train, y_train\n",
        "X1, X2 = np.meshgrid(np.arange(start = X_set[:, 0].min() - 1,\n",
        "                     stop = X_set[:, 0].max() + 1, step = 0.01),\n",
        "                     np.arange(start = X_set[:, 1].min() - 1,\n",
        "                     stop = X_set[:, 1].max() + 1, step = 0.01))\n",
        " \n",
        "plt.contourf(X1, X2, classifier.predict(np.array([X1.ravel(),\n",
        "             X2.ravel()]).T).reshape(X1.shape), alpha = 0.75,\n",
        "             cmap = ListedColormap(('yellow', 'white', 'aquamarine')))\n",
        " \n",
        "plt.xlim(X1.min(), X1.max())\n",
        "plt.ylim(X2.min(), X2.max())\n",
        " \n",
        "for i, j in enumerate(np.unique(y_set)):\n",
        "    plt.scatter(X_set[y_set == j, 0], X_set[y_set == j, 1],\n",
        "                c = ListedColormap(('red', 'green', 'blue'))(i), label = j)\n",
        " \n",
        "plt.title('Logistic Regression (Training set)')\n",
        "plt.xlabel('PC1') # for Xlabel\n",
        "plt.ylabel('PC2') # for Ylabel\n",
        "plt.legend() # to show legend\n",
        " \n",
        "# show scatter plot\n",
        "plt.show()"
      ],
      "execution_count": null,
      "outputs": []
    },
    {
      "cell_type": "code",
      "metadata": {
        "id": "aaLTaz7y_px7"
      },
      "source": [
        ""
      ],
      "execution_count": null,
      "outputs": []
    },
    {
      "cell_type": "markdown",
      "metadata": {
        "id": "IMuKjMR9_tna"
      },
      "source": [
        "\n",
        "\n",
        "\n",
        "\n",
        "![trainset.png](data:image/png;base64,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)"
      ]
    },
    {
      "cell_type": "markdown",
      "metadata": {
        "id": "jJOxoa9jAFTt"
      },
      "source": [
        "\n",
        "\n",
        "*   Now just visualize the Test set results as a final step.\n",
        "\n"
      ]
    },
    {
      "cell_type": "code",
      "metadata": {
        "id": "s5nmNURiAcy7"
      },
      "source": [
        "# Visualising the Test set results through scatter plot\n",
        "from matplotlib.colors import ListedColormap\n",
        " \n",
        "X_set, y_set = X_test, y_test\n",
        " \n",
        "X1, X2 = np.meshgrid(np.arange(start = X_set[:, 0].min() - 1,\n",
        "                     stop = X_set[:, 0].max() + 1, step = 0.01),\n",
        "                     np.arange(start = X_set[:, 1].min() - 1,\n",
        "                     stop = X_set[:, 1].max() + 1, step = 0.01))\n",
        " \n",
        "plt.contourf(X1, X2, classifier.predict(np.array([X1.ravel(),\n",
        "             X2.ravel()]).T).reshape(X1.shape), alpha = 0.75,\n",
        "             cmap = ListedColormap(('yellow', 'white', 'aquamarine')))\n",
        " \n",
        "plt.xlim(X1.min(), X1.max())\n",
        "plt.ylim(X2.min(), X2.max())\n",
        " \n",
        "for i, j in enumerate(np.unique(y_set)):\n",
        "    plt.scatter(X_set[y_set == j, 0], X_set[y_set == j, 1],\n",
        "                c = ListedColormap(('red', 'green', 'blue'))(i), label = j)\n",
        " \n",
        "# title for scatter plot\n",
        "plt.title('Logistic Regression (Test set)')\n",
        "plt.xlabel('PC1') # for Xlabel\n",
        "plt.ylabel('PC2') # for Ylabel\n",
        "plt.legend()\n",
        " \n",
        "# show scatter plot\n",
        "plt.show()"
      ],
      "execution_count": null,
      "outputs": []
    },
    {
      "cell_type": "markdown",
      "metadata": {
        "id": "kMIU-jXZAn3G"
      },
      "source": [
        "![testset2.png](data:image/png;base64,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)"
      ]
    },
    {
      "cell_type": "markdown",
      "metadata": {
        "id": "HiR-O3IiA0OD"
      },
      "source": [
        "So that's all for my side. I hope this article help you to understand principal component analysis. Thank you!"
      ]
    }
  ]
}