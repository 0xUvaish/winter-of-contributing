{
 "cells": [
  {
   "cell_type": "code",
   "execution_count": 11,
   "metadata": {},
   "outputs": [],
   "source": [
    "import numpy as np\n",
    "class SVM:\n",
    "    #setting the hyper parameters\n",
    "    def __init__(self,learning_rate=0.001,lambda_param=0.01,n_iters=1000):\n",
    "        self.lr=learning_rate\n",
    "        self.lambda_param=lambda_param\n",
    "        self.n_iters=n_iters\n",
    "        self.w=None\n",
    "        self.b=None\n",
    "        \n",
    "    #Fitting the data in SVM model\n",
    "    def fit(self,X,y):\n",
    "        y_ = np.where(y<=0,-1,1)\n",
    "        n_samples,n_features=X.shape\n",
    "        self.w=np.zeros(n_features)\n",
    "        self.b=0\n",
    "        for _ in range(self.n_iters):\n",
    "            for idx,x_i in enumerate(X):\n",
    "                condition = y_[idx]*(np.dot(x_i,self.w)-self.b)>=1\n",
    "                if condition:\n",
    "                    self.w -= self.lr * (2*self.lambda_param * self.w)\n",
    "                else:\n",
    "                    self.w -= self.lr * (2*self.lambda_param * self.w-np.dot(x_i,y[idx]))\n",
    "                    self.b -= self.lr * y_[idx]\n",
    "                \n",
    "    #Predicting the results                \n",
    "    def predict(self,X):\n",
    "        linear_output = np.dot(X,self.w)-self.b\n",
    "        print(np.sign(linear_output))"
   ]
  },
  {
   "cell_type": "code",
   "execution_count": 13,
   "metadata": {},
   "outputs": [],
   "source": [
    "#Importing iris dataset fom sklearn\n",
    "from sklearn import datasets\n",
    "iris = datasets.load_iris()\n",
    "X=iris.data\n",
    "y=iris.target"
   ]
  },
  {
   "cell_type": "code",
   "execution_count": 14,
   "metadata": {},
   "outputs": [
    {
     "name": "stdout",
     "output_type": "stream",
     "text": [
      "[-1. -1. -1. -1. -1.  1. -1. -1. -1. -1. -1. -1. -1. -1.  1.  1. -1. -1.\n",
      "  1. -1. -1. -1. -1. -1. -1. -1. -1. -1. -1. -1. -1. -1. -1.  1. -1. -1.\n",
      " -1. -1. -1. -1. -1. -1. -1. -1.  1. -1. -1. -1. -1. -1.  1.  1.  1.  1.\n",
      "  1.  1.  1.  1.  1.  1.  1.  1.  1.  1.  1.  1.  1.  1.  1.  1.  1.  1.\n",
      "  1.  1.  1.  1.  1.  1.  1.  1.  1.  1.  1.  1.  1.  1.  1.  1.  1.  1.\n",
      "  1.  1.  1.  1.  1.  1.  1.  1.  1.  1.  1.  1.  1.  1.  1.  1.  1.  1.\n",
      "  1.  1.  1.  1.  1.  1.  1.  1.  1.  1.  1.  1.  1.  1.  1.  1.  1.  1.\n",
      "  1.  1.  1.  1.  1.  1.  1.  1.  1.  1.  1.  1.  1.  1.  1.  1.  1.  1.\n",
      "  1.  1.  1.  1.  1.  1.]\n"
     ]
    }
   ],
   "source": [
    "#Crearing object of SVM class and calling 'fit' and 'predict' methods\n",
    "ob = SVM()\n",
    "ob.fit(X,y)\n",
    "ob.predict(X)"
   ]
  },
  {
   "cell_type": "code",
   "execution_count": null,
   "metadata": {},
   "outputs": [],
   "source": []
  }
 ],
 "metadata": {
  "kernelspec": {
   "display_name": "Python 3",
   "language": "python",
   "name": "python3"
  },
  "language_info": {
   "codemirror_mode": {
    "name": "ipython",
    "version": 3
   },
   "file_extension": ".py",
   "mimetype": "text/x-python",
   "name": "python",
   "nbconvert_exporter": "python",
   "pygments_lexer": "ipython3",
   "version": "3.8.3"
  }
 },
 "nbformat": 4,
 "nbformat_minor": 4
}
