{
 "cells": [
  {
   "cell_type": "markdown",
   "metadata": {},
   "source": [
    "# Bayesian Network - Documentation"
   ]
  },
  {
   "cell_type": "markdown",
   "metadata": {},
   "source": [
    "## Importing Necessary Libraries"
   ]
  },
  {
   "cell_type": "code",
   "execution_count": 1,
   "metadata": {},
   "outputs": [],
   "source": [
    "import pandas as pd\n",
    "from sklearn.model_selection import train_test_split\n",
    "from sklearn.feature_extraction.text import CountVectorizer\n",
    "from sklearn.naive_bayes import MultinomialNB\n",
    "from sklearn import metrics"
   ]
  },
  {
   "cell_type": "markdown",
   "metadata": {},
   "source": [
    "## Importing Dataset"
   ]
  },
  {
   "cell_type": "code",
   "execution_count": 2,
   "metadata": {},
   "outputs": [
    {
     "name": "stdout",
     "output_type": "stream",
     "text": [
      "The dimensions of the dataset (18, 2)\n"
     ]
    }
   ],
   "source": [
    "msg = pd.read_csv(\"naivetext.csv\", names=[\"message\", \"label\"])\n",
    "print(\"The dimensions of the dataset\", msg.shape)"
   ]
  },
  {
   "cell_type": "markdown",
   "metadata": {},
   "source": [
    "## Splitting the Dataset"
   ]
  },
  {
   "cell_type": "code",
   "execution_count": 3,
   "metadata": {},
   "outputs": [],
   "source": [
    "msg[\"labelnum\"] = msg.label.map({\"pos\": 1, \"neg\": 0})\n",
    "X = msg['message']\n",
    "y = msg['labelnum']"
   ]
  },
  {
   "cell_type": "code",
   "execution_count": 4,
   "metadata": {},
   "outputs": [
    {
     "name": "stdout",
     "output_type": "stream",
     "text": [
      "(5,)\n",
      "(13,)\n",
      "(5,)\n",
      "(13,)\n",
      "train data\n",
      "8                   He is my sworn enemy\n",
      "13     I am sick and tired of this place\n",
      "17      I went to my enemy's house today\n",
      "2     I feel very good about these beers\n",
      "6               I am tired of this stuff\n",
      "5          I do not like this restaurant\n",
      "14                  What a great holiday\n",
      "15        That is a bad locality to stay\n",
      "12                       I love to dance\n",
      "10              This is an awesome place\n",
      "4                   What an awesome view\n",
      "16        We will have good fun tomorrow\n",
      "0                   I love this sandwich\n",
      "Name: message, dtype: object\n"
     ]
    }
   ],
   "source": [
    "X_train, X_test, y_train, y_test = train_test_split(X, y)\n",
    "print(X_test.shape)\n",
    "print(X_train.shape)\n",
    "print(y_test.shape)\n",
    "print(y_train.shape)\n",
    "print(\"train data\")\n",
    "print(X_train)"
   ]
  },
  {
   "cell_type": "markdown",
   "metadata": {},
   "source": [
    "## Preprocessing Text Data (using basic NLP)"
   ]
  },
  {
   "cell_type": "code",
   "execution_count": 5,
   "metadata": {},
   "outputs": [
    {
     "name": "stdout",
     "output_type": "stream",
     "text": [
      "['about', 'am', 'an', 'and', 'awesome', 'bad', 'beers', 'dance', 'do', 'enemy', 'feel', 'fun', 'good', 'great', 'have', 'he', 'holiday', 'house', 'is', 'like', 'locality', 'love', 'my', 'not', 'of', 'place', 'restaurant', 'sandwich', 'sick', 'stay', 'stuff', 'sworn', 'that', 'these', 'this', 'tired', 'to', 'today', 'tomorrow', 'very', 'view', 'we', 'went', 'what', 'will']\n",
      "    about  am  an  and  awesome  bad  beers  dance  do  enemy  ...  tired  to  \\\n",
      "0       0   0   0    0        0    0      0      0   0      1  ...      0   0   \n",
      "1       0   1   0    1        0    0      0      0   0      0  ...      1   0   \n",
      "2       0   0   0    0        0    0      0      0   0      1  ...      0   1   \n",
      "3       1   0   0    0        0    0      1      0   0      0  ...      0   0   \n",
      "4       0   1   0    0        0    0      0      0   0      0  ...      1   0   \n",
      "5       0   0   0    0        0    0      0      0   1      0  ...      0   0   \n",
      "6       0   0   0    0        0    0      0      0   0      0  ...      0   0   \n",
      "7       0   0   0    0        0    1      0      0   0      0  ...      0   1   \n",
      "8       0   0   0    0        0    0      0      1   0      0  ...      0   1   \n",
      "9       0   0   1    0        1    0      0      0   0      0  ...      0   0   \n",
      "10      0   0   1    0        1    0      0      0   0      0  ...      0   0   \n",
      "11      0   0   0    0        0    0      0      0   0      0  ...      0   0   \n",
      "12      0   0   0    0        0    0      0      0   0      0  ...      0   0   \n",
      "\n",
      "    today  tomorrow  very  view  we  went  what  will  \n",
      "0       0         0     0     0   0     0     0     0  \n",
      "1       0         0     0     0   0     0     0     0  \n",
      "2       1         0     0     0   0     1     0     0  \n",
      "3       0         0     1     0   0     0     0     0  \n",
      "4       0         0     0     0   0     0     0     0  \n",
      "5       0         0     0     0   0     0     0     0  \n",
      "6       0         0     0     0   0     0     1     0  \n",
      "7       0         0     0     0   0     0     0     0  \n",
      "8       0         0     0     0   0     0     0     0  \n",
      "9       0         0     0     0   0     0     0     0  \n",
      "10      0         0     0     1   0     0     1     0  \n",
      "11      0         1     0     0   1     0     0     1  \n",
      "12      0         0     0     0   0     0     0     0  \n",
      "\n",
      "[13 rows x 45 columns]\n",
      "  (0, 15)\t1\n",
      "  (0, 18)\t1\n",
      "  (0, 22)\t1\n",
      "  (0, 31)\t1\n",
      "  (0, 9)\t1\n",
      "  (1, 1)\t1\n",
      "  (1, 28)\t1\n",
      "  (1, 3)\t1\n",
      "  (1, 35)\t1\n",
      "  (1, 24)\t1\n",
      "  (1, 34)\t1\n",
      "  (1, 25)\t1\n",
      "  (2, 22)\t1\n",
      "  (2, 9)\t1\n",
      "  (2, 42)\t1\n",
      "  (2, 36)\t1\n",
      "  (2, 17)\t1\n",
      "  (2, 37)\t1\n",
      "  (3, 10)\t1\n",
      "  (3, 39)\t1\n",
      "  (3, 12)\t1\n",
      "  (3, 0)\t1\n",
      "  (3, 33)\t1\n",
      "  (3, 6)\t1\n",
      "  (4, 1)\t1\n",
      "  :\t:\n",
      "  (7, 32)\t1\n",
      "  (7, 5)\t1\n",
      "  (7, 20)\t1\n",
      "  (7, 29)\t1\n",
      "  (8, 36)\t1\n",
      "  (8, 21)\t1\n",
      "  (8, 7)\t1\n",
      "  (9, 18)\t1\n",
      "  (9, 34)\t1\n",
      "  (9, 25)\t1\n",
      "  (9, 2)\t1\n",
      "  (9, 4)\t1\n",
      "  (10, 43)\t1\n",
      "  (10, 2)\t1\n",
      "  (10, 4)\t1\n",
      "  (10, 40)\t1\n",
      "  (11, 12)\t1\n",
      "  (11, 41)\t1\n",
      "  (11, 44)\t1\n",
      "  (11, 14)\t1\n",
      "  (11, 11)\t1\n",
      "  (11, 38)\t1\n",
      "  (12, 34)\t1\n",
      "  (12, 21)\t1\n",
      "  (12, 27)\t1\n"
     ]
    }
   ],
   "source": [
    "count_vect = CountVectorizer()\n",
    "X_train_dtm = count_vect.fit_transform(X_train)\n",
    "X_test_dtm = count_vect.transform(X_test)\n",
    "print(count_vect.get_feature_names())\n",
    "df = pd.DataFrame(X_train_dtm.toarray(), columns=count_vect.get_feature_names())\n",
    "print(df)\n",
    "print(X_train_dtm)"
   ]
  },
  {
   "cell_type": "markdown",
   "metadata": {},
   "source": [
    "## Multinomial Naive Bayes Model"
   ]
  },
  {
   "cell_type": "code",
   "execution_count": 6,
   "metadata": {},
   "outputs": [],
   "source": [
    "clf = MultinomialNB().fit(X_train_dtm, y_train)\n",
    "predicted = clf.predict(X_test_dtm)"
   ]
  },
  {
   "cell_type": "code",
   "execution_count": 7,
   "metadata": {},
   "outputs": [
    {
     "name": "stdout",
     "output_type": "stream",
     "text": [
      "Accuracy metrics\n",
      "Accuracy of the classifer is 80.0\n",
      "Confusion matrix\n",
      "[[3 0]\n",
      " [1 1]]\n",
      "Recall and Precison \n",
      "0.5\n",
      "Prediction:  100.0\n"
     ]
    }
   ],
   "source": [
    "print(\"Accuracy metrics\")\n",
    "print(\"Accuracy of the classifer is\", metrics.accuracy_score(y_test, predicted)*100)\n",
    "print(\"Confusion matrix\")\n",
    "print(metrics.confusion_matrix(y_test, predicted))\n",
    "print(\"Recall and Precison \")\n",
    "print(metrics.recall_score(y_test, predicted))\n",
    "print('Prediction: ',metrics.precision_score(y_test, predicted)*100)"
   ]
  },
  {
   "cell_type": "markdown",
   "metadata": {},
   "source": [
    "## Prediction"
   ]
  },
  {
   "cell_type": "code",
   "execution_count": 15,
   "metadata": {},
   "outputs": [
    {
     "name": "stdout",
     "output_type": "stream",
     "text": [
      "I like this place || 1\n"
     ]
    }
   ],
   "source": [
    "docs_new = ['I like this place']\n",
    "X_new_counts = count_vect.transform(docs_new)\n",
    "predictednew = clf.predict(X_new_counts)\n",
    "for doc, category in zip(docs_new, predictednew):\n",
    "    print('%s || %s' % (doc, msg.labelnum[category]))"
   ]
  },
  {
   "cell_type": "code",
   "execution_count": null,
   "metadata": {},
   "outputs": [],
   "source": []
  }
 ],
 "metadata": {
  "kernelspec": {
   "display_name": "Python 3",
   "language": "python",
   "name": "python3"
  },
  "language_info": {
   "codemirror_mode": {
    "name": "ipython",
    "version": 3
   },
   "file_extension": ".py",
   "mimetype": "text/x-python",
   "name": "python",
   "nbconvert_exporter": "python",
   "pygments_lexer": "ipython3",
   "version": "3.9.5"
  }
 },
 "nbformat": 4,
 "nbformat_minor": 2
}
