{
 "cells": [
  {
   "cell_type": "markdown",
   "metadata": {},
   "source": [
    "# Bayesian Network - Documentation"
   ]
  },
  {
   "cell_type": "markdown",
   "metadata": {},
   "source": [
    "## About Multinomial Naive Bayes (implemented here)\n",
    "\n",
    "- One of the **Popular Supervised Learning Classifications** used in Analysis of **Text** Data.\n",
    "\n",
    "- It is a **Probablistic Learning** Method mostly based on Natural Language Processing (**NLP**).\n",
    "\n",
    "- It is based on Bayes Theorem which predicts the **label** of the Text data given as an input.\n",
    "\n",
    "<hr>\n",
    "\n",
    "- Naive Bayes working is understood better if we know **Bayes Theorem**:\n",
    "\n",
    "**P(A|B) = [P(A) * P(B|A)] / P(B)**\n",
    "\n",
    "- In words, Probablity of A given B equals product of Probablity of A and Probablity of B given A divided by Probablity of B.\n",
    "\n",
    "- It basically works on Probablity and hence, the computational power required is less. Also the Accuracy of the Model is high as well.\n",
    "\n",
    "- Therefore, it can handle large datasets with ease. (*here implemented in a small scale.*)\n",
    "\n",
    "- It works on both discrete and continous data"
   ]
  },
  {
   "cell_type": "markdown",
   "metadata": {},
   "source": [
    "## Importing Necessary Libraries"
   ]
  },
  {
   "cell_type": "markdown",
   "metadata": {},
   "source": [
    "- ```Pandas:``` All Basic ML works\n",
    "- ```Sklearn:``` Rich Library possessing all the ML Algorithms\n",
    "\n",
    "**NOTE:** *Other Required Libraries are imported as and when Required.*"
   ]
  },
  {
   "cell_type": "code",
   "execution_count": 21,
   "metadata": {},
   "outputs": [],
   "source": [
    "import pandas as pd\n",
    "from sklearn.model_selection import train_test_split\n",
    "from sklearn.feature_extraction.text import CountVectorizer\n",
    "from sklearn.naive_bayes import MultinomialNB\n",
    "from sklearn import metrics"
   ]
  },
  {
   "cell_type": "markdown",
   "metadata": {},
   "source": [
    "## Importing Dataset"
   ]
  },
  {
   "cell_type": "markdown",
   "metadata": {},
   "source": [
    "```Dataset:``` It is a Random Dataset and is manual one."
   ]
  },
  {
   "cell_type": "code",
   "execution_count": 22,
   "metadata": {},
   "outputs": [
    {
     "name": "stdout",
     "output_type": "stream",
     "text": [
      "The dimensions of the dataset (18, 2)\n"
     ]
    }
   ],
   "source": [
    "msg = pd.read_csv(\"naivetext.csv\", names=[\"message\", \"label\"])\n",
    "print(\"The dimensions of the dataset\", msg.shape)"
   ]
  },
  {
   "cell_type": "code",
   "execution_count": 23,
   "metadata": {},
   "outputs": [
    {
     "data": {
      "text/html": [
       "<div>\n",
       "<style scoped>\n",
       "    .dataframe tbody tr th:only-of-type {\n",
       "        vertical-align: middle;\n",
       "    }\n",
       "\n",
       "    .dataframe tbody tr th {\n",
       "        vertical-align: top;\n",
       "    }\n",
       "\n",
       "    .dataframe thead th {\n",
       "        text-align: right;\n",
       "    }\n",
       "</style>\n",
       "<table border=\"1\" class=\"dataframe\">\n",
       "  <thead>\n",
       "    <tr style=\"text-align: right;\">\n",
       "      <th></th>\n",
       "      <th>message</th>\n",
       "      <th>label</th>\n",
       "    </tr>\n",
       "  </thead>\n",
       "  <tbody>\n",
       "    <tr>\n",
       "      <th>0</th>\n",
       "      <td>I love this sandwich</td>\n",
       "      <td>pos</td>\n",
       "    </tr>\n",
       "    <tr>\n",
       "      <th>1</th>\n",
       "      <td>This is an amazing place</td>\n",
       "      <td>pos</td>\n",
       "    </tr>\n",
       "    <tr>\n",
       "      <th>2</th>\n",
       "      <td>I feel very good about these beers</td>\n",
       "      <td>pos</td>\n",
       "    </tr>\n",
       "    <tr>\n",
       "      <th>3</th>\n",
       "      <td>This is my best work</td>\n",
       "      <td>pos</td>\n",
       "    </tr>\n",
       "    <tr>\n",
       "      <th>4</th>\n",
       "      <td>What an awesome view</td>\n",
       "      <td>pos</td>\n",
       "    </tr>\n",
       "    <tr>\n",
       "      <th>5</th>\n",
       "      <td>I do not like this restaurant</td>\n",
       "      <td>neg</td>\n",
       "    </tr>\n",
       "    <tr>\n",
       "      <th>6</th>\n",
       "      <td>I am tired of this stuff</td>\n",
       "      <td>neg</td>\n",
       "    </tr>\n",
       "    <tr>\n",
       "      <th>7</th>\n",
       "      <td>I can't deal with this</td>\n",
       "      <td>neg</td>\n",
       "    </tr>\n",
       "    <tr>\n",
       "      <th>8</th>\n",
       "      <td>He is my sworn enemy</td>\n",
       "      <td>neg</td>\n",
       "    </tr>\n",
       "    <tr>\n",
       "      <th>9</th>\n",
       "      <td>My boss is horrible</td>\n",
       "      <td>neg</td>\n",
       "    </tr>\n",
       "    <tr>\n",
       "      <th>10</th>\n",
       "      <td>This is an awesome place</td>\n",
       "      <td>pos</td>\n",
       "    </tr>\n",
       "    <tr>\n",
       "      <th>11</th>\n",
       "      <td>I do not like the taste of this juice</td>\n",
       "      <td>neg</td>\n",
       "    </tr>\n",
       "    <tr>\n",
       "      <th>12</th>\n",
       "      <td>I love to dance</td>\n",
       "      <td>pos</td>\n",
       "    </tr>\n",
       "    <tr>\n",
       "      <th>13</th>\n",
       "      <td>I am sick and tired of this place</td>\n",
       "      <td>neg</td>\n",
       "    </tr>\n",
       "    <tr>\n",
       "      <th>14</th>\n",
       "      <td>What a great holiday</td>\n",
       "      <td>pos</td>\n",
       "    </tr>\n",
       "    <tr>\n",
       "      <th>15</th>\n",
       "      <td>That is a bad locality to stay</td>\n",
       "      <td>neg</td>\n",
       "    </tr>\n",
       "    <tr>\n",
       "      <th>16</th>\n",
       "      <td>We will have good fun tomorrow</td>\n",
       "      <td>pos</td>\n",
       "    </tr>\n",
       "    <tr>\n",
       "      <th>17</th>\n",
       "      <td>I went to my enemy's house today</td>\n",
       "      <td>neg</td>\n",
       "    </tr>\n",
       "  </tbody>\n",
       "</table>\n",
       "</div>"
      ],
      "text/plain": [
       "                                  message label\n",
       "0                    I love this sandwich   pos\n",
       "1                This is an amazing place   pos\n",
       "2      I feel very good about these beers   pos\n",
       "3                    This is my best work   pos\n",
       "4                    What an awesome view   pos\n",
       "5           I do not like this restaurant   neg\n",
       "6                I am tired of this stuff   neg\n",
       "7                  I can't deal with this   neg\n",
       "8                    He is my sworn enemy   neg\n",
       "9                     My boss is horrible   neg\n",
       "10               This is an awesome place   pos\n",
       "11  I do not like the taste of this juice   neg\n",
       "12                        I love to dance   pos\n",
       "13      I am sick and tired of this place   neg\n",
       "14                   What a great holiday   pos\n",
       "15         That is a bad locality to stay   neg\n",
       "16         We will have good fun tomorrow   pos\n",
       "17       I went to my enemy's house today   neg"
      ]
     },
     "execution_count": 23,
     "metadata": {},
     "output_type": "execute_result"
    }
   ],
   "source": [
    "msg"
   ]
  },
  {
   "cell_type": "markdown",
   "metadata": {},
   "source": [
    "## Splitting the Dataset"
   ]
  },
  {
   "cell_type": "markdown",
   "metadata": {},
   "source": [
    "**Encoding the Target Column: LABEL**\n",
    "> **Positive** Sentence: *1*\n",
    "\n",
    "> **Negative** Sentence: *0*\n",
    "\n",
    "*Can be random but use the same encoding for ease of Understanding.*"
   ]
  },
  {
   "cell_type": "code",
   "execution_count": 24,
   "metadata": {},
   "outputs": [],
   "source": [
    "msg[\"labelnum\"] = msg.label.map({\"pos\": 1, \"neg\": 0})"
   ]
  },
  {
   "cell_type": "markdown",
   "metadata": {},
   "source": [
    "**Splitting DataFrame as Independent and Dependent Variables.**\n",
    "\n",
    "> **X** --> *Inependent*\n",
    "\n",
    "> **y** --> *Dependent*"
   ]
  },
  {
   "cell_type": "code",
   "execution_count": 25,
   "metadata": {},
   "outputs": [],
   "source": [
    "X = msg['message']\n",
    "y = msg['labelnum']"
   ]
  },
  {
   "cell_type": "markdown",
   "metadata": {},
   "source": [
    "**Splitting the Dataset for Test and Train also displaying the Size of the Dataset**"
   ]
  },
  {
   "cell_type": "code",
   "execution_count": 26,
   "metadata": {},
   "outputs": [
    {
     "name": "stdout",
     "output_type": "stream",
     "text": [
      "(5,)\n",
      "(13,)\n",
      "(5,)\n",
      "(13,)\n",
      "---------------------------------------------\n",
      "\t\tTrain Data\n",
      "---------------------------------------------\n",
      "5          I do not like this restaurant\n",
      "12                       I love to dance\n",
      "17      I went to my enemy's house today\n",
      "9                    My boss is horrible\n",
      "2     I feel very good about these beers\n",
      "6               I am tired of this stuff\n",
      "0                   I love this sandwich\n",
      "14                  What a great holiday\n",
      "15        That is a bad locality to stay\n",
      "13     I am sick and tired of this place\n",
      "16        We will have good fun tomorrow\n",
      "7                 I can't deal with this\n",
      "1               This is an amazing place\n",
      "Name: message, dtype: object\n"
     ]
    }
   ],
   "source": [
    "X_train, X_test, y_train, y_test = train_test_split(X, y)\n",
    "\n",
    "# Training Dataset\n",
    "print(X_test.shape)\n",
    "print(X_train.shape)\n",
    "\n",
    "\n",
    "# Testing Dataset\n",
    "print(y_test.shape)\n",
    "print(y_train.shape)\n",
    "\n",
    "# Display Input-Training Data\n",
    "print('-'*45)\n",
    "print(\"\\t\\tTrain Data\")\n",
    "print('-'*45)\n",
    "print(X_train)"
   ]
  },
  {
   "cell_type": "markdown",
   "metadata": {},
   "source": [
    "## Preprocessing Text Data (using basic NLP)"
   ]
  },
  {
   "cell_type": "markdown",
   "metadata": {},
   "source": [
    "```CountVectorizer()``` A Module widely used for dealing with Text Data in NLP."
   ]
  },
  {
   "cell_type": "code",
   "execution_count": 27,
   "metadata": {},
   "outputs": [
    {
     "name": "stdout",
     "output_type": "stream",
     "text": [
      "['about', 'am', 'amazing', 'an', 'and', 'bad', 'beers', 'boss', 'can', 'dance', 'deal', 'do', 'enemy', 'feel', 'fun', 'good', 'great', 'have', 'holiday', 'horrible', 'house', 'is', 'like', 'locality', 'love', 'my', 'not', 'of', 'place', 'restaurant', 'sandwich', 'sick', 'stay', 'stuff', 'that', 'these', 'this', 'tired', 'to', 'today', 'tomorrow', 'very', 'we', 'went', 'what', 'will', 'with']\n",
      "    about  am  amazing  an  and  bad  beers  boss  can  dance  ...  tired  to  \\\n",
      "0       0   0        0   0    0    0      0     0    0      0  ...      0   0   \n",
      "1       0   0        0   0    0    0      0     0    0      1  ...      0   1   \n",
      "2       0   0        0   0    0    0      0     0    0      0  ...      0   1   \n",
      "3       0   0        0   0    0    0      0     1    0      0  ...      0   0   \n",
      "4       1   0        0   0    0    0      1     0    0      0  ...      0   0   \n",
      "5       0   1        0   0    0    0      0     0    0      0  ...      1   0   \n",
      "6       0   0        0   0    0    0      0     0    0      0  ...      0   0   \n",
      "7       0   0        0   0    0    0      0     0    0      0  ...      0   0   \n",
      "8       0   0        0   0    0    1      0     0    0      0  ...      0   1   \n",
      "9       0   1        0   0    1    0      0     0    0      0  ...      1   0   \n",
      "10      0   0        0   0    0    0      0     0    0      0  ...      0   0   \n",
      "11      0   0        0   0    0    0      0     0    1      0  ...      0   0   \n",
      "12      0   0        1   1    0    0      0     0    0      0  ...      0   0   \n",
      "\n",
      "    today  tomorrow  very  we  went  what  will  with  \n",
      "0       0         0     0   0     0     0     0     0  \n",
      "1       0         0     0   0     0     0     0     0  \n",
      "2       1         0     0   0     1     0     0     0  \n",
      "3       0         0     0   0     0     0     0     0  \n",
      "4       0         0     1   0     0     0     0     0  \n",
      "5       0         0     0   0     0     0     0     0  \n",
      "6       0         0     0   0     0     0     0     0  \n",
      "7       0         0     0   0     0     1     0     0  \n",
      "8       0         0     0   0     0     0     0     0  \n",
      "9       0         0     0   0     0     0     0     0  \n",
      "10      0         1     0   1     0     0     1     0  \n",
      "11      0         0     0   0     0     0     0     1  \n",
      "12      0         0     0   0     0     0     0     0  \n",
      "\n",
      "[13 rows x 47 columns]\n",
      "  (0, 11)\t1\n",
      "  (0, 26)\t1\n",
      "  (0, 22)\t1\n",
      "  (0, 36)\t1\n",
      "  (0, 29)\t1\n",
      "  (1, 24)\t1\n",
      "  (1, 38)\t1\n",
      "  (1, 9)\t1\n",
      "  (2, 38)\t1\n",
      "  (2, 43)\t1\n",
      "  (2, 25)\t1\n",
      "  (2, 12)\t1\n",
      "  (2, 20)\t1\n",
      "  (2, 39)\t1\n",
      "  (3, 25)\t1\n",
      "  (3, 7)\t1\n",
      "  (3, 21)\t1\n",
      "  (3, 19)\t1\n",
      "  (4, 13)\t1\n",
      "  (4, 41)\t1\n",
      "  (4, 15)\t1\n",
      "  (4, 0)\t1\n",
      "  (4, 35)\t1\n",
      "  (4, 6)\t1\n",
      "  (5, 36)\t1\n",
      "  :\t:\n",
      "  (8, 5)\t1\n",
      "  (8, 23)\t1\n",
      "  (8, 32)\t1\n",
      "  (9, 36)\t1\n",
      "  (9, 1)\t1\n",
      "  (9, 37)\t1\n",
      "  (9, 27)\t1\n",
      "  (9, 31)\t1\n",
      "  (9, 4)\t1\n",
      "  (9, 28)\t1\n",
      "  (10, 15)\t1\n",
      "  (10, 42)\t1\n",
      "  (10, 45)\t1\n",
      "  (10, 17)\t1\n",
      "  (10, 14)\t1\n",
      "  (10, 40)\t1\n",
      "  (11, 36)\t1\n",
      "  (11, 8)\t1\n",
      "  (11, 10)\t1\n",
      "  (11, 46)\t1\n",
      "  (12, 36)\t1\n",
      "  (12, 21)\t1\n",
      "  (12, 28)\t1\n",
      "  (12, 3)\t1\n",
      "  (12, 2)\t1\n"
     ]
    }
   ],
   "source": [
    "# Text Vectorizer\n",
    "count_vect = CountVectorizer()\n",
    "\n",
    "# Implementing Model -> Training Data\n",
    "X_train_dtm = count_vect.fit_transform(X_train)\n",
    "X_test_dtm = count_vect.transform(X_test)\n",
    "\n",
    "# Displaying the Feature Values after performing Vectorisation\n",
    "print(count_vect.get_feature_names())\n",
    "\n",
    "# Creating the Feature into a DataFrame\n",
    "df = pd.DataFrame(X_train_dtm.toarray(), columns=count_vect.get_feature_names())\n",
    "print(df)\n",
    "print(X_train_dtm)"
   ]
  },
  {
   "cell_type": "markdown",
   "metadata": {},
   "source": [
    "## Multinomial Naive Bayes Model"
   ]
  },
  {
   "cell_type": "markdown",
   "metadata": {},
   "source": [
    "### Building the Bayesian Network: Multinomial Naive Bayes Model\n",
    "\n",
    "> Available in Sklearn Library\n",
    "\n",
    "> Link to <a href=\"https://scikit-learn.org/stable/modules/generated/sklearn.naive_bayes.MultinomialNB.html\">Docs.</a>"
   ]
  },
  {
   "cell_type": "code",
   "execution_count": 28,
   "metadata": {},
   "outputs": [],
   "source": [
    "clf = MultinomialNB().fit(X_train_dtm, y_train)\n",
    "predicted = clf.predict(X_test_dtm)"
   ]
  },
  {
   "cell_type": "markdown",
   "metadata": {},
   "source": [
    "### Metrics of the Model"
   ]
  },
  {
   "cell_type": "code",
   "execution_count": 29,
   "metadata": {},
   "outputs": [
    {
     "name": "stdout",
     "output_type": "stream",
     "text": [
      "-------------Metrics--------------\n",
      "Accuracy of the classifer is 80.0\n",
      "Confusion Matrix\n",
      "[[2 0]\n",
      " [1 2]]\n",
      "Recall Score: 0.6666666666666666\n",
      "Prediction:  100.0\n"
     ]
    }
   ],
   "source": [
    "print(\"-------------Metrics--------------\")\n",
    "\n",
    "print(\"Accuracy of the classifer is\", metrics.accuracy_score(y_test, predicted)*100)\n",
    "\n",
    "print(\"Confusion Matrix\")\n",
    "print(metrics.confusion_matrix(y_test, predicted))\n",
    "\n",
    "print(\"Recall Score: \", end='')\n",
    "print(metrics.recall_score(y_test, predicted))\n",
    "\n",
    "print('Prediction: ',metrics.precision_score(y_test, predicted)*100)"
   ]
  },
  {
   "cell_type": "markdown",
   "metadata": {},
   "source": [
    "## Prediction"
   ]
  },
  {
   "cell_type": "markdown",
   "metadata": {},
   "source": [
    "*Predict the working of the Model on External Data.*"
   ]
  },
  {
   "cell_type": "code",
   "execution_count": 30,
   "metadata": {},
   "outputs": [
    {
     "name": "stdout",
     "output_type": "stream",
     "text": [
      "I like this place || 1\n"
     ]
    }
   ],
   "source": [
    "docs_new = ['I like this place']\n",
    "X_new_counts = count_vect.transform(docs_new)\n",
    "predictednew = clf.predict(X_new_counts)\n",
    "for doc, category in zip(docs_new, predictednew):\n",
    "    print('%s || %s' % (doc, msg.labelnum[category]))"
   ]
  },
  {
   "cell_type": "code",
   "execution_count": null,
   "metadata": {},
   "outputs": [],
   "source": []
  }
 ],
 "metadata": {
  "kernelspec": {
   "display_name": "Python 3",
   "language": "python",
   "name": "python3"
  },
  "language_info": {
   "codemirror_mode": {
    "name": "ipython",
    "version": 3
   },
   "file_extension": ".py",
   "mimetype": "text/x-python",
   "name": "python",
   "nbconvert_exporter": "python",
   "pygments_lexer": "ipython3",
   "version": "3.9.5"
  }
 },
 "nbformat": 4,
 "nbformat_minor": 2
}
