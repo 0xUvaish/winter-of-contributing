{
 "cells": [
  {
   "cell_type": "markdown",
   "metadata": {},
   "source": [
    "# Bayesian Network - Documentation"
   ]
  },
  {
   "cell_type": "markdown",
   "metadata": {},
   "source": [
    "## Importing Necessary Libraries"
   ]
  },
  {
   "cell_type": "markdown",
   "metadata": {},
   "source": [
    "- ```Pandas:``` All Basic ML works\n",
    "- ```Sklearn:``` Rich Library possessing all the ML Algorithms"
   ]
  },
  {
   "cell_type": "code",
   "execution_count": 1,
   "metadata": {},
   "outputs": [],
   "source": [
    "import pandas as pd\n",
    "from sklearn.model_selection import train_test_split\n",
    "from sklearn.feature_extraction.text import CountVectorizer\n",
    "from sklearn.naive_bayes import MultinomialNB\n",
    "from sklearn import metrics"
   ]
  },
  {
   "cell_type": "markdown",
   "metadata": {},
   "source": [
    "## Importing Dataset"
   ]
  },
  {
   "cell_type": "markdown",
   "metadata": {},
   "source": [
    "```Dataset:``` It is a Random Dataset and is manual one."
   ]
  },
  {
   "cell_type": "code",
   "execution_count": 2,
   "metadata": {},
   "outputs": [
    {
     "name": "stdout",
     "output_type": "stream",
     "text": [
      "The dimensions of the dataset (18, 2)\n"
     ]
    }
   ],
   "source": [
    "msg = pd.read_csv(\"naivetext.csv\", names=[\"message\", \"label\"])\n",
    "print(\"The dimensions of the dataset\", msg.shape)"
   ]
  },
  {
   "cell_type": "code",
   "execution_count": 3,
   "metadata": {},
   "outputs": [
    {
     "data": {
      "text/html": [
       "<div>\n",
       "<style scoped>\n",
       "    .dataframe tbody tr th:only-of-type {\n",
       "        vertical-align: middle;\n",
       "    }\n",
       "\n",
       "    .dataframe tbody tr th {\n",
       "        vertical-align: top;\n",
       "    }\n",
       "\n",
       "    .dataframe thead th {\n",
       "        text-align: right;\n",
       "    }\n",
       "</style>\n",
       "<table border=\"1\" class=\"dataframe\">\n",
       "  <thead>\n",
       "    <tr style=\"text-align: right;\">\n",
       "      <th></th>\n",
       "      <th>message</th>\n",
       "      <th>label</th>\n",
       "    </tr>\n",
       "  </thead>\n",
       "  <tbody>\n",
       "    <tr>\n",
       "      <th>0</th>\n",
       "      <td>I love this sandwich</td>\n",
       "      <td>pos</td>\n",
       "    </tr>\n",
       "    <tr>\n",
       "      <th>1</th>\n",
       "      <td>This is an amazing place</td>\n",
       "      <td>pos</td>\n",
       "    </tr>\n",
       "    <tr>\n",
       "      <th>2</th>\n",
       "      <td>I feel very good about these beers</td>\n",
       "      <td>pos</td>\n",
       "    </tr>\n",
       "    <tr>\n",
       "      <th>3</th>\n",
       "      <td>This is my best work</td>\n",
       "      <td>pos</td>\n",
       "    </tr>\n",
       "    <tr>\n",
       "      <th>4</th>\n",
       "      <td>What an awesome view</td>\n",
       "      <td>pos</td>\n",
       "    </tr>\n",
       "    <tr>\n",
       "      <th>5</th>\n",
       "      <td>I do not like this restaurant</td>\n",
       "      <td>neg</td>\n",
       "    </tr>\n",
       "    <tr>\n",
       "      <th>6</th>\n",
       "      <td>I am tired of this stuff</td>\n",
       "      <td>neg</td>\n",
       "    </tr>\n",
       "    <tr>\n",
       "      <th>7</th>\n",
       "      <td>I can't deal with this</td>\n",
       "      <td>neg</td>\n",
       "    </tr>\n",
       "    <tr>\n",
       "      <th>8</th>\n",
       "      <td>He is my sworn enemy</td>\n",
       "      <td>neg</td>\n",
       "    </tr>\n",
       "    <tr>\n",
       "      <th>9</th>\n",
       "      <td>My boss is horrible</td>\n",
       "      <td>neg</td>\n",
       "    </tr>\n",
       "    <tr>\n",
       "      <th>10</th>\n",
       "      <td>This is an awesome place</td>\n",
       "      <td>pos</td>\n",
       "    </tr>\n",
       "    <tr>\n",
       "      <th>11</th>\n",
       "      <td>I do not like the taste of this juice</td>\n",
       "      <td>neg</td>\n",
       "    </tr>\n",
       "    <tr>\n",
       "      <th>12</th>\n",
       "      <td>I love to dance</td>\n",
       "      <td>pos</td>\n",
       "    </tr>\n",
       "    <tr>\n",
       "      <th>13</th>\n",
       "      <td>I am sick and tired of this place</td>\n",
       "      <td>neg</td>\n",
       "    </tr>\n",
       "    <tr>\n",
       "      <th>14</th>\n",
       "      <td>What a great holiday</td>\n",
       "      <td>pos</td>\n",
       "    </tr>\n",
       "    <tr>\n",
       "      <th>15</th>\n",
       "      <td>That is a bad locality to stay</td>\n",
       "      <td>neg</td>\n",
       "    </tr>\n",
       "    <tr>\n",
       "      <th>16</th>\n",
       "      <td>We will have good fun tomorrow</td>\n",
       "      <td>pos</td>\n",
       "    </tr>\n",
       "    <tr>\n",
       "      <th>17</th>\n",
       "      <td>I went to my enemy's house today</td>\n",
       "      <td>neg</td>\n",
       "    </tr>\n",
       "  </tbody>\n",
       "</table>\n",
       "</div>"
      ],
      "text/plain": [
       "                                  message label\n",
       "0                    I love this sandwich   pos\n",
       "1                This is an amazing place   pos\n",
       "2      I feel very good about these beers   pos\n",
       "3                    This is my best work   pos\n",
       "4                    What an awesome view   pos\n",
       "5           I do not like this restaurant   neg\n",
       "6                I am tired of this stuff   neg\n",
       "7                  I can't deal with this   neg\n",
       "8                    He is my sworn enemy   neg\n",
       "9                     My boss is horrible   neg\n",
       "10               This is an awesome place   pos\n",
       "11  I do not like the taste of this juice   neg\n",
       "12                        I love to dance   pos\n",
       "13      I am sick and tired of this place   neg\n",
       "14                   What a great holiday   pos\n",
       "15         That is a bad locality to stay   neg\n",
       "16         We will have good fun tomorrow   pos\n",
       "17       I went to my enemy's house today   neg"
      ]
     },
     "execution_count": 3,
     "metadata": {},
     "output_type": "execute_result"
    }
   ],
   "source": [
    "msg"
   ]
  },
  {
   "cell_type": "markdown",
   "metadata": {},
   "source": [
    "## Splitting the Dataset"
   ]
  },
  {
   "cell_type": "markdown",
   "metadata": {},
   "source": [
    "**Encoding the Target Column: LABEL**\n",
    "> **Positive** Sentence: *1*\n",
    "\n",
    "> **Negative** Sentence: *0*\n",
    "\n",
    "*Can be random but use the same encoding for ease of Understanding.*"
   ]
  },
  {
   "cell_type": "code",
   "execution_count": 4,
   "metadata": {},
   "outputs": [],
   "source": [
    "msg[\"labelnum\"] = msg.label.map({\"pos\": 1, \"neg\": 0})"
   ]
  },
  {
   "cell_type": "markdown",
   "metadata": {},
   "source": [
    "**Splitting DataFrame as Independent and Dependent Variables.**\n",
    "\n",
    "> **X** --> *Inependent*\n",
    "\n",
    "> **y** --> *Dependent*"
   ]
  },
  {
   "cell_type": "code",
   "execution_count": 5,
   "metadata": {},
   "outputs": [],
   "source": [
    "X = msg['message']\n",
    "y = msg['labelnum']"
   ]
  },
  {
   "cell_type": "markdown",
   "metadata": {},
   "source": [
    "**Splitting the Dataset for Test and Train also displaying the Size of the Dataset**"
   ]
  },
  {
   "cell_type": "code",
   "execution_count": 6,
   "metadata": {},
   "outputs": [
    {
     "name": "stdout",
     "output_type": "stream",
     "text": [
      "(5,)\n",
      "(13,)\n",
      "(5,)\n",
      "(13,)\n",
      "---------------------------------------------\n",
      "Train Data\n",
      "---------------------------------------------\n",
      "17      I went to my enemy's house today\n",
      "13     I am sick and tired of this place\n",
      "0                   I love this sandwich\n",
      "15        That is a bad locality to stay\n",
      "16        We will have good fun tomorrow\n",
      "6               I am tired of this stuff\n",
      "2     I feel very good about these beers\n",
      "9                    My boss is horrible\n",
      "3                   This is my best work\n",
      "12                       I love to dance\n",
      "14                  What a great holiday\n",
      "7                 I can't deal with this\n",
      "10              This is an awesome place\n",
      "Name: message, dtype: object\n"
     ]
    }
   ],
   "source": [
    "X_train, X_test, y_train, y_test = train_test_split(X, y)\n",
    "\n",
    "# Training Dataset\n",
    "print(X_test.shape)\n",
    "print(X_train.shape)\n",
    "\n",
    "\n",
    "# Testing Dataset\n",
    "print(y_test.shape)\n",
    "print(y_train.shape)\n",
    "\n",
    "print('-'*45)\n",
    "print(\"Train Data\")\n",
    "print('-'*45)\n",
    "print(X_train)"
   ]
  },
  {
   "cell_type": "markdown",
   "metadata": {},
   "source": [
    "## Preprocessing Text Data (using basic NLP)"
   ]
  },
  {
   "cell_type": "markdown",
   "metadata": {},
   "source": [
    "```CountVectorizer()``` A Module widely used for dealing with Text Data in NLP."
   ]
  },
  {
   "cell_type": "code",
   "execution_count": 7,
   "metadata": {},
   "outputs": [
    {
     "name": "stdout",
     "output_type": "stream",
     "text": [
      "['about', 'am', 'an', 'and', 'awesome', 'bad', 'beers', 'best', 'boss', 'can', 'dance', 'deal', 'enemy', 'feel', 'fun', 'good', 'great', 'have', 'holiday', 'horrible', 'house', 'is', 'locality', 'love', 'my', 'of', 'place', 'sandwich', 'sick', 'stay', 'stuff', 'that', 'these', 'this', 'tired', 'to', 'today', 'tomorrow', 'very', 'we', 'went', 'what', 'will', 'with', 'work']\n",
      "    about  am  an  and  awesome  bad  beers  best  boss  can  ...  to  today  \\\n",
      "0       0   0   0    0        0    0      0     0     0    0  ...   1      1   \n",
      "1       0   1   0    1        0    0      0     0     0    0  ...   0      0   \n",
      "2       0   0   0    0        0    0      0     0     0    0  ...   0      0   \n",
      "3       0   0   0    0        0    1      0     0     0    0  ...   1      0   \n",
      "4       0   0   0    0        0    0      0     0     0    0  ...   0      0   \n",
      "5       0   1   0    0        0    0      0     0     0    0  ...   0      0   \n",
      "6       1   0   0    0        0    0      1     0     0    0  ...   0      0   \n",
      "7       0   0   0    0        0    0      0     0     1    0  ...   0      0   \n",
      "8       0   0   0    0        0    0      0     1     0    0  ...   0      0   \n",
      "9       0   0   0    0        0    0      0     0     0    0  ...   1      0   \n",
      "10      0   0   0    0        0    0      0     0     0    0  ...   0      0   \n",
      "11      0   0   0    0        0    0      0     0     0    1  ...   0      0   \n",
      "12      0   0   1    0        1    0      0     0     0    0  ...   0      0   \n",
      "\n",
      "    tomorrow  very  we  went  what  will  with  work  \n",
      "0          0     0   0     1     0     0     0     0  \n",
      "1          0     0   0     0     0     0     0     0  \n",
      "2          0     0   0     0     0     0     0     0  \n",
      "3          0     0   0     0     0     0     0     0  \n",
      "4          1     0   1     0     0     1     0     0  \n",
      "5          0     0   0     0     0     0     0     0  \n",
      "6          0     1   0     0     0     0     0     0  \n",
      "7          0     0   0     0     0     0     0     0  \n",
      "8          0     0   0     0     0     0     0     1  \n",
      "9          0     0   0     0     0     0     0     0  \n",
      "10         0     0   0     0     1     0     0     0  \n",
      "11         0     0   0     0     0     0     1     0  \n",
      "12         0     0   0     0     0     0     0     0  \n",
      "\n",
      "[13 rows x 45 columns]\n",
      "  (0, 40)\t1\n",
      "  (0, 35)\t1\n",
      "  (0, 24)\t1\n",
      "  (0, 12)\t1\n",
      "  (0, 20)\t1\n",
      "  (0, 36)\t1\n",
      "  (1, 1)\t1\n",
      "  (1, 28)\t1\n",
      "  (1, 3)\t1\n",
      "  (1, 34)\t1\n",
      "  (1, 25)\t1\n",
      "  (1, 33)\t1\n",
      "  (1, 26)\t1\n",
      "  (2, 33)\t1\n",
      "  (2, 23)\t1\n",
      "  (2, 27)\t1\n",
      "  (3, 35)\t1\n",
      "  (3, 31)\t1\n",
      "  (3, 21)\t1\n",
      "  (3, 5)\t1\n",
      "  (3, 22)\t1\n",
      "  (3, 29)\t1\n",
      "  (4, 39)\t1\n",
      "  (4, 42)\t1\n",
      "  (4, 17)\t1\n",
      "  :\t:\n",
      "  (6, 6)\t1\n",
      "  (7, 24)\t1\n",
      "  (7, 21)\t1\n",
      "  (7, 8)\t1\n",
      "  (7, 19)\t1\n",
      "  (8, 24)\t1\n",
      "  (8, 33)\t1\n",
      "  (8, 21)\t1\n",
      "  (8, 7)\t1\n",
      "  (8, 44)\t1\n",
      "  (9, 35)\t1\n",
      "  (9, 23)\t1\n",
      "  (9, 10)\t1\n",
      "  (10, 41)\t1\n",
      "  (10, 16)\t1\n",
      "  (10, 18)\t1\n",
      "  (11, 33)\t1\n",
      "  (11, 9)\t1\n",
      "  (11, 11)\t1\n",
      "  (11, 43)\t1\n",
      "  (12, 33)\t1\n",
      "  (12, 26)\t1\n",
      "  (12, 21)\t1\n",
      "  (12, 2)\t1\n",
      "  (12, 4)\t1\n"
     ]
    }
   ],
   "source": [
    "count_vect = CountVectorizer()\n",
    "\n",
    "# performing Text Vectorisation Training Data\n",
    "X_train_dtm = count_vect.fit_transform(X_train)\n",
    "X_test_dtm = count_vect.transform(X_test)\n",
    "\n",
    "# Prinitng the Feature Values after performing Vectorisation\n",
    "print(count_vect.get_feature_names())\n",
    "\n",
    "# Creating the Feature into a DataFrame\n",
    "df = pd.DataFrame(X_train_dtm.toarray(), columns=count_vect.get_feature_names())\n",
    "\n",
    "print(df)\n",
    "\n",
    "print(X_train_dtm)"
   ]
  },
  {
   "cell_type": "markdown",
   "metadata": {},
   "source": [
    "## Multinomial Naive Bayes Model"
   ]
  },
  {
   "cell_type": "markdown",
   "metadata": {},
   "source": [
    "### Building the Bayesian Network: Multinomial Naive Bayes Model\n",
    "\n",
    "> Available in Sklearn Library"
   ]
  },
  {
   "cell_type": "code",
   "execution_count": 8,
   "metadata": {},
   "outputs": [],
   "source": [
    "clf = MultinomialNB().fit(X_train_dtm, y_train)\n",
    "predicted = clf.predict(X_test_dtm)"
   ]
  },
  {
   "cell_type": "markdown",
   "metadata": {},
   "source": [
    "### Displaying the Metrics of the Model"
   ]
  },
  {
   "cell_type": "code",
   "execution_count": 9,
   "metadata": {},
   "outputs": [
    {
     "name": "stdout",
     "output_type": "stream",
     "text": [
      "Accuracy metrics\n",
      "Accuracy of the classifer is 80.0\n",
      "Confusion matrix\n",
      "[[2 1]\n",
      " [0 2]]\n",
      "Recall and Precison \n",
      "1.0\n",
      "Prediction:  66.66666666666666\n"
     ]
    }
   ],
   "source": [
    "print(\"Accuracy metrics\")\n",
    "print(\"Accuracy of the classifer is\", metrics.accuracy_score(y_test, predicted)*100)\n",
    "print(\"Confusion matrix\")\n",
    "print(metrics.confusion_matrix(y_test, predicted))\n",
    "print(\"Recall and Precison \")\n",
    "print(metrics.recall_score(y_test, predicted))\n",
    "print('Prediction: ',metrics.precision_score(y_test, predicted)*100)"
   ]
  },
  {
   "cell_type": "markdown",
   "metadata": {},
   "source": [
    "## Prediction"
   ]
  },
  {
   "cell_type": "markdown",
   "metadata": {},
   "source": [
    "*Predict the Model on External Data.*"
   ]
  },
  {
   "cell_type": "code",
   "execution_count": 12,
   "metadata": {},
   "outputs": [
    {
     "name": "stdout",
     "output_type": "stream",
     "text": [
      "I like this cake!! || 1\n"
     ]
    }
   ],
   "source": [
    "docs_new = ['I like this cake!!']\n",
    "X_new_counts = count_vect.transform(docs_new)\n",
    "predictednew = clf.predict(X_new_counts)\n",
    "for doc, category in zip(docs_new, predictednew):\n",
    "    print('%s || %s' % (doc, msg.labelnum[category]))"
   ]
  },
  {
   "cell_type": "markdown",
   "metadata": {},
   "source": [
    "**This is one of the Bayesian Model and there are many other Bayesian Models available in ```Sklearn``` and other Libraries.**"
   ]
  },
  {
   "cell_type": "code",
   "execution_count": null,
   "metadata": {},
   "outputs": [],
   "source": []
  }
 ],
 "metadata": {
  "kernelspec": {
   "display_name": "Python 3",
   "language": "python",
   "name": "python3"
  },
  "language_info": {
   "codemirror_mode": {
    "name": "ipython",
    "version": 3
   },
   "file_extension": ".py",
   "mimetype": "text/x-python",
   "name": "python",
   "nbconvert_exporter": "python",
   "pygments_lexer": "ipython3",
   "version": "3.9.5"
  }
 },
 "nbformat": 4,
 "nbformat_minor": 2
}
