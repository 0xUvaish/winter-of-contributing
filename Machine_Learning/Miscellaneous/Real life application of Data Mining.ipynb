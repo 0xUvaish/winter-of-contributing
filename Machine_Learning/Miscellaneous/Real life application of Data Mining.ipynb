{
  "nbformat": 4,
  "nbformat_minor": 0,
  "metadata": {
    "colab": {
      "name": "Untitled7.ipynb",
      "provenance": [],
      "collapsed_sections": []
    },
    "kernelspec": {
      "name": "python3",
      "display_name": "Python 3"
    },
    "language_info": {
      "name": "python"
    }
  },
  "cells": [
    {
      "cell_type": "markdown",
      "metadata": {
        "id": "4Dlj0IH4Rn9r"
      },
      "source": [
      
        "# **REAL LIFE APPLICATIONS OF DATA MINING**\n",
        "\n",
        "---\n",
        "\n"
      ]
    },
    {
      "cell_type": "markdown",
      "metadata": {
        "id": "sMeogK-fSLnp"
      },
      "source": [
        "Helloooooooooo Guys! In this tutorial we are gonna have a brief look on various applications of data mining in day to day life . I hope you all like it . So let's gooooooooooo :)\n",
        "\n"
      ]
    },
    {
      "cell_type": "markdown",
      "metadata": {
        "id": "2CIe1TDZTZ6q"
      },
      "source": [
        "### **1. DATA MINING IN HEALTHCARE SECTOR :**\n",
        "\n",
        "---\n",
        "\n",
        "\n",
        "\n",
        "---\n",
        "\n",
        "\n",
        "\n",
        "\n",
        "Data mining holds great potential in the healthcare sector. Data and analytics can be used to identify best practices as well as provide cost-effective solutions. The data mining approach includes multi-dimensional databases, statistics, Machine Learning, data visualization, and soft computing that can have massive applications in the industry. It can help predict the volume of patients in every category, improve processes to ensure that patients receive appropriate care without delays or setbacks, detect fraud and abuse for insurance purposes, and many more.\n",
        "\n",
        "\n",
        "Data mining enables more accurate diagnostics. Having all of the patient's information, such as medical records, physical examinations, and treatment patterns, allows more effective treatments to be prescribed. It also enables more effective, efficient and cost-effective management of health resources by identifying risks, predicting illnesses in certain segments of the population or forecasting the length of hospital admission. Detecting fraud and irregularities, and strengthening ties with patients with an enhanced knowledge of their needs are also advantages of using data mining in medicine.\n",
        "\n",
        "\n",
        "**1) Healthcare Management**\n",
        "\n",
        "The data mining method is used to identify chronic diseases, track high-risk regions prone to the spread of disease, design programs to reduce the spread of disease. Healthcare professionals will analyze the diseases, regions of patients with maximum admissions to the hospital.\n",
        "\n",
        "With this data, they will design the campaigns for the region to make people aware of the disease and see how to avoid it. This will reduce the number of patients admitted to hospitals.\n",
        "\n",
        "**2) Effective Treatments**\n",
        "\n",
        "Using data mining, the treatments can be improved. By continuous comparison of symptoms, causes, and medicines, data analysis can be performed to make effective treatments. Data mining is also used for the treatment of specific diseases, and the association of side-effects of treatments.\n",
        "\n",
        "**3) Fraudlent And Abusive Data**\n",
        "\n",
        "Data mining applications are used to find abnormal patterns such as laboratory, physician’s results, inappropriate prescriptions, and fraudulent medical claims."
      ]
    },
    {
      "cell_type": "markdown",
      "metadata": {
        "id": "y6BAW7eqWk9i"
      },
      "source": [
        "### **2. DATA MINING IN EDUCATION SECTOR :**\n",
        "\n",
        "---\n",
        "\n",
        "\n",
        "\n",
        "---\n",
        "\n",
        "\n",
        "There is a new emerging field, called Educational Data Mining, concerns with developing methods that discover knowledge from data originating from educational Environments. The goals of EDM are identified as predicting students’ future learning behaviour, studying the effects of educational support, and advancing scientific knowledge about learning. Data mining can be used by an institution to take accurate decisions and also to predict the results of the student. With the results the institution can focus on what to teach and how to teach. Learning pattern of the students can be captured and used to develop techniques to teach them.\n",
        "\n",
        "Educational data mining (EDM) is the latest emerging field that aims to establish techniques to uncover knowledge based on data originating from educational environments. EDM aims to predict students’ potential learning behavior, explore the impact of educational support, and advance scientific knowledge about learning.\n",
        "\n",
        "Data mining can be implemented by educational institutions to make sound decisions and predict the achievement levels of students to pay more attention to the content and techniques of teaching. These teaching techniques can be developed by observing the studying and behavioral patterns of the students.\n"
      ]
    },
    {
      "cell_type": "markdown",
      "metadata": {
        "id": "vOchA9E8XetB"
      },
      "source": [
        "### **3. DATA MINING IN BANKING AND FINANCE :**\n",
        "\n",
        "---\n",
        "\n",
        "\n",
        "\n",
        "---\n",
        "\n",
        "\n",
        "\n",
        "\n",
        "With the advent of digitization, the banking sector is handling and managing enormous amounts of data and transaction information. Data mining applications in banking can easily be the appropriate solution with its capability of identifying patterns, casualties, market risks, and other correlations that are crucial for managers to be aware of. Despite the volumes of data, results can be generated almost instantly for the managers to make sense of without much effort.\n",
        "\n",
        "\n",
        "With computerised banking everywhere huge amount of data is supposed to be generated with new transactions. Data mining can contribute to solving business problems in banking and finance by finding patterns, causalities, and correlations in business information and market prices that are not immediately apparent to managers because the volume data is too large or is generated too quickly to screen by experts. The managers may find these information for better segmenting,targeting, acquiring, retaining and maintaining a profitable customer.\n",
        "\n",
        "Bank officials and employees will find the use of all the information to improve and optimize segmentation, targeting, acquisition, management, and retainment of profitable customers. Data mining can also help banks quickly determine potential defaulters and accordingly make decisions for the issuance of credit cards, loans, etc."
      ]
    },
    {
      "cell_type": "markdown",
      "metadata": {
        "id": "7Xs7r7IfX4DH"
      },
      "source": [
        "### **4. DATA MINING IN MARKET BASKET ANALYSIS :**\n",
        "\n",
        "---\n",
        "\n",
        "\n",
        "\n",
        "---\n",
        "\n",
        "\n",
        "\n",
        "Market basket analysis is a modelling technique based upon a theory that if you buy a certain group of items you are more likely to buy another group of items. This technique may allow the retailer to understand the purchase behaviour of a buyer. This information may help the retailer to know the buyer’s needs and change the store’s layout accordingly. Using differential analysis comparison of results between different stores, between customers in different demographic groups can be done.\n",
        "\n",
        "Customer Relationship Management is all about acquiring and retaining customers, also improving customers’ loyalty and implementing customer focused strategies. To maintain a proper relationship with a customer a business need to collect data and analyse the information. This is where data mining plays its part. With data mining technologies the collected data can be used for analysis. Instead of being confused where to focus to retain customer, the seekers for the solution get filtered results."
      ]
    },
    {
      "cell_type": "markdown",
      "metadata": {
        "id": "ElOIUnWXYAx4"
      },
      "source": [
        "### **5. DATA MINING IN LIE DETECTION :**\n",
        "\n",
        "---\n",
        "\n",
        "\n",
        "\n",
        "---\n",
        "\n",
        "\n",
        "Apprehending a criminal is easy whereas bringing out the truth from him is difficult. Law enforcement can use mining techniques to investigate crimes, monitor communication of suspected terrorists. This filed includes text mining also. This process seeks to find meaningful patterns in data which is usually unstructured text. The data sample collected from previous investigations are compared and a model for lie detection is created. With this model processes can be created according to the necessity."
      ]
    },
    {
      "cell_type": "markdown",
      "metadata": {
        "id": "i1mDs1uyUzF8"
      },
      "source": [
        "**REFERENCE LINKS :**\n",
        "\n",
        "https://www.iberdrola.com/innovation/data-mining-definition-examples-and-applications\n",
        "\n",
        "https://bigdata-madesimple.com/14-useful-applications-of-data-mining/\n",
        "\n",
        "https://www.softwaretestinghelp.com/data-mining-examples/#1_Healthcare_Management\n",
        "\n",
        "https://intellipaat.com/blog/top-data-mining-applications/#no5"
      ]
    }
  ]
}
