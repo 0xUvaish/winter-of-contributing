{
  "nbformat": 4,
  "nbformat_minor": 0,
  "metadata": {
    "colab": {
      "name": "Untitled8.ipynb",
      "provenance": []
    },
    "kernelspec": {
      "name": "python3",
      "display_name": "Python 3"
    },
    "language_info": {
      "name": "python"
    }
  },
  "cells": [
    {
      "cell_type": "markdown",
      "metadata": {
        "id": "4Dlj0IH4Rn9r"
      },
      "source": [
        "\n",
        "### **Title : REAL LIFE APPLICATIONS OF DATA MINING**\n",
        "\n",
        "**Type of Content** : Audio\n",
        "\n",
        "**Domain** : Machine Learning\n",
        "\n",
        "**Module** : Miscellaneous\n",
        " \n",
        " \n",
        "---\n",
        "\n"
      ]
    },
    {
      "cell_type": "markdown",
      "metadata": {
        "id": "I_X-fRUxTbE1"
      },
      "source": [
        "Click here for the audio file,\n",
        "\n",
        "https://drive.google.com/file/d/1EW84dVsyXb2LIWF61xGCWMSDNifpPocU/view?usp=sharing      ML 0.3 : Real life application of Data Mining (A)"
      ]
    },
    {
      "cell_type": "markdown",
      "metadata": {
        "id": "noVtzU2_Titt"
      },
      "source": [
        "GirlScript Winter of Contributions 2021"
      ]
    }
  ]
}