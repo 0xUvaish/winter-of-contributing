{
 "cells": [
  {
   "cell_type": "markdown",
   "id": "d509058c",
   "metadata": {},
   "source": [
    "# Contents\n",
    "- Abstract\n",
    "- Dataset\n",
    "- Goal\n",
    "- Importing Required libraries\n",
    "- Data Cleaning and Data Processing\n",
    "- Data Visualization and Encoding Data\n",
    "- Prediction Models\n",
    "       - Splitting the dataset into 80:20 ratio\n",
    "       - Deploying the models\n",
    "            - Linear Regression\n",
    "            - RandomForest Regression\n",
    "            - Lasso regression\n",
    "- Comparing the accuracy of the models\n",
    "- Conclusion\n",
    "\n",
    "# Abstract\n",
    "Data for this study is collected from November 18th 2011 to January 1st 2019 from various sources. The data has 1718 rows in total and 80 columns in total. Data for attributes, such as Oil Price, Standard and Poor’s (S&P) 500 index, Dow Jones Index US Bond rates (10 years), Euro USD exchange rates, prices of precious metals Silver and Platinum and other metals such as Palladium and Rhodium, prices of US Dollar Index, Eldorado Gold Corporation and Gold Miners ETF were gathered.\n",
    "\n",
    "The dataset has 1718 rows in total and 80 columns in total. Data for attributes, such as Oil Price, Standard and Poor’s (S&P) 500 index, Dow Jones Index US Bond rates (10 years), Euro USD exchange rates, prices of precious metals Silver and Platinum and other metals such as Palladium and Rhodium, prices of US Dollar Index, Eldorado Gold Corporation and Gold Miners ETF were gathered.\n",
    "\n",
    "The historical data of Gold ETF fetched from Yahoo finance has 7 columns, Date, Open, High, Low, Close, Adjusted Close, and Volume, the difference between Adjusted Close and Close is that the closing price of a stock is the price of that stock at the close of the trading day. Whereas the adjusted closing price takes into account factors such as dividends, stock splits, and new stock offerings to determine a value. So, Adjusted Close is the outcome variable which is the value you have to predict.\n",
    "\n",
    "# Dataset\n",
    "The dataset which is used here, is collected from Kaggle website. Here is the link of the dataset : \n",
    "https://www.kaggle.com/sid321axn/gold-price-prediction-dataset\n",
    "\n",
    "# Goal\n",
    "The goal of this project is to analyse the data and predict the price of the gold."
   ]
  },
  {
   "cell_type": "raw",
   "id": "6da0874b",
   "metadata": {},
   "source": [
    "Importing Libraries"
   ]
  },
  {
   "cell_type": "code",
   "execution_count": 36,
   "id": "39ab5c70",
   "metadata": {},
   "outputs": [],
   "source": [
    "import numpy as np\n",
    "import pandas as pd\n",
    "import matplotlib.pyplot as plt\n",
    "import seaborn as sns\n",
    "from sklearn.model_selection import train_test_split\n",
    "from sklearn.ensemble import RandomForestRegressor\n",
    "from sklearn.linear_model import LinearRegression  \n",
    "from sklearn import metrics\n",
    "from sklearn.metrics import accuracy_score\n",
    "from sklearn.linear_model import Lasso"
   ]
  },
  {
   "cell_type": "raw",
   "id": "9da8ac43",
   "metadata": {},
   "source": [
    "Data Collection and Processing"
   ]
  },
  {
   "cell_type": "code",
   "execution_count": 2,
   "id": "3e41c3c6",
   "metadata": {},
   "outputs": [],
   "source": [
    "# loading the dataset\n",
    "gold_data = pd.read_csv('gld_price_data.csv')"
   ]
  },
  {
   "cell_type": "code",
   "execution_count": 3,
   "id": "009bed90",
   "metadata": {},
   "outputs": [
    {
     "data": {
      "text/html": [
       "<div>\n",
       "<style scoped>\n",
       "    .dataframe tbody tr th:only-of-type {\n",
       "        vertical-align: middle;\n",
       "    }\n",
       "\n",
       "    .dataframe tbody tr th {\n",
       "        vertical-align: top;\n",
       "    }\n",
       "\n",
       "    .dataframe thead th {\n",
       "        text-align: right;\n",
       "    }\n",
       "</style>\n",
       "<table border=\"1\" class=\"dataframe\">\n",
       "  <thead>\n",
       "    <tr style=\"text-align: right;\">\n",
       "      <th></th>\n",
       "      <th>Date</th>\n",
       "      <th>SPX</th>\n",
       "      <th>GLD</th>\n",
       "      <th>USO</th>\n",
       "      <th>SLV</th>\n",
       "      <th>EUR/USD</th>\n",
       "    </tr>\n",
       "  </thead>\n",
       "  <tbody>\n",
       "    <tr>\n",
       "      <th>0</th>\n",
       "      <td>1/2/2008</td>\n",
       "      <td>1447.160034</td>\n",
       "      <td>84.860001</td>\n",
       "      <td>78.470001</td>\n",
       "      <td>15.180</td>\n",
       "      <td>1.471692</td>\n",
       "    </tr>\n",
       "    <tr>\n",
       "      <th>1</th>\n",
       "      <td>1/3/2008</td>\n",
       "      <td>1447.160034</td>\n",
       "      <td>85.570000</td>\n",
       "      <td>78.370003</td>\n",
       "      <td>15.285</td>\n",
       "      <td>1.474491</td>\n",
       "    </tr>\n",
       "    <tr>\n",
       "      <th>2</th>\n",
       "      <td>1/4/2008</td>\n",
       "      <td>1411.630005</td>\n",
       "      <td>85.129997</td>\n",
       "      <td>77.309998</td>\n",
       "      <td>15.167</td>\n",
       "      <td>1.475492</td>\n",
       "    </tr>\n",
       "    <tr>\n",
       "      <th>3</th>\n",
       "      <td>1/7/2008</td>\n",
       "      <td>1416.180054</td>\n",
       "      <td>84.769997</td>\n",
       "      <td>75.500000</td>\n",
       "      <td>15.053</td>\n",
       "      <td>1.468299</td>\n",
       "    </tr>\n",
       "    <tr>\n",
       "      <th>4</th>\n",
       "      <td>1/8/2008</td>\n",
       "      <td>1390.189941</td>\n",
       "      <td>86.779999</td>\n",
       "      <td>76.059998</td>\n",
       "      <td>15.590</td>\n",
       "      <td>1.557099</td>\n",
       "    </tr>\n",
       "  </tbody>\n",
       "</table>\n",
       "</div>"
      ],
      "text/plain": [
       "       Date          SPX        GLD        USO     SLV   EUR/USD\n",
       "0  1/2/2008  1447.160034  84.860001  78.470001  15.180  1.471692\n",
       "1  1/3/2008  1447.160034  85.570000  78.370003  15.285  1.474491\n",
       "2  1/4/2008  1411.630005  85.129997  77.309998  15.167  1.475492\n",
       "3  1/7/2008  1416.180054  84.769997  75.500000  15.053  1.468299\n",
       "4  1/8/2008  1390.189941  86.779999  76.059998  15.590  1.557099"
      ]
     },
     "execution_count": 3,
     "metadata": {},
     "output_type": "execute_result"
    }
   ],
   "source": [
    "# print first 5 rows in the dataframe\n",
    "gold_data.head()"
   ]
  },
  {
   "cell_type": "code",
   "execution_count": 4,
   "id": "bbf8c69b",
   "metadata": {},
   "outputs": [
    {
     "data": {
      "text/html": [
       "<div>\n",
       "<style scoped>\n",
       "    .dataframe tbody tr th:only-of-type {\n",
       "        vertical-align: middle;\n",
       "    }\n",
       "\n",
       "    .dataframe tbody tr th {\n",
       "        vertical-align: top;\n",
       "    }\n",
       "\n",
       "    .dataframe thead th {\n",
       "        text-align: right;\n",
       "    }\n",
       "</style>\n",
       "<table border=\"1\" class=\"dataframe\">\n",
       "  <thead>\n",
       "    <tr style=\"text-align: right;\">\n",
       "      <th></th>\n",
       "      <th>Date</th>\n",
       "      <th>SPX</th>\n",
       "      <th>GLD</th>\n",
       "      <th>USO</th>\n",
       "      <th>SLV</th>\n",
       "      <th>EUR/USD</th>\n",
       "    </tr>\n",
       "  </thead>\n",
       "  <tbody>\n",
       "    <tr>\n",
       "      <th>2285</th>\n",
       "      <td>5/8/2018</td>\n",
       "      <td>2671.919922</td>\n",
       "      <td>124.589996</td>\n",
       "      <td>14.0600</td>\n",
       "      <td>15.5100</td>\n",
       "      <td>1.186789</td>\n",
       "    </tr>\n",
       "    <tr>\n",
       "      <th>2286</th>\n",
       "      <td>5/9/2018</td>\n",
       "      <td>2697.790039</td>\n",
       "      <td>124.330002</td>\n",
       "      <td>14.3700</td>\n",
       "      <td>15.5300</td>\n",
       "      <td>1.184722</td>\n",
       "    </tr>\n",
       "    <tr>\n",
       "      <th>2287</th>\n",
       "      <td>5/10/2018</td>\n",
       "      <td>2723.070068</td>\n",
       "      <td>125.180000</td>\n",
       "      <td>14.4100</td>\n",
       "      <td>15.7400</td>\n",
       "      <td>1.191753</td>\n",
       "    </tr>\n",
       "    <tr>\n",
       "      <th>2288</th>\n",
       "      <td>5/14/2018</td>\n",
       "      <td>2730.129883</td>\n",
       "      <td>124.489998</td>\n",
       "      <td>14.3800</td>\n",
       "      <td>15.5600</td>\n",
       "      <td>1.193118</td>\n",
       "    </tr>\n",
       "    <tr>\n",
       "      <th>2289</th>\n",
       "      <td>5/16/2018</td>\n",
       "      <td>2725.780029</td>\n",
       "      <td>122.543800</td>\n",
       "      <td>14.4058</td>\n",
       "      <td>15.4542</td>\n",
       "      <td>1.182033</td>\n",
       "    </tr>\n",
       "  </tbody>\n",
       "</table>\n",
       "</div>"
      ],
      "text/plain": [
       "           Date          SPX         GLD      USO      SLV   EUR/USD\n",
       "2285   5/8/2018  2671.919922  124.589996  14.0600  15.5100  1.186789\n",
       "2286   5/9/2018  2697.790039  124.330002  14.3700  15.5300  1.184722\n",
       "2287  5/10/2018  2723.070068  125.180000  14.4100  15.7400  1.191753\n",
       "2288  5/14/2018  2730.129883  124.489998  14.3800  15.5600  1.193118\n",
       "2289  5/16/2018  2725.780029  122.543800  14.4058  15.4542  1.182033"
      ]
     },
     "execution_count": 4,
     "metadata": {},
     "output_type": "execute_result"
    }
   ],
   "source": [
    "# print last 5 rows of the dataframe\n",
    "gold_data.tail()"
   ]
  },
  {
   "cell_type": "code",
   "execution_count": 5,
   "id": "e048d357",
   "metadata": {},
   "outputs": [
    {
     "data": {
      "text/plain": [
       "(2290, 6)"
      ]
     },
     "execution_count": 5,
     "metadata": {},
     "output_type": "execute_result"
    }
   ],
   "source": [
    "gold_data.shape"
   ]
  },
  {
   "cell_type": "code",
   "execution_count": 6,
   "id": "0cba0460",
   "metadata": {},
   "outputs": [
    {
     "name": "stdout",
     "output_type": "stream",
     "text": [
      "<class 'pandas.core.frame.DataFrame'>\n",
      "RangeIndex: 2290 entries, 0 to 2289\n",
      "Data columns (total 6 columns):\n",
      " #   Column   Non-Null Count  Dtype  \n",
      "---  ------   --------------  -----  \n",
      " 0   Date     2290 non-null   object \n",
      " 1   SPX      2290 non-null   float64\n",
      " 2   GLD      2290 non-null   float64\n",
      " 3   USO      2290 non-null   float64\n",
      " 4   SLV      2290 non-null   float64\n",
      " 5   EUR/USD  2290 non-null   float64\n",
      "dtypes: float64(5), object(1)\n",
      "memory usage: 107.5+ KB\n"
     ]
    }
   ],
   "source": [
    "gold_data.info()"
   ]
  },
  {
   "cell_type": "code",
   "execution_count": 7,
   "id": "5a9c8a14",
   "metadata": {},
   "outputs": [
    {
     "data": {
      "text/plain": [
       "Date       0\n",
       "SPX        0\n",
       "GLD        0\n",
       "USO        0\n",
       "SLV        0\n",
       "EUR/USD    0\n",
       "dtype: int64"
      ]
     },
     "execution_count": 7,
     "metadata": {},
     "output_type": "execute_result"
    }
   ],
   "source": [
    "# checking the number of missing values\n",
    "gold_data.isnull().sum()"
   ]
  },
  {
   "cell_type": "code",
   "execution_count": 8,
   "id": "0479c781",
   "metadata": {},
   "outputs": [
    {
     "data": {
      "text/html": [
       "<div>\n",
       "<style scoped>\n",
       "    .dataframe tbody tr th:only-of-type {\n",
       "        vertical-align: middle;\n",
       "    }\n",
       "\n",
       "    .dataframe tbody tr th {\n",
       "        vertical-align: top;\n",
       "    }\n",
       "\n",
       "    .dataframe thead th {\n",
       "        text-align: right;\n",
       "    }\n",
       "</style>\n",
       "<table border=\"1\" class=\"dataframe\">\n",
       "  <thead>\n",
       "    <tr style=\"text-align: right;\">\n",
       "      <th></th>\n",
       "      <th>SPX</th>\n",
       "      <th>GLD</th>\n",
       "      <th>USO</th>\n",
       "      <th>SLV</th>\n",
       "      <th>EUR/USD</th>\n",
       "    </tr>\n",
       "  </thead>\n",
       "  <tbody>\n",
       "    <tr>\n",
       "      <th>count</th>\n",
       "      <td>2290.000000</td>\n",
       "      <td>2290.000000</td>\n",
       "      <td>2290.000000</td>\n",
       "      <td>2290.000000</td>\n",
       "      <td>2290.000000</td>\n",
       "    </tr>\n",
       "    <tr>\n",
       "      <th>mean</th>\n",
       "      <td>1654.315776</td>\n",
       "      <td>122.732875</td>\n",
       "      <td>31.842221</td>\n",
       "      <td>20.084997</td>\n",
       "      <td>1.283653</td>\n",
       "    </tr>\n",
       "    <tr>\n",
       "      <th>std</th>\n",
       "      <td>519.111540</td>\n",
       "      <td>23.283346</td>\n",
       "      <td>19.523517</td>\n",
       "      <td>7.092566</td>\n",
       "      <td>0.131547</td>\n",
       "    </tr>\n",
       "    <tr>\n",
       "      <th>min</th>\n",
       "      <td>676.530029</td>\n",
       "      <td>70.000000</td>\n",
       "      <td>7.960000</td>\n",
       "      <td>8.850000</td>\n",
       "      <td>1.039047</td>\n",
       "    </tr>\n",
       "    <tr>\n",
       "      <th>25%</th>\n",
       "      <td>1239.874969</td>\n",
       "      <td>109.725000</td>\n",
       "      <td>14.380000</td>\n",
       "      <td>15.570000</td>\n",
       "      <td>1.171313</td>\n",
       "    </tr>\n",
       "    <tr>\n",
       "      <th>50%</th>\n",
       "      <td>1551.434998</td>\n",
       "      <td>120.580002</td>\n",
       "      <td>33.869999</td>\n",
       "      <td>17.268500</td>\n",
       "      <td>1.303297</td>\n",
       "    </tr>\n",
       "    <tr>\n",
       "      <th>75%</th>\n",
       "      <td>2073.010070</td>\n",
       "      <td>132.840004</td>\n",
       "      <td>37.827501</td>\n",
       "      <td>22.882499</td>\n",
       "      <td>1.369971</td>\n",
       "    </tr>\n",
       "    <tr>\n",
       "      <th>max</th>\n",
       "      <td>2872.870117</td>\n",
       "      <td>184.589996</td>\n",
       "      <td>117.480003</td>\n",
       "      <td>47.259998</td>\n",
       "      <td>1.598798</td>\n",
       "    </tr>\n",
       "  </tbody>\n",
       "</table>\n",
       "</div>"
      ],
      "text/plain": [
       "               SPX          GLD          USO          SLV      EUR/USD\n",
       "count  2290.000000  2290.000000  2290.000000  2290.000000  2290.000000\n",
       "mean   1654.315776   122.732875    31.842221    20.084997     1.283653\n",
       "std     519.111540    23.283346    19.523517     7.092566     0.131547\n",
       "min     676.530029    70.000000     7.960000     8.850000     1.039047\n",
       "25%    1239.874969   109.725000    14.380000    15.570000     1.171313\n",
       "50%    1551.434998   120.580002    33.869999    17.268500     1.303297\n",
       "75%    2073.010070   132.840004    37.827501    22.882499     1.369971\n",
       "max    2872.870117   184.589996   117.480003    47.259998     1.598798"
      ]
     },
     "execution_count": 8,
     "metadata": {},
     "output_type": "execute_result"
    }
   ],
   "source": [
    "# getting the statistical measures of the data\n",
    "gold_data.describe()"
   ]
  },
  {
   "cell_type": "code",
   "execution_count": 48,
   "id": "9edf2ec5",
   "metadata": {},
   "outputs": [
    {
     "data": {
      "text/plain": [
       "(array([111., 250., 459., 332., 137., 265., 414., 125., 115.,  82.]),\n",
       " array([ 676.530029 ,  896.1640378, 1115.7980466, 1335.4320554,\n",
       "        1555.0660642, 1774.700073 , 1994.3340818, 2213.9680906,\n",
       "        2433.6020994, 2653.2361082, 2872.870117 ]),\n",
       " <BarContainer object of 10 artists>)"
      ]
     },
     "execution_count": 48,
     "metadata": {},
     "output_type": "execute_result"
    },
    {
     "data": {
      "image/png": "[encoded data removed]",
      "text/plain": [
       "<Figure size 432x288 with 1 Axes>"
      ]
     },
     "metadata": {
      "needs_background": "light"
     },
     "output_type": "display_data"
    }
   ],
   "source": [
    "plt.hist(x=\"SPX\",data=gold_data)"
   ]
  },
  {
   "cell_type": "code",
   "execution_count": 49,
   "id": "238e9254",
   "metadata": {},
   "outputs": [
    {
     "data": {
      "text/plain": [
       "(array([ 55., 232., 155., 383., 738., 257.,  73., 209., 161.,  27.]),\n",
       " array([ 70.       ,  81.4589996,  92.9179992, 104.3769988, 115.8359984,\n",
       "        127.294998 , 138.7539976, 150.2129972, 161.6719968, 173.1309964,\n",
       "        184.589996 ]),\n",
       " <BarContainer object of 10 artists>)"
      ]
     },
     "execution_count": 49,
     "metadata": {},
     "output_type": "execute_result"
    },
    {
     "data": {
      "image/png": "[encoded data removed]",
      "text/plain": [
       "<Figure size 432x288 with 1 Axes>"
      ]
     },
     "metadata": {
      "needs_background": "light"
     },
     "output_type": "display_data"
    }
   ],
   "source": [
    "plt.hist(x=\"GLD\",data=gold_data)"
   ]
  },
  {
   "cell_type": "code",
   "execution_count": 51,
   "id": "8acb50b6",
   "metadata": {},
   "outputs": [
    {
     "data": {
      "text/plain": [
       "(array([ 691.,  160., 1186.,   83.,   13.,   26.,   46.,   33.,   28.,\n",
       "          24.]),\n",
       " array([  7.96     ,  18.9120003,  29.8640006,  40.8160009,  51.7680012,\n",
       "         62.7200015,  73.6720018,  84.6240021,  95.5760024, 106.5280027,\n",
       "        117.480003 ]),\n",
       " <BarContainer object of 10 artists>)"
      ]
     },
     "execution_count": 51,
     "metadata": {},
     "output_type": "execute_result"
    },
    {
     "data": {
      "image/png": "[encoded data removed]",
      "text/plain": [
       "<Figure size 432x288 with 1 Axes>"
      ]
     },
     "metadata": {
      "needs_background": "light"
     },
     "output_type": "display_data"
    }
   ],
   "source": [
    "plt.hist(x=\"USO\",data=gold_data)"
   ]
  },
  {
   "cell_type": "code",
   "execution_count": 52,
   "id": "12c9b85a",
   "metadata": {},
   "outputs": [
    {
     "data": {
      "text/plain": [
       "(array([116., 826., 665., 132., 126., 209., 139.,  50.,  21.,   6.]),\n",
       " array([ 8.85     , 12.6909998, 16.5319996, 20.3729994, 24.2139992,\n",
       "        28.054999 , 31.8959988, 35.7369986, 39.5779984, 43.4189982,\n",
       "        47.259998 ]),\n",
       " <BarContainer object of 10 artists>)"
      ]
     },
     "execution_count": 52,
     "metadata": {},
     "output_type": "execute_result"
    },
    {
     "data": {
      "image/png": "[encoded data removed]",
      "text/plain": [
       "<Figure size 432x288 with 1 Axes>"
      ]
     },
     "metadata": {
      "needs_background": "light"
     },
     "output_type": "display_data"
    }
   ],
   "source": [
    "plt.hist(x=\"SLV\",data=gold_data)"
   ]
  },
  {
   "cell_type": "code",
   "execution_count": 53,
   "id": "4f4b297b",
   "metadata": {},
   "outputs": [
    {
     "data": {
      "text/plain": [
       "(array([229., 317., 137., 210., 388., 474., 249., 165.,  43.,  78.]),\n",
       " array([1.039047 , 1.0950221, 1.1509972, 1.2069723, 1.2629474, 1.3189225,\n",
       "        1.3748976, 1.4308727, 1.4868478, 1.5428229, 1.598798 ]),\n",
       " <BarContainer object of 10 artists>)"
      ]
     },
     "execution_count": 53,
     "metadata": {},
     "output_type": "execute_result"
    },
    {
     "data": {
      "image/png": "[encoded data removed]",
      "text/plain": [
       "<Figure size 432x288 with 1 Axes>"
      ]
     },
     "metadata": {
      "needs_background": "light"
     },
     "output_type": "display_data"
    }
   ],
   "source": [
    "plt.hist(x=\"EUR/USD\",data=gold_data)"
   ]
  },
  {
   "cell_type": "code",
   "execution_count": 9,
   "id": "97d81fbe",
   "metadata": {},
   "outputs": [],
   "source": [
    "correlation = gold_data.corr()"
   ]
  },
  {
   "cell_type": "code",
   "execution_count": 10,
   "id": "0a8fca2e",
   "metadata": {},
   "outputs": [
    {
     "data": {
      "text/plain": [
       "<AxesSubplot:>"
      ]
     },
     "execution_count": 10,
     "metadata": {},
     "output_type": "execute_result"
    },
    {
     "data": {
      "image/png": "[encoded data removed]",
      "text/plain": [
       "<Figure size 576x576 with 2 Axes>"
      ]
     },
     "metadata": {
      "needs_background": "light"
     },
     "output_type": "display_data"
    }
   ],
   "source": [
    "# constructing a heatmap\n",
    "plt.figure(figsize = (8,8))\n",
    "sns.heatmap(correlation,annot=True)"
   ]
  },
  {
   "cell_type": "code",
   "execution_count": 11,
   "id": "66358c5f",
   "metadata": {},
   "outputs": [
    {
     "name": "stderr",
     "output_type": "stream",
     "text": [
      "C:\\Users\\deept\\anaconda3\\lib\\site-packages\\seaborn\\distributions.py:2557: FutureWarning: `distplot` is a deprecated function and will be removed in a future version. Please adapt your code to use either `displot` (a figure-level function with similar flexibility) or `histplot` (an axes-level function for histograms).\n",
      "  warnings.warn(msg, FutureWarning)\n"
     ]
    },
    {
     "data": {
      "text/plain": [
       "<AxesSubplot:xlabel='GLD', ylabel='Density'>"
      ]
     },
     "execution_count": 11,
     "metadata": {},
     "output_type": "execute_result"
    },
    {
     "data": {
      "image/png": "[encoded data removed]",
      "text/plain": [
       "<Figure size 432x288 with 1 Axes>"
      ]
     },
     "metadata": {
      "needs_background": "light"
     },
     "output_type": "display_data"
    }
   ],
   "source": [
    "sns.distplot(gold_data['GLD'],color='green')"
   ]
  },
  {
   "cell_type": "raw",
   "id": "95adcdf8",
   "metadata": {},
   "source": [
    "Splitting the dataset"
   ]
  },
  {
   "cell_type": "code",
   "execution_count": 12,
   "id": "b49ed454",
   "metadata": {},
   "outputs": [],
   "source": [
    "X = gold_data.drop(['Date','GLD'],axis=1)\n",
    "Y = gold_data['GLD']"
   ]
  },
  {
   "cell_type": "code",
   "execution_count": 13,
   "id": "7d12bf6f",
   "metadata": {},
   "outputs": [],
   "source": [
    "X_train, X_test, Y_train, Y_test = train_test_split(X, Y, test_size = 0.2, random_state=2)"
   ]
  },
  {
   "cell_type": "raw",
   "id": "dca0bfa2",
   "metadata": {},
   "source": [
    "Model Development"
   ]
  },
  {
   "cell_type": "markdown",
   "id": "9b04a607",
   "metadata": {},
   "source": [
    "Random forest regressor\n",
    "- A random forest regressor. A random forest is a meta estimator that fits a number of classifying decision trees on various sub-samples of the dataset and uses averaging to improve the predictive accuracy and control over-fitting"
   ]
  },
  {
   "cell_type": "code",
   "execution_count": 14,
   "id": "add32d04",
   "metadata": {},
   "outputs": [],
   "source": [
    "regressor = RandomForestRegressor(n_estimators=100)"
   ]
  },
  {
   "cell_type": "code",
   "execution_count": 15,
   "id": "2d147fd4",
   "metadata": {},
   "outputs": [
    {
     "data": {
      "text/plain": [
       "RandomForestRegressor()"
      ]
     },
     "execution_count": 15,
     "metadata": {},
     "output_type": "execute_result"
    }
   ],
   "source": [
    "# training the model\n",
    "regressor.fit(X_train,Y_train)"
   ]
  },
  {
   "cell_type": "raw",
   "id": "07e12328",
   "metadata": {},
   "source": [
    "Model Evaluation"
   ]
  },
  {
   "cell_type": "code",
   "execution_count": 16,
   "id": "21ee0122",
   "metadata": {},
   "outputs": [
    {
     "data": {
      "text/plain": [
       "RandomForestRegressor()"
      ]
     },
     "execution_count": 16,
     "metadata": {},
     "output_type": "execute_result"
    }
   ],
   "source": [
    "# training the model\n",
    "regressor.fit(X_train,Y_train)"
   ]
  },
  {
   "cell_type": "code",
   "execution_count": 17,
   "id": "8c3a3619",
   "metadata": {},
   "outputs": [],
   "source": [
    "# prediction on Test Data\n",
    "test_data_prediction = regressor.predict(X_test)"
   ]
  },
  {
   "cell_type": "code",
   "execution_count": 18,
   "id": "e66d352c",
   "metadata": {},
   "outputs": [
    {
     "name": "stdout",
     "output_type": "stream",
     "text": [
      "R squared error :  0.9891022229661693\n"
     ]
    }
   ],
   "source": [
    "# R squared error\n",
    "error_score = metrics.r2_score(Y_test, test_data_prediction)\n",
    "print(\"R squared error : \", error_score)"
   ]
  },
  {
   "cell_type": "raw",
   "id": "1388ccc3",
   "metadata": {},
   "source": [
    "Compare of Actual Values and Predicted Values"
   ]
  },
  {
   "cell_type": "code",
   "execution_count": 19,
   "id": "078623f6",
   "metadata": {},
   "outputs": [],
   "source": [
    "Y_test = list(Y_test)"
   ]
  },
  {
   "cell_type": "code",
   "execution_count": 20,
   "id": "1f0f005b",
   "metadata": {},
   "outputs": [
    {
     "data": {
      "image/png": "[encoded data removed]",
      "text/plain": [
       "<Figure size 432x288 with 1 Axes>"
      ]
     },
     "metadata": {
      "needs_background": "light"
     },
     "output_type": "display_data"
    }
   ],
   "source": [
    "plt.plot(Y_test, color='blue', label = 'Actual Value')\n",
    "plt.plot(test_data_prediction, color='red', label='Predicted Value')\n",
    "plt.title('Actual Price vs Predicted Price')\n",
    "plt.xlabel('Number of values')\n",
    "plt.ylabel('GLD Price')\n",
    "plt.legend()\n",
    "plt.show()"
   ]
  },
  {
   "cell_type": "markdown",
   "id": "8acc7a94",
   "metadata": {},
   "source": [
    "linear regression\n",
    "- Linear regression attempts to model the relationship between two variables by fitting a linear equation to observed data."
   ]
  },
  {
   "cell_type": "code",
   "execution_count": 28,
   "id": "b4264d43",
   "metadata": {},
   "outputs": [
    {
     "data": {
      "text/plain": [
       "LinearRegression()"
      ]
     },
     "execution_count": 28,
     "metadata": {},
     "output_type": "execute_result"
    }
   ],
   "source": [
    "regressor= LinearRegression()  \n",
    "regressor.fit(X_train, Y_train)  "
   ]
  },
  {
   "cell_type": "code",
   "execution_count": 29,
   "id": "401970bd",
   "metadata": {},
   "outputs": [],
   "source": [
    "y_pred= regressor.predict(X_test)"
   ]
  },
  {
   "cell_type": "code",
   "execution_count": 31,
   "id": "219cfbfa",
   "metadata": {},
   "outputs": [
    {
     "name": "stdout",
     "output_type": "stream",
     "text": [
      "Train Score:  0.8850695972446934\n",
      "Test Score:  0.8657886565869237\n"
     ]
    }
   ],
   "source": [
    "print('Train Score: ', regressor.score(X_train, Y_train))  \n",
    "print('Test Score: ', regressor.score(X_test, Y_test))  "
   ]
  },
  {
   "cell_type": "markdown",
   "id": "72fc19e2",
   "metadata": {},
   "source": [
    "Lasso regression\n",
    "- Lasso regression is a type of linear regression that uses shrinkage. Shrinkage is where data values are shrunk towards a central point, like the mean."
   ]
  },
  {
   "cell_type": "code",
   "execution_count": 41,
   "id": "32e172f6",
   "metadata": {},
   "outputs": [
    {
     "name": "stdout",
     "output_type": "stream",
     "text": [
      "Test Score:  0.8657886565869237\n"
     ]
    }
   ],
   "source": [
    "model = Lasso(alpha=1.0)\n",
    "model.fit(X_train,Y_train)\n",
    "y_pred = model.predict(X_test)\n",
    "print('Test Score: ', regressor.score(X_test, Y_test))  "
   ]
  },
  {
   "cell_type": "markdown",
   "id": "e003c5af",
   "metadata": {},
   "source": [
    "Out of the above three models, random forest regression has the highest accuracy.\n",
    "Hence, we choose the model with highest accuracy."
   ]
  },
  {
   "cell_type": "code",
   "execution_count": 54,
   "id": "e1870fa2",
   "metadata": {},
   "outputs": [
    {
     "name": "stdout",
     "output_type": "stream",
     "text": [
      "[159.45290968  81.50858067 113.4868037  128.55153817 126.20403783\n",
      " 141.31818338 165.49416492 124.44197659 113.95389904 122.9965895\n",
      " 113.95492464 174.89529849 132.66890174 159.24793304 118.8791679\n",
      " 122.14315717 150.37153054 161.27175405 152.2792036  162.19946709\n",
      " 145.88372183 118.07669395 180.21729122 178.13331554 123.51701986\n",
      "  98.82914322  76.63486248 119.38435511 113.85027665 159.25706609\n",
      "  93.76037617 120.05334649  88.61086583 114.28801659 112.77954274\n",
      " 144.19518102 118.78252489 115.87334354 144.06409553 113.81864246\n",
      " 100.49676727  89.42842238 120.36720699 110.47635305 146.4894628\n",
      " 119.30321261 110.99311348 111.3386287   96.48139076 123.40842816\n",
      "  79.51413425 115.36111603 121.78896764 114.55367722 120.9074622\n",
      " 117.10612464 152.31198525 182.7735091  196.73570503  91.06670951\n",
      " 101.92097594  87.48443506  94.33158785 119.17357764 121.8935122\n",
      " 125.85678089 163.2699701  122.91100556 113.55098736 104.06905043\n",
      " 155.16775229 176.87972077 125.62460858 113.85896766 119.69577146\n",
      " 120.03159609 117.85194226 118.35897733 113.72954121 129.97412373\n",
      " 121.74279861 104.64163725 117.17374823 126.31757797  94.63054496\n",
      "  88.6429881  173.79414659 123.3889615  121.11367109 106.85139516\n",
      " 102.43120839  75.64721451 160.63204133 116.53485791 123.43284852\n",
      " 128.90964962 141.9754171   94.90681665 140.59107397 150.88254462\n",
      " 120.61400122 126.18758167 126.15751557 117.79050312 120.23630249\n",
      "  96.07847005 108.46289277 160.74032164 149.25506194 116.90461024\n",
      " 101.89683477  78.55100685 113.55252108 121.86482779 111.50766509\n",
      " 119.97033408 144.93538115 150.48099293 120.46444466 148.63103233\n",
      " 102.36169588 113.04232004 116.67313346 114.17074491 111.72097362\n",
      " 149.60529086 103.27069375 162.8243783  127.26240013 159.3553434\n",
      " 122.69414947 123.01751489 121.65730575 114.16407868 119.73006341\n",
      " 121.6690294  110.41148326  93.51351227 120.88718035 105.29371566\n",
      " 105.74311748 121.82956746 123.37061551 104.36058862 124.41163091\n",
      " 157.15019835  90.2875932  111.75426942 116.24341673 129.71742482\n",
      " 122.66204747  86.86560029 125.58104783 149.1558729   93.20088142\n",
      " 113.41951717 114.76473252 174.20857764 111.54818695 112.26438102\n",
      " 124.60042052 149.13827841  92.28668121  96.62221445 120.33971987\n",
      " 181.05999744 122.20840259 116.75008011  99.19024942 119.31093226\n",
      " 153.69884139 117.41344481 116.04572722  88.49265654 201.18121904\n",
      " 112.70327442  95.90817139 110.27893385 110.79239714 124.15722345\n",
      "  91.40940976  99.25381492 118.22481586 111.46207587 120.21558021\n",
      " 123.73713755 116.59830111 149.21680142 157.42793857 121.43291003\n",
      " 118.67130713 145.28995075 111.46213774 173.82514998 106.34128071\n",
      " 112.64167754 202.03133513 121.34066544 123.19875899 162.56606178\n",
      " 111.96236108 116.9192883  110.19610625 111.5230842  143.44486659\n",
      " 113.74396159 111.96962888 116.62448493 100.72432155 105.04545753\n",
      " 119.94849788  96.83170431  95.42249477 143.72420099 111.70859517\n",
      " 145.44386748 112.09462627 159.67384334  90.69074117 113.87973255\n",
      " 117.10614529 120.83182786 116.0398794  156.17508598 100.41143402\n",
      " 138.51120883 122.80981088 121.73144105 111.22063915 145.12280834\n",
      " 119.62835114 118.93736976 121.12559311 123.49477293 119.45384482\n",
      " 121.68552767 122.79803947  89.85590671 127.5285141  143.49374375\n",
      "  89.13511679 163.81560356 150.56348474 125.36238887 157.29133434\n",
      " 118.5962307  114.76924715 110.41074389  99.27940825 129.19134616\n",
      " 104.91019759 164.50553141 124.27951869 127.94576049 126.33265293\n",
      " 152.92260953  91.02635368 180.12688271 121.33206179 123.3805987\n",
      "  92.93820488 118.91049021 167.74751536  95.97626635 112.07153519\n",
      " 105.48610035  82.39309463 129.36811507 147.6260147  145.12559953\n",
      "  81.06850359 145.72494054 125.0873386  123.29241873 121.55626896\n",
      " 106.21901712 144.37736667 117.65217212 123.67398912 119.81906032\n",
      " 146.09219012 121.31201565 143.70780585  96.75332067 121.04949103\n",
      " 118.85801666  95.85724353  95.7005734  122.83735573 120.23931521\n",
      " 114.752374   111.3848162  122.11769927 123.70751131 118.59965555\n",
      " 144.90842651  99.26420076 122.09583773 109.34073179  97.6923005\n",
      " 103.82858753  82.17668901 108.48564656  94.58386165  99.36237847\n",
      " 127.92063336 154.53006174  94.83214737 120.56119213 125.27193692\n",
      " 123.741244   123.153979   110.65471319  93.77130654 144.04886361\n",
      " 118.70953745 111.64287284 159.07092617 116.22058371  89.59449933\n",
      " 125.3954476   93.77796895 155.10683142 119.70840177 120.89033884\n",
      " 150.21060248 112.07266487 112.17031901 103.40785949 121.88973962\n",
      "  79.39417285 111.32332444 129.57981579 121.20050645  97.51862149\n",
      " 138.03369157 117.14618729 120.79220009 147.4118315  149.15097787\n",
      " 115.34630618 156.03123936 125.80296997 150.0364708  125.49592695\n",
      " 152.08236215 113.66641537 120.94533895 160.95425308 116.80893399\n",
      " 125.33117629 157.17971833 120.4838592  125.66320966 147.16276169\n",
      " 141.23191504 127.86839214 116.49844827 113.86003172 125.56616732\n",
      "  93.7151239  119.91858182 143.5779658  110.49294691 111.56151552\n",
      " 153.32389533 117.5161175  159.14273208 130.61792167 120.47996196\n",
      " 140.69432122 162.0360364  113.23249654 115.78985464 153.13016467\n",
      "  87.59723109 120.75954152 129.37236482 125.08256637 124.47800179\n",
      " 122.52210381  94.36181387 142.56208797 104.65794024 145.68266189\n",
      "  93.1734386  104.70960227 116.54046577 120.5260613  120.44862385\n",
      "  94.68963425 120.59695494 154.15009906 117.18925871 156.49657478\n",
      " 123.86401547 110.41664959 124.85086427 100.6794172   94.36971456\n",
      " 105.71510695 122.36927215  79.9786057  126.70980467 152.88190713\n",
      " 114.88722911 114.97966394 119.08904866 116.79453493 122.84487067\n",
      " 120.91030351 120.88673239 105.0696433  191.90883411 122.59664436\n",
      " 116.62755088  77.84989594 124.65745662 143.2709885  120.37043229\n",
      " 121.03655506  94.50745135 111.36682253 119.75471172 112.48632277\n",
      "  79.13563026 142.62965128 121.89588529 113.07538385  88.3918062\n",
      " 114.03342237 163.40511021 125.20580519 152.11443433 113.25319918\n",
      " 118.62431992 117.28641957 104.68078767 118.41921617 126.05035311\n",
      " 120.41292474 100.69533386 143.8328044  121.01265419 160.52275467\n",
      " 149.57414181 108.42224119 120.97109044 158.885207   118.21457812\n",
      " 158.11607219 143.83779103 120.47800019 159.86639242 111.24045013\n",
      " 126.4542079  144.93505484 106.94838427]\n"
     ]
    }
   ],
   "source": [
    "test_data_prediction = regressor.predict(X_test)\n",
    "print(test_data_prediction)"
   ]
  }
 ],
 "metadata": {
  "kernelspec": {
   "display_name": "Python 3",
   "language": "python",
   "name": "python3"
  },
  "language_info": {
   "codemirror_mode": {
    "name": "ipython",
    "version": 3
   },
   "file_extension": ".py",
   "mimetype": "text/x-python",
   "name": "python",
   "nbconvert_exporter": "python",
   "pygments_lexer": "ipython3",
   "version": "3.8.8"
  }
 },
 "nbformat": 4,
 "nbformat_minor": 5
}
