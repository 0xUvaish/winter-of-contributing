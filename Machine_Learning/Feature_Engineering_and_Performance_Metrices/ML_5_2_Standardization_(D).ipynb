{
  "nbformat": 4,
  "nbformat_minor": 0,
  "metadata": {
    "colab": {
      "name": "ML_5_2_Standardization_(D).ipynb",
      "provenance": []
    },
    "kernelspec": {
      "name": "python3",
      "display_name": "Python 3"
    },
    "language_info": {
      "name": "python"
    }
  },
  "cells": [
    {
      "cell_type": "markdown",
      "metadata": {
        "id": "HHfJqDWevYm9"
      },
      "source": [
        "## Standardization "
      ]
    },
    {
      "cell_type": "markdown",
      "metadata": {
        "id": "BOAR2mc_hzXH"
      },
      "source": [
        "\n",
        "**Type of Content:** Documentation\n",
        "\n",
        "**Domain:** Machine Learning\n",
        "\n",
        "**Module:** Feature Engineering and Performance Metrices"
      ]
    },
    {
      "cell_type": "markdown",
      "metadata": {
        "id": "YjgvwCLNvg0b"
      },
      "source": [
        "### What is Standardization?"
      ]
    },
    {
      "cell_type": "markdown",
      "metadata": {
        "id": "0ECIuMo_vmIr"
      },
      "source": [
        "Standardization is another feature scaling technique where the values are centered around the mean with a unit standard deviation. This means that the mean of the attribute becomes zero and the resultant distribution has a unit standard deviation.\n",
        "\n",
        "Standardization assumes that your observations fit a Gaussian distribution (bell curve) with a well-behaved mean and standard deviation. You can still standardize your data if this expectation is not met, but you may not get reliable results.\n",
        "\n",
        "Standardization requires that you know or are able to accurately estimate the mean and standard deviation of observable values. You may be able to estimate these values from your training data, not the entire dataset."
      ]
    },
    {
      "cell_type": "markdown",
      "metadata": {
        "id": "TR-hDHB5U23V"
      },
      "source": [
        "### How to standardize data?"
      ]
    },
    {
      "cell_type": "markdown",
      "metadata": {
        "id": "UpV_afA5U6XW"
      },
      "source": [
        "Z-score is one of the most popular methods to standardize data, and can be done by subtracting the mean and dividing by the standard deviation for each value of each feature.\n",
        "\n",
        "![image.png](data:image/png;base64,iVBORw0KGgoAAAANSUhEUgAAAQcAAAA2CAYAAADK+lwbAAAMN0lEQVR4Ae2dgZHTSgyGrwVaoAVaoAVaoIVrgRZogRZogRZogRby5rvHNyN0Wid2nNhOtDN5tndX0q9fWnkd53gvp27NQDPQDBQMvBR93bVjBr5+/Xr6/Pnz6cOHD6dPnz7tGGlDOzoDXRwOGMHfv3+fXl5eTq+vrwdE35CPwkAXh6NEKuD88ePHW3Hg2K0ZuBUDXRxuxewN9bJjYOfw58+fG1pp1c/OQBeHA2bAx48f3753OCD0hnwgBro4HChYQO3vGw4WsAPD7eKwUvB4/me7z5uE79+//6P1y5cvb28XRo8BP3/+PDEHed5G/Pr1603Pt2/f/tHDBbp5pEAmNzGgI2Ngrt9VoL9q4AODH7FUc+/dBzbw8AEfLeOFe33jqB8c41iFPeua8t25YiFOFG3eIGlfGxHDCLP+KLOXYxeHFSLBonOxEmiSJDZeOY4WNIlF4pJwNpKO+dUCZyzrR47ktJiABfncLFK5n2uSmseVnNx7eV0Kr3KEb/jKxz58YI5FIC84x5iX2xzfsQcnMTb0wS24iIONOV6LWXzOQZYx88f+PRzfZ9AeUB0MQ0xEEicvXhKgWngkD3MZjw19OdEcZz6JmFvEoHyeM5JlcTAWE15ZknkPTf9YbHBTFS39poDm5ljun+s7dkf8E+PYMmZw5+LLfPqdG+W3Pu/icGUEqPjsHGgmbhXo3EdBYEHmfvSQfDnR6CexSCR3CPTZoh5kcwK7m6hkKQCVPeZWBUOb9zpGjsEDB96RIwZ8ZiwXW+aMOJ3jOxxP2c6cGxMf57yOmI3pHniOuDjv4pAZueLax4EqcXNisPBItOpOQtGo7n7KVPqFPUq2UWI7n0XCnPiZs9WluODPks+UP/rlEV6qQsY4vI12OhWnc31HR7VjwTZ+5xjTT5P7is9LYvq/lvv/t4vDipyTPPnuofqcONXjB3NNWHcjynMc3f3iHBMx3z2n7pAkdpW4Ue9ezikMVeGUt8wzuL1zZ05dmJf4zhx4QiY3x0Z6RrFGD2OjgpPt3Pu6i8NKjJsgOQFRTx/JGxuJVt3lTNi8uJFFploYUS86q2QbyY6KSdS5l3MLQLUFl7dqgY6K6hzfnVvpd2zEE9xXN40pf0a67tnfxWEltk2QalEzlhsJU/WTRHFxuxAsPl6TWLngYKPSm2XZxpvk4s749niN7/hXPYbAGzu33JibOZHDOb5PzSVesdCrHyxyX+04KPRgNmeiXPZji+suDiuxPkoekqPaTbA9RiY2EplksZ+k8Vz9JhLX1SLJCwH9WZZEVda7l3ojHs4Z30vSjnYA4Bw90rmj0F98sTDO8Z0Ywm1u6jBOXMd4yz39ueVYqSPP2+r6vbdbITm4XZKPYJt4uENCjAJOf7zbsDi9kyjDMSa1yRmLRqYNnfHRAwx+Wchc7UQ5Fl11Z6Ov6o+y9zynAETftI2PcFNhhUN3Ytf6Do85vvAdC7qxE5vjXscjmC0kYK8KSJx/7/MuDisyTqBJBhLEz5R653gkebmzqSPfsZnH4uBo0cj60cFiVyfz6VOW65yEjivjcWQj27zHNRjjYoo28YcFWuFFTj7lIsrO8R07kVt4osWYudi1QWFynn0ekTOeOdbO2fLYxWFL9tt2M7BjBro47Dg4Da0Z2JKBLg5bst+2m4EdM9DFYcfBaWjNwJYMdHHYkv223QzsmIEuDjsOTkNrBrZkYLI4+BqIV0i8coktX8exPm8GmoHjMzBZHHhH63vY+AcvvLfN78qPT0V70Aw0A5GBYXHgRxnx12AI8QMPfgQy5wcb/jqP3ceST/XDluhAnzcDzcBtGBgWh8ocu4X8C7BqXvc1A83A8Rm4uDiwW9h7YViyM2mZZTu65u2xeKtK2UXF4QiFoXKu+5qBZmA5A2eLQ3/5uJzclmwGjszAsDjwGpM3FdVbiTmPF/2F5JHTo7E/MwPD4sBrTN5M5OLANf3dmoFm4LEZKIsDjxK8xvRHUPHv4Ud/N//YNLV3zcDzMfCuOPDIEH/fYIHg2+lqJ/F8lLXHzcBzMPCuODyH28f0kkc6dnE88lGsYxHf0iMw8QHT6F89moNvr37O8eER5nZxCFEksXls2nsDJwuRXd1eGq+7wTTny+pz2Lf0k10yRXjNRgE9933dLewu9aGLQ2COZFg7IYL61U69U6+mcAVFt1jIW/rJTeLcQp5DG4X8kp3V2nbnYMxzuzj8ZeTS4GUCt7i+JMnujesWhXWPfi7llR3V2jurpVgulevi8Jcpnt+PEDxx7uX7Bui7RWHdo5+XLqpq3i12VpWdNfu6OPxl8yjBA+fevhe51fcNe/PzmoXHI9IRHlmjjw9fHPifhfhvUrCw4v/4hKSmzwVHAL1mLDfukIyrD138STlJnH8sph6ONGXt11a2Ea+5e2rLX6uSYKNnYW0oM4WPMX3BJvjFhnzlP/MiJnR4za4L+0uaOsQDlik/sQE+/RR3tM+5PsJ1HEMeDolb7OdcXZUMcjYwoyNiRgabNnVxhB9jzjXyNh45kGN8xLtzI1fajrqYF+1yHf1iTByMTbWHLg4QEYMFERCZA8ACJ3i5PxIHwSRsnEMfCYJs/HcnmOM1YwY+FhBkGcuB1SY6CCLzbFyrzz6P1+AzmdSFn9jJDUyMRUz08RN5+pe0uX5aOCgMscF3LJr4JM6KM32M/CNjq2QcM57qpx88yOBPbn7fEG05B9zmKPZHuyVsYYNPtMs5/Jtb2L8298T2PgMcOfgR0qoEJyliEuAmhDJXUivXkYvJ5xx0EZzY1I8+9PIxeHEe/c6N/eDJdzXGmTvSdQ0+8MeEw3ZefCb4HD+iT9X5XD/BCLYqDozZD+/opoEXzlyA4jA2+sN8z1nElQyy5zBXOWTctB2PMf4U/1FxwDfGq4YOfVef/o3yhX7nVjrpe9jiYIBJ6tggMQeQvrzAowwkQmaWYw6yBkYZSXdBee04R5PWJHbMBVDJjHBeiy8vHLF4FFMuGIzrR+ZZ2dFRnXP8dOeU44AusLm40UkfbYobCqot4kBXFe8lmNGPnamFzRwXc8Ux8anwIEfTR885Lsk95GJ72OJgICGV4EB6ta2DDKp1TI5IkOMxkeI4+keyBq2yOwq4/SZ6tFXd0dfAV9mKdsVUFQB9dDFGualzdVa2Kz9dPMYKu+jgyCcXDG0Tt1HsclFXBhvV2FzM6IOXqRzR5jndFR5lGcNGbMZlTu5Fec7/1ZhHD35N4kEcwYa8KkjMob9KfNx3B0LwcnOsCgBzSUpsV22UtCMZceadhhjWxhcxjzAxhzsi43PbSOfITxfPiOvK/tTCxE7FGfySD5ln9J/DXOWQd/BqLGJm51rtXpWv8CiPXI7BCKt+5PnqiseHLg7RUZKhIswKO7rzOV4lpWPRTjwnyaqKP1oAyCJTbUFdHPkOKYal+KptbPRhCpNjYJjblvo5ilNl34U14iZziQ5vJpW+c5grbManGtOG+VAVK+WZU7WR7JLcy/ofsjiQ8NUdm2TJ/dWdj2QyGAYnE8c1xSYu5Fjd0UGAqoCLz4SJcshUi42kjdVemWvxqafyz74RJhcfR9olus7pXOKnOvNxipuKYx9dYsGMPo14GGEGT5VfOSewh26L1aX5h/6cS/QtzT1kY3vI4gDRcSHpMIGOgae/Cnic4wJQh0crtknGtYuEOSamRUY5jtmmOhhjixiv6SNpKGr2U1Q8vxafCYmdUYNL7cU5LAp8schVc+L8eD7XT/nWVtTFeeTEMfCALzf6K7/dnRkz8sVzdMzFjEyOdYWT2MKlLfI45bdFIGJEh37nfsYynmiL8djeMxdHD3oOablBFEmekysHHLIyqcyJOhnnjhAXbCbZ8YyDawJkISEhoz30xN0IeL07aINjTO6l+JC7pLFIIiZkwESfiw88+Y44pXuJnyygyoZFP8cWXsGXY8f8qlkcGKsW8RLMMb+MZcYZ8wjMGV/lNz7luOvT0txT3uNDFgfIJ9B8CCgfkjkHBRJc6M6JC1WS6CNA6uJIc9Fw7WJXZnS3VQ48yOVEYDza4RzczBNDllkbnz7EIzjEzDk2wUUiijfOv+RcOY/n/ESnc+MxLv5sF66MBTI5TnF+9ofr3KJdzsUsD+diU+lERvmq+CET7RqHShd49Tdj5xpbymesef5DFofsZF83A83AfAa6OMznrCWagadg4D8P7AaLMKQvLQAAAABJRU5ErkJggg==)\n",
        "\n",
        "Once the standardization is done, all the features will have a mean of zero, a standard deviation of one, and thus, the same scale.\n",
        "\n",
        "Subtracting the mean from the data is called **centering**, whereas dividing by the standard deviation is called **scaling**. As such, the method is sometime called **“center scaling“**."
      ]
    },
    {
      "cell_type": "markdown",
      "metadata": {
        "id": "0hjS2d0mZvko"
      },
      "source": [
        "Standardization comes into picture when features of input data set have large differences between their ranges, or simply when they are measured in different measurement units (e.g., Pounds, Meters, Miles … etc).\n",
        "\n",
        "These differences in the ranges of initial features causes trouble to many machine learning models. For example, for the models that are based on distance computation, if one of the features has a broad range of values, the distance will be governed by this particular feature.\n",
        "\n",
        "To illustrate this with an example : say we have a 2-dimensional data set with two features, Height in Meters and Weight in Pounds, that range respectively from [1 to 2] Meters and [10 to 200] Pounds. No matter what distance based model you perform on this data set, the Weight feature will dominate over the Height feature and will have more contribution to the distance computation, just because it has bigger values compared to the Height. So, to prevent this problem, transforming features to comparable scales using standardization is the solution."
      ]
    },
    {
      "cell_type": "markdown",
      "metadata": {
        "id": "mbJW7EHmZ_F-"
      },
      "source": [
        "A value is standardized as follows:\n",
        "\n",
        "y = (x – mean) / standard_deviation\n",
        "\n",
        "Where the mean is calculated as:\n",
        "\n",
        "mean = sum(x) / count(x)\n",
        "\n",
        "And the standard_deviation is calculated as:\n",
        "\n",
        "standard_deviation = sqrt( sum( (x – mean)^2 ) / count(x))\n",
        "\n",
        "We can guesstimate a mean of 10.0 and a standard deviation of about 5.0. Using these values, we can standardize the first value of 20.7 as follows:\n",
        "\n",
        "y = (x – mean) / standard_deviation\n",
        "\n",
        "y = (20.7 – 10) / 5\n",
        "\n",
        "y = (10.7) / 5\n",
        "\n",
        "y = 2.14\n",
        "\n",
        "The mean and standard deviation estimates of a dataset can be more robust to new data than the minimum and maximum.\n",
        "\n",
        "You can standardize your dataset using the scikit-learn object StandardScaler."
      ]
    },
    {
      "cell_type": "code",
      "metadata": {
        "colab": {
          "base_uri": "https://localhost:8080/"
        },
        "id": "fPr2ujo_asAa",
        "outputId": "8122e403-24b2-424d-9111-0bf7d44e15cd"
      },
      "source": [
        "# example of a standardization\n",
        "from numpy import asarray\n",
        "from sklearn.preprocessing import StandardScaler\n",
        "# define data\n",
        "data = asarray([[100, 0.001],\n",
        "\t\t\t\t[8, 0.05],\n",
        "\t\t\t\t[50, 0.005],\n",
        "\t\t\t\t[88, 0.07],\n",
        "\t\t\t\t[4, 0.1]])\n",
        "print(data)\n",
        "# define standard scaler\n",
        "scaler = StandardScaler()\n",
        "# transform data\n",
        "scaled = scaler.fit_transform(data)\n",
        "print(scaled)"
      ],
      "execution_count": 74,
      "outputs": [
        {
          "output_type": "stream",
          "name": "stdout",
          "text": [
            "[[1.0e+02 1.0e-03]\n",
            " [8.0e+00 5.0e-02]\n",
            " [5.0e+01 5.0e-03]\n",
            " [8.8e+01 7.0e-02]\n",
            " [4.0e+00 1.0e-01]]\n",
            "[[ 1.26398112 -1.16389967]\n",
            " [-1.06174414  0.12639634]\n",
            " [ 0.         -1.05856939]\n",
            " [ 0.96062565  0.65304778]\n",
            " [-1.16286263  1.44302493]]\n"
          ]
        }
      ]
    },
    {
      "cell_type": "markdown",
      "metadata": {
        "id": "hu0-voGVdHqR"
      },
      "source": [
        "We can see that the mean value in each column is assigned a value of 0.0 if present and the values are centered around 0.0 with values both positive and negative."
      ]
    },
    {
      "cell_type": "markdown",
      "metadata": {
        "id": "hdIEV-3oc1YM"
      },
      "source": [
        "**Check whether the data is standardized or not**"
      ]
    },
    {
      "cell_type": "code",
      "metadata": {
        "colab": {
          "base_uri": "https://localhost:8080/"
        },
        "id": "-MvvGYWua_ae",
        "outputId": "1377beb5-35ec-4af2-e7c2-9c00b3cb0b89"
      },
      "source": [
        "scaled.mean(axis=0)"
      ],
      "execution_count": 79,
      "outputs": [
        {
          "output_type": "execute_result",
          "data": {
            "text/plain": [
              "array([ 4.4408921e-17, -4.4408921e-17])"
            ]
          },
          "metadata": {},
          "execution_count": 79
        }
      ]
    },
    {
      "cell_type": "code",
      "metadata": {
        "colab": {
          "base_uri": "https://localhost:8080/"
        },
        "id": "FARaq8psctCt",
        "outputId": "57ff4c96-50c6-4fa5-e615-2eb5e66b766c"
      },
      "source": [
        "scaled.std(axis=0)"
      ],
      "execution_count": 89,
      "outputs": [
        {
          "output_type": "execute_result",
          "data": {
            "text/plain": [
              "array([1., 1.])"
            ]
          },
          "metadata": {},
          "execution_count": 89
        }
      ]
    },
    {
      "cell_type": "code",
      "metadata": {
        "colab": {
          "base_uri": "https://localhost:8080/",
          "height": 303
        },
        "id": "h33dvMy3bbbR",
        "outputId": "6f4b9bef-d625-401f-ca61-a83fbd399fcd"
      },
      "source": [
        "#mean should be 0\n",
        "import matplotlib.pyplot as plt\n",
        "import matplotlib.lines as mlines\n",
        "plt.ylim(-1,1)\n",
        "means=[]\n",
        "for i in range(data.shape[1]):\n",
        "  means.append(np.mean(scaled[:,i]))\n",
        "print(means)\n",
        "plt.plot(means, scaley=False)"
      ],
      "execution_count": 88,
      "outputs": [
        {
          "output_type": "stream",
          "name": "stdout",
          "text": [
            "[4.4408920985006264e-17, -4.4408920985006264e-17]\n"
          ]
        },
        {
          "output_type": "execute_result",
          "data": {
            "text/plain": [
              "[<matplotlib.lines.Line2D at 0x7f1c96dfb810>]"
            ]
          },
          "metadata": {},
          "execution_count": 88
        },
        {
          "output_type": "display_data",
          "data": {
            "image/png": "[encoded data removed]",
            "text/plain": [
              "<Figure size 432x288 with 1 Axes>"
            ]
          },
          "metadata": {
            "needs_background": "light"
          }
        }
      ]
    },
    {
      "cell_type": "code",
      "metadata": {
        "colab": {
          "base_uri": "https://localhost:8080/",
          "height": 303
        },
        "id": "k1ZtSC3-b9S1",
        "outputId": "f3ae8ca5-c48e-4e92-de1c-6a00c3d5155c"
      },
      "source": [
        "#Check variance which should be 1\n",
        "plt.ylim(0,2)\n",
        "vars=[]\n",
        "for i in range(data.shape[1]):\n",
        "  vars.append(np.var(scaled[:,i]))\n",
        "print(vars)\n",
        "plt.plot(vars)\n"
      ],
      "execution_count": 87,
      "outputs": [
        {
          "output_type": "stream",
          "name": "stdout",
          "text": [
            "[0.9999999999999998, 1.0]\n"
          ]
        },
        {
          "output_type": "execute_result",
          "data": {
            "text/plain": [
              "[<matplotlib.lines.Line2D at 0x7f1c96e85ed0>]"
            ]
          },
          "metadata": {},
          "execution_count": 87
        },
        {
          "output_type": "display_data",
          "data": {
            "image/png": "[encoded data removed]",
            "text/plain": [
              "<Figure size 432x288 with 1 Axes>"
            ]
          },
          "metadata": {
            "needs_background": "light"
          }
        }
      ]
    },
    {
      "cell_type": "markdown",
      "metadata": {
        "id": "8CCBGgMga-RX"
      },
      "source": [
        "From above output we can see that our data is standardized as mean is zero and standard deviation is one."
      ]
    },
    {
      "cell_type": "markdown",
      "metadata": {
        "id": "KhDSrNP2Usqz"
      },
      "source": [
        "### When to standardize data and why?"
      ]
    },
    {
      "cell_type": "markdown",
      "metadata": {
        "id": "Ank3tBh4VNOx"
      },
      "source": [
        "For distance-based models, standardization is performed to prevent features with wider ranges from dominating the distance metric. But the reason we standardize data is not the same for all machine learning models and differs from one model to another.\n",
        "\n",
        "So before which ML models and methods you have to standardize your data and why?\n",
        "\n",
        "1. **BEFORE PCA:**\n",
        "In Principal Component Analysis, features with high variances/wide ranges, get more weight than those with low variance, and consequently, they end up illegitimately dominating the First Principal Components (Components with maximum variance). I used the word “Illegitimately” here because the reason these features have high variances compared to the other ones is just that they were measured on different scales.Standardization can prevent this, by giving the same weightage to all features.\n",
        "\n",
        "2. **BEFORE CLUSTERING:**\n",
        "Clustering models are distance-based algorithms, in order to measure similarities between observations and form clusters they use a distance metric. So, features with high ranges will have a bigger influence on the clustering. Therefore, standardization is required before building a clustering model.\n",
        "\n",
        "3. **BEFORE KNN:**\n",
        "k-nearest neighbor is a distance-based classifier that classifies new observations based on similarity measures (e.g., distance metrics) with labeled observations of the training set. Standardization makes all variables contribute equally to the similarity measures.\n",
        "\n",
        "4. **BEFORE SVM:**\n",
        "Support Vector Machine tries to maximize the distance between the separating plane and the support vectors. If one feature has very large values, it will dominate over other features when calculating the distance. So Standardization gives all features the same influence on the distance metric.\n",
        "\n",
        "5. **BEFORE MEASURING VARIABLE IMPORTANCE IN REGRESSION MODELS:**\n",
        "You can measure variable importance in regression analysis, by fitting a regression model using the standardized independent variables and comparing the absolute value of their standardized coefficients. But, if the independent variables are not standardized, comparing their coefficients becomes meaningless.\n",
        "\n",
        "6. **BEFORE LASSO AND RIDGE REGRESSION:**\n",
        "LASSO and Ridge regressions place a penalty on the magnitude of the coefficients associated with each variable. And the scale of variables will affect how many penalties will be applied to their coefficients. Because coefficients of variables with large variance are small and thus less penalized. Therefore, standardization is required before fitting both regressions."
      ]
    },
    {
      "cell_type": "markdown",
      "metadata": {
        "id": "MXPPLFi7V5zo"
      },
      "source": [
        "### What are the cases when we can’t apply standardization?"
      ]
    },
    {
      "cell_type": "markdown",
      "metadata": {
        "id": "6TVvdaibV7lu"
      },
      "source": [
        "1. Logistic Regression \n",
        "2. Tree-based algorithms\n",
        "\n",
        "Logistic Regression and Tree-based algorithms such as Decision Tree, Random forest, and gradient boosting, are fairly insensitive to the scale of the features. Think about it, a decision tree is only splitting a node based on a single feature. The decision tree splits a node on a feature that increases the homogeneity of the node. This split on a feature is not influenced by other features. So standardization is not needed before fitting this kind of models.\n"
      ]
    },
    {
      "cell_type": "markdown",
      "metadata": {
        "id": "PZ7LVbcVexPB"
      },
      "source": [
        "### Implementation on Real Dataset"
      ]
    },
    {
      "cell_type": "markdown",
      "metadata": {
        "id": "49Ht97ZUevWR"
      },
      "source": [
        "It is useful to standardize attributes for a model that relies on the distribution of attributes such as Gaussian processes.\n",
        "\n",
        "The example below demonstrate data standardization of the Iris flowers dataset."
      ]
    },
    {
      "cell_type": "code",
      "metadata": {
        "id": "OH6rPwK17HKQ"
      },
      "source": [
        "from sklearn import datasets\n",
        "import numpy as np\n",
        "import pandas as pd"
      ],
      "execution_count": 107,
      "outputs": []
    },
    {
      "cell_type": "code",
      "metadata": {
        "id": "G1Gux3AF7M0s"
      },
      "source": [
        "#Loading Iris dataset from  sklearn library\n",
        "Iris = datasets.load_iris()"
      ],
      "execution_count": 108,
      "outputs": []
    },
    {
      "cell_type": "code",
      "metadata": {
        "colab": {
          "base_uri": "https://localhost:8080/"
        },
        "id": "VY6AN1rv7P7E",
        "outputId": "8427a5d7-5cef-467d-c900-21ff4507ef12"
      },
      "source": [
        "#Here are all the keys\n",
        "list(Iris.keys())"
      ],
      "execution_count": 109,
      "outputs": [
        {
          "output_type": "execute_result",
          "data": {
            "text/plain": [
              "['data', 'target', 'target_names', 'DESCR', 'feature_names', 'filename']"
            ]
          },
          "metadata": {},
          "execution_count": 109
        }
      ]
    },
    {
      "cell_type": "code",
      "metadata": {
        "colab": {
          "base_uri": "https://localhost:8080/",
          "height": 204
        },
        "id": "ClMzeCP77Vwk",
        "outputId": "c636b642-aa3f-4c66-9d58-a8780806ad28"
      },
      "source": [
        "#Now for just data preprocessing purpose lets convert the data into Dataframe\n",
        "df_I = pd.DataFrame(Iris['data'])\n",
        "df_I['Species'] = pd.DataFrame(Iris['target'])\n",
        "df_I.head()"
      ],
      "execution_count": 110,
      "outputs": [
        {
          "output_type": "execute_result",
          "data": {
            "text/html": [
              "<div>\n",
              "<style scoped>\n",
              "    .dataframe tbody tr th:only-of-type {\n",
              "        vertical-align: middle;\n",
              "    }\n",
              "\n",
              "    .dataframe tbody tr th {\n",
              "        vertical-align: top;\n",
              "    }\n",
              "\n",
              "    .dataframe thead th {\n",
              "        text-align: right;\n",
              "    }\n",
              "</style>\n",
              "<table border=\"1\" class=\"dataframe\">\n",
              "  <thead>\n",
              "    <tr style=\"text-align: right;\">\n",
              "      <th></th>\n",
              "      <th>0</th>\n",
              "      <th>1</th>\n",
              "      <th>2</th>\n",
              "      <th>3</th>\n",
              "      <th>Species</th>\n",
              "    </tr>\n",
              "  </thead>\n",
              "  <tbody>\n",
              "    <tr>\n",
              "      <th>0</th>\n",
              "      <td>5.1</td>\n",
              "      <td>3.5</td>\n",
              "      <td>1.4</td>\n",
              "      <td>0.2</td>\n",
              "      <td>0</td>\n",
              "    </tr>\n",
              "    <tr>\n",
              "      <th>1</th>\n",
              "      <td>4.9</td>\n",
              "      <td>3.0</td>\n",
              "      <td>1.4</td>\n",
              "      <td>0.2</td>\n",
              "      <td>0</td>\n",
              "    </tr>\n",
              "    <tr>\n",
              "      <th>2</th>\n",
              "      <td>4.7</td>\n",
              "      <td>3.2</td>\n",
              "      <td>1.3</td>\n",
              "      <td>0.2</td>\n",
              "      <td>0</td>\n",
              "    </tr>\n",
              "    <tr>\n",
              "      <th>3</th>\n",
              "      <td>4.6</td>\n",
              "      <td>3.1</td>\n",
              "      <td>1.5</td>\n",
              "      <td>0.2</td>\n",
              "      <td>0</td>\n",
              "    </tr>\n",
              "    <tr>\n",
              "      <th>4</th>\n",
              "      <td>5.0</td>\n",
              "      <td>3.6</td>\n",
              "      <td>1.4</td>\n",
              "      <td>0.2</td>\n",
              "      <td>0</td>\n",
              "    </tr>\n",
              "  </tbody>\n",
              "</table>\n",
              "</div>"
            ],
            "text/plain": [
              "     0    1    2    3  Species\n",
              "0  5.1  3.5  1.4  0.2        0\n",
              "1  4.9  3.0  1.4  0.2        0\n",
              "2  4.7  3.2  1.3  0.2        0\n",
              "3  4.6  3.1  1.5  0.2        0\n",
              "4  5.0  3.6  1.4  0.2        0"
            ]
          },
          "metadata": {},
          "execution_count": 110
        }
      ]
    },
    {
      "cell_type": "code",
      "metadata": {
        "colab": {
          "base_uri": "https://localhost:8080/",
          "height": 204
        },
        "id": "Mk6Y6_RbHUjL",
        "outputId": "852ca982-692d-4179-9c7e-218d8b539ddc"
      },
      "source": [
        "#I will just replace columns name with real name of columns\n",
        "df_I=df_I.rename({0: 'SepalLengthCm', 1: 'SepalWidthCm', 2: 'PetalLengthCm', 3: 'PetalWidthCm'},axis=1)\n",
        "df_I.head()"
      ],
      "execution_count": 111,
      "outputs": [
        {
          "output_type": "execute_result",
          "data": {
            "text/html": [
              "<div>\n",
              "<style scoped>\n",
              "    .dataframe tbody tr th:only-of-type {\n",
              "        vertical-align: middle;\n",
              "    }\n",
              "\n",
              "    .dataframe tbody tr th {\n",
              "        vertical-align: top;\n",
              "    }\n",
              "\n",
              "    .dataframe thead th {\n",
              "        text-align: right;\n",
              "    }\n",
              "</style>\n",
              "<table border=\"1\" class=\"dataframe\">\n",
              "  <thead>\n",
              "    <tr style=\"text-align: right;\">\n",
              "      <th></th>\n",
              "      <th>SepalLengthCm</th>\n",
              "      <th>SepalWidthCm</th>\n",
              "      <th>PetalLengthCm</th>\n",
              "      <th>PetalWidthCm</th>\n",
              "      <th>Species</th>\n",
              "    </tr>\n",
              "  </thead>\n",
              "  <tbody>\n",
              "    <tr>\n",
              "      <th>0</th>\n",
              "      <td>5.1</td>\n",
              "      <td>3.5</td>\n",
              "      <td>1.4</td>\n",
              "      <td>0.2</td>\n",
              "      <td>0</td>\n",
              "    </tr>\n",
              "    <tr>\n",
              "      <th>1</th>\n",
              "      <td>4.9</td>\n",
              "      <td>3.0</td>\n",
              "      <td>1.4</td>\n",
              "      <td>0.2</td>\n",
              "      <td>0</td>\n",
              "    </tr>\n",
              "    <tr>\n",
              "      <th>2</th>\n",
              "      <td>4.7</td>\n",
              "      <td>3.2</td>\n",
              "      <td>1.3</td>\n",
              "      <td>0.2</td>\n",
              "      <td>0</td>\n",
              "    </tr>\n",
              "    <tr>\n",
              "      <th>3</th>\n",
              "      <td>4.6</td>\n",
              "      <td>3.1</td>\n",
              "      <td>1.5</td>\n",
              "      <td>0.2</td>\n",
              "      <td>0</td>\n",
              "    </tr>\n",
              "    <tr>\n",
              "      <th>4</th>\n",
              "      <td>5.0</td>\n",
              "      <td>3.6</td>\n",
              "      <td>1.4</td>\n",
              "      <td>0.2</td>\n",
              "      <td>0</td>\n",
              "    </tr>\n",
              "  </tbody>\n",
              "</table>\n",
              "</div>"
            ],
            "text/plain": [
              "   SepalLengthCm  SepalWidthCm  PetalLengthCm  PetalWidthCm  Species\n",
              "0            5.1           3.5            1.4           0.2        0\n",
              "1            4.9           3.0            1.4           0.2        0\n",
              "2            4.7           3.2            1.3           0.2        0\n",
              "3            4.6           3.1            1.5           0.2        0\n",
              "4            5.0           3.6            1.4           0.2        0"
            ]
          },
          "metadata": {},
          "execution_count": 111
        }
      ]
    },
    {
      "cell_type": "code",
      "metadata": {
        "colab": {
          "base_uri": "https://localhost:8080/"
        },
        "id": "9xzStoG9GU9n",
        "outputId": "fc4f37c9-5bef-4da1-e21d-0ecdf8a3f6e9"
      },
      "source": [
        "print(df_I.shape)\n",
        "print(df_I.keys())"
      ],
      "execution_count": 112,
      "outputs": [
        {
          "output_type": "stream",
          "name": "stdout",
          "text": [
            "(150, 5)\n",
            "Index(['SepalLengthCm', 'SepalWidthCm', 'PetalLengthCm', 'PetalWidthCm',\n",
            "       'Species'],\n",
            "      dtype='object')\n"
          ]
        }
      ]
    },
    {
      "cell_type": "code",
      "metadata": {
        "colab": {
          "base_uri": "https://localhost:8080/"
        },
        "id": "EzAKu_z7JDvp",
        "outputId": "339c1c1a-784e-4157-c726-42b4b5b437d5"
      },
      "source": [
        "df_I.info()"
      ],
      "execution_count": 113,
      "outputs": [
        {
          "output_type": "stream",
          "name": "stdout",
          "text": [
            "<class 'pandas.core.frame.DataFrame'>\n",
            "RangeIndex: 150 entries, 0 to 149\n",
            "Data columns (total 5 columns):\n",
            " #   Column         Non-Null Count  Dtype  \n",
            "---  ------         --------------  -----  \n",
            " 0   SepalLengthCm  150 non-null    float64\n",
            " 1   SepalWidthCm   150 non-null    float64\n",
            " 2   PetalLengthCm  150 non-null    float64\n",
            " 3   PetalWidthCm   150 non-null    float64\n",
            " 4   Species        150 non-null    int64  \n",
            "dtypes: float64(4), int64(1)\n",
            "memory usage: 6.0 KB\n"
          ]
        }
      ]
    },
    {
      "cell_type": "code",
      "metadata": {
        "colab": {
          "base_uri": "https://localhost:8080/"
        },
        "id": "X7RUDCcGJD31",
        "outputId": "cf488cb0-3f0b-49da-edf8-ef981dd0a679"
      },
      "source": [
        "#Here following species represents the following numbers, 0: \"Iris-setosa\", 1: \"Iris-versicolor\", 2: 'Iris-virginica'.\n",
        "df_I['Species'].value_counts()"
      ],
      "execution_count": 114,
      "outputs": [
        {
          "output_type": "execute_result",
          "data": {
            "text/plain": [
              "2    50\n",
              "1    50\n",
              "0    50\n",
              "Name: Species, dtype: int64"
            ]
          },
          "metadata": {},
          "execution_count": 114
        }
      ]
    },
    {
      "cell_type": "code",
      "metadata": {
        "id": "SATt-WozJusl"
      },
      "source": [
        "#Splitting the dependent and independent data\n",
        "X=df_I.drop([\"Species\"],axis=1)\n",
        "Y=df_I[\"Species\"]"
      ],
      "execution_count": 115,
      "outputs": []
    },
    {
      "cell_type": "code",
      "metadata": {
        "colab": {
          "base_uri": "https://localhost:8080/"
        },
        "id": "io3Kwi6HLdXc",
        "outputId": "fd2c41ca-af5c-4074-d1d6-323e6ea31fec"
      },
      "source": [
        "from sklearn.preprocessing import StandardScaler\n",
        "sc=StandardScaler()\n",
        "X=sc.fit_transform(X)\n",
        "print(X)"
      ],
      "execution_count": 116,
      "outputs": [
        {
          "output_type": "stream",
          "name": "stdout",
          "text": [
            "[[-9.00681170e-01  1.01900435e+00 -1.34022653e+00 -1.31544430e+00]\n",
            " [-1.14301691e+00 -1.31979479e-01 -1.34022653e+00 -1.31544430e+00]\n",
            " [-1.38535265e+00  3.28414053e-01 -1.39706395e+00 -1.31544430e+00]\n",
            " [-1.50652052e+00  9.82172869e-02 -1.28338910e+00 -1.31544430e+00]\n",
            " [-1.02184904e+00  1.24920112e+00 -1.34022653e+00 -1.31544430e+00]\n",
            " [-5.37177559e-01  1.93979142e+00 -1.16971425e+00 -1.05217993e+00]\n",
            " [-1.50652052e+00  7.88807586e-01 -1.34022653e+00 -1.18381211e+00]\n",
            " [-1.02184904e+00  7.88807586e-01 -1.28338910e+00 -1.31544430e+00]\n",
            " [-1.74885626e+00 -3.62176246e-01 -1.34022653e+00 -1.31544430e+00]\n",
            " [-1.14301691e+00  9.82172869e-02 -1.28338910e+00 -1.44707648e+00]\n",
            " [-5.37177559e-01  1.47939788e+00 -1.28338910e+00 -1.31544430e+00]\n",
            " [-1.26418478e+00  7.88807586e-01 -1.22655167e+00 -1.31544430e+00]\n",
            " [-1.26418478e+00 -1.31979479e-01 -1.34022653e+00 -1.44707648e+00]\n",
            " [-1.87002413e+00 -1.31979479e-01 -1.51073881e+00 -1.44707648e+00]\n",
            " [-5.25060772e-02  2.16998818e+00 -1.45390138e+00 -1.31544430e+00]\n",
            " [-1.73673948e-01  3.09077525e+00 -1.28338910e+00 -1.05217993e+00]\n",
            " [-5.37177559e-01  1.93979142e+00 -1.39706395e+00 -1.05217993e+00]\n",
            " [-9.00681170e-01  1.01900435e+00 -1.34022653e+00 -1.18381211e+00]\n",
            " [-1.73673948e-01  1.70959465e+00 -1.16971425e+00 -1.18381211e+00]\n",
            " [-9.00681170e-01  1.70959465e+00 -1.28338910e+00 -1.18381211e+00]\n",
            " [-5.37177559e-01  7.88807586e-01 -1.16971425e+00 -1.31544430e+00]\n",
            " [-9.00681170e-01  1.47939788e+00 -1.28338910e+00 -1.05217993e+00]\n",
            " [-1.50652052e+00  1.24920112e+00 -1.56757623e+00 -1.31544430e+00]\n",
            " [-9.00681170e-01  5.58610819e-01 -1.16971425e+00 -9.20547742e-01]\n",
            " [-1.26418478e+00  7.88807586e-01 -1.05603939e+00 -1.31544430e+00]\n",
            " [-1.02184904e+00 -1.31979479e-01 -1.22655167e+00 -1.31544430e+00]\n",
            " [-1.02184904e+00  7.88807586e-01 -1.22655167e+00 -1.05217993e+00]\n",
            " [-7.79513300e-01  1.01900435e+00 -1.28338910e+00 -1.31544430e+00]\n",
            " [-7.79513300e-01  7.88807586e-01 -1.34022653e+00 -1.31544430e+00]\n",
            " [-1.38535265e+00  3.28414053e-01 -1.22655167e+00 -1.31544430e+00]\n",
            " [-1.26418478e+00  9.82172869e-02 -1.22655167e+00 -1.31544430e+00]\n",
            " [-5.37177559e-01  7.88807586e-01 -1.28338910e+00 -1.05217993e+00]\n",
            " [-7.79513300e-01  2.40018495e+00 -1.28338910e+00 -1.44707648e+00]\n",
            " [-4.16009689e-01  2.63038172e+00 -1.34022653e+00 -1.31544430e+00]\n",
            " [-1.14301691e+00  9.82172869e-02 -1.28338910e+00 -1.31544430e+00]\n",
            " [-1.02184904e+00  3.28414053e-01 -1.45390138e+00 -1.31544430e+00]\n",
            " [-4.16009689e-01  1.01900435e+00 -1.39706395e+00 -1.31544430e+00]\n",
            " [-1.14301691e+00  1.24920112e+00 -1.34022653e+00 -1.44707648e+00]\n",
            " [-1.74885626e+00 -1.31979479e-01 -1.39706395e+00 -1.31544430e+00]\n",
            " [-9.00681170e-01  7.88807586e-01 -1.28338910e+00 -1.31544430e+00]\n",
            " [-1.02184904e+00  1.01900435e+00 -1.39706395e+00 -1.18381211e+00]\n",
            " [-1.62768839e+00 -1.74335684e+00 -1.39706395e+00 -1.18381211e+00]\n",
            " [-1.74885626e+00  3.28414053e-01 -1.39706395e+00 -1.31544430e+00]\n",
            " [-1.02184904e+00  1.01900435e+00 -1.22655167e+00 -7.88915558e-01]\n",
            " [-9.00681170e-01  1.70959465e+00 -1.05603939e+00 -1.05217993e+00]\n",
            " [-1.26418478e+00 -1.31979479e-01 -1.34022653e+00 -1.18381211e+00]\n",
            " [-9.00681170e-01  1.70959465e+00 -1.22655167e+00 -1.31544430e+00]\n",
            " [-1.50652052e+00  3.28414053e-01 -1.34022653e+00 -1.31544430e+00]\n",
            " [-6.58345429e-01  1.47939788e+00 -1.28338910e+00 -1.31544430e+00]\n",
            " [-1.02184904e+00  5.58610819e-01 -1.34022653e+00 -1.31544430e+00]\n",
            " [ 1.40150837e+00  3.28414053e-01  5.35408562e-01  2.64141916e-01]\n",
            " [ 6.74501145e-01  3.28414053e-01  4.21733708e-01  3.95774101e-01]\n",
            " [ 1.28034050e+00  9.82172869e-02  6.49083415e-01  3.95774101e-01]\n",
            " [-4.16009689e-01 -1.74335684e+00  1.37546573e-01  1.32509732e-01]\n",
            " [ 7.95669016e-01 -5.92373012e-01  4.78571135e-01  3.95774101e-01]\n",
            " [-1.73673948e-01 -5.92373012e-01  4.21733708e-01  1.32509732e-01]\n",
            " [ 5.53333275e-01  5.58610819e-01  5.35408562e-01  5.27406285e-01]\n",
            " [-1.14301691e+00 -1.51316008e+00 -2.60315415e-01 -2.62386821e-01]\n",
            " [ 9.16836886e-01 -3.62176246e-01  4.78571135e-01  1.32509732e-01]\n",
            " [-7.79513300e-01 -8.22569778e-01  8.07091462e-02  2.64141916e-01]\n",
            " [-1.02184904e+00 -2.43394714e+00 -1.46640561e-01 -2.62386821e-01]\n",
            " [ 6.86617933e-02 -1.31979479e-01  2.51221427e-01  3.95774101e-01]\n",
            " [ 1.89829664e-01 -1.97355361e+00  1.37546573e-01 -2.62386821e-01]\n",
            " [ 3.10997534e-01 -3.62176246e-01  5.35408562e-01  2.64141916e-01]\n",
            " [-2.94841818e-01 -3.62176246e-01 -8.98031345e-02  1.32509732e-01]\n",
            " [ 1.03800476e+00  9.82172869e-02  3.64896281e-01  2.64141916e-01]\n",
            " [-2.94841818e-01 -1.31979479e-01  4.21733708e-01  3.95774101e-01]\n",
            " [-5.25060772e-02 -8.22569778e-01  1.94384000e-01 -2.62386821e-01]\n",
            " [ 4.32165405e-01 -1.97355361e+00  4.21733708e-01  3.95774101e-01]\n",
            " [-2.94841818e-01 -1.28296331e+00  8.07091462e-02 -1.30754636e-01]\n",
            " [ 6.86617933e-02  3.28414053e-01  5.92245988e-01  7.90670654e-01]\n",
            " [ 3.10997534e-01 -5.92373012e-01  1.37546573e-01  1.32509732e-01]\n",
            " [ 5.53333275e-01 -1.28296331e+00  6.49083415e-01  3.95774101e-01]\n",
            " [ 3.10997534e-01 -5.92373012e-01  5.35408562e-01  8.77547895e-04]\n",
            " [ 6.74501145e-01 -3.62176246e-01  3.08058854e-01  1.32509732e-01]\n",
            " [ 9.16836886e-01 -1.31979479e-01  3.64896281e-01  2.64141916e-01]\n",
            " [ 1.15917263e+00 -5.92373012e-01  5.92245988e-01  2.64141916e-01]\n",
            " [ 1.03800476e+00 -1.31979479e-01  7.05920842e-01  6.59038469e-01]\n",
            " [ 1.89829664e-01 -3.62176246e-01  4.21733708e-01  3.95774101e-01]\n",
            " [-1.73673948e-01 -1.05276654e+00 -1.46640561e-01 -2.62386821e-01]\n",
            " [-4.16009689e-01 -1.51316008e+00  2.38717193e-02 -1.30754636e-01]\n",
            " [-4.16009689e-01 -1.51316008e+00 -3.29657076e-02 -2.62386821e-01]\n",
            " [-5.25060772e-02 -8.22569778e-01  8.07091462e-02  8.77547895e-04]\n",
            " [ 1.89829664e-01 -8.22569778e-01  7.62758269e-01  5.27406285e-01]\n",
            " [-5.37177559e-01 -1.31979479e-01  4.21733708e-01  3.95774101e-01]\n",
            " [ 1.89829664e-01  7.88807586e-01  4.21733708e-01  5.27406285e-01]\n",
            " [ 1.03800476e+00  9.82172869e-02  5.35408562e-01  3.95774101e-01]\n",
            " [ 5.53333275e-01 -1.74335684e+00  3.64896281e-01  1.32509732e-01]\n",
            " [-2.94841818e-01 -1.31979479e-01  1.94384000e-01  1.32509732e-01]\n",
            " [-4.16009689e-01 -1.28296331e+00  1.37546573e-01  1.32509732e-01]\n",
            " [-4.16009689e-01 -1.05276654e+00  3.64896281e-01  8.77547895e-04]\n",
            " [ 3.10997534e-01 -1.31979479e-01  4.78571135e-01  2.64141916e-01]\n",
            " [-5.25060772e-02 -1.05276654e+00  1.37546573e-01  8.77547895e-04]\n",
            " [-1.02184904e+00 -1.74335684e+00 -2.60315415e-01 -2.62386821e-01]\n",
            " [-2.94841818e-01 -8.22569778e-01  2.51221427e-01  1.32509732e-01]\n",
            " [-1.73673948e-01 -1.31979479e-01  2.51221427e-01  8.77547895e-04]\n",
            " [-1.73673948e-01 -3.62176246e-01  2.51221427e-01  1.32509732e-01]\n",
            " [ 4.32165405e-01 -3.62176246e-01  3.08058854e-01  1.32509732e-01]\n",
            " [-9.00681170e-01 -1.28296331e+00 -4.30827696e-01 -1.30754636e-01]\n",
            " [-1.73673948e-01 -5.92373012e-01  1.94384000e-01  1.32509732e-01]\n",
            " [ 5.53333275e-01  5.58610819e-01  1.27429511e+00  1.71209594e+00]\n",
            " [-5.25060772e-02 -8.22569778e-01  7.62758269e-01  9.22302838e-01]\n",
            " [ 1.52267624e+00 -1.31979479e-01  1.21745768e+00  1.18556721e+00]\n",
            " [ 5.53333275e-01 -3.62176246e-01  1.04694540e+00  7.90670654e-01]\n",
            " [ 7.95669016e-01 -1.31979479e-01  1.16062026e+00  1.31719939e+00]\n",
            " [ 2.12851559e+00 -1.31979479e-01  1.61531967e+00  1.18556721e+00]\n",
            " [-1.14301691e+00 -1.28296331e+00  4.21733708e-01  6.59038469e-01]\n",
            " [ 1.76501198e+00 -3.62176246e-01  1.44480739e+00  7.90670654e-01]\n",
            " [ 1.03800476e+00 -1.28296331e+00  1.16062026e+00  7.90670654e-01]\n",
            " [ 1.64384411e+00  1.24920112e+00  1.33113254e+00  1.71209594e+00]\n",
            " [ 7.95669016e-01  3.28414053e-01  7.62758269e-01  1.05393502e+00]\n",
            " [ 6.74501145e-01 -8.22569778e-01  8.76433123e-01  9.22302838e-01]\n",
            " [ 1.15917263e+00 -1.31979479e-01  9.90107977e-01  1.18556721e+00]\n",
            " [-1.73673948e-01 -1.28296331e+00  7.05920842e-01  1.05393502e+00]\n",
            " [-5.25060772e-02 -5.92373012e-01  7.62758269e-01  1.58046376e+00]\n",
            " [ 6.74501145e-01  3.28414053e-01  8.76433123e-01  1.44883158e+00]\n",
            " [ 7.95669016e-01 -1.31979479e-01  9.90107977e-01  7.90670654e-01]\n",
            " [ 2.24968346e+00  1.70959465e+00  1.67215710e+00  1.31719939e+00]\n",
            " [ 2.24968346e+00 -1.05276654e+00  1.78583195e+00  1.44883158e+00]\n",
            " [ 1.89829664e-01 -1.97355361e+00  7.05920842e-01  3.95774101e-01]\n",
            " [ 1.28034050e+00  3.28414053e-01  1.10378283e+00  1.44883158e+00]\n",
            " [-2.94841818e-01 -5.92373012e-01  6.49083415e-01  1.05393502e+00]\n",
            " [ 2.24968346e+00 -5.92373012e-01  1.67215710e+00  1.05393502e+00]\n",
            " [ 5.53333275e-01 -8.22569778e-01  6.49083415e-01  7.90670654e-01]\n",
            " [ 1.03800476e+00  5.58610819e-01  1.10378283e+00  1.18556721e+00]\n",
            " [ 1.64384411e+00  3.28414053e-01  1.27429511e+00  7.90670654e-01]\n",
            " [ 4.32165405e-01 -5.92373012e-01  5.92245988e-01  7.90670654e-01]\n",
            " [ 3.10997534e-01 -1.31979479e-01  6.49083415e-01  7.90670654e-01]\n",
            " [ 6.74501145e-01 -5.92373012e-01  1.04694540e+00  1.18556721e+00]\n",
            " [ 1.64384411e+00 -1.31979479e-01  1.16062026e+00  5.27406285e-01]\n",
            " [ 1.88617985e+00 -5.92373012e-01  1.33113254e+00  9.22302838e-01]\n",
            " [ 2.49201920e+00  1.70959465e+00  1.50164482e+00  1.05393502e+00]\n",
            " [ 6.74501145e-01 -5.92373012e-01  1.04694540e+00  1.31719939e+00]\n",
            " [ 5.53333275e-01 -5.92373012e-01  7.62758269e-01  3.95774101e-01]\n",
            " [ 3.10997534e-01 -1.05276654e+00  1.04694540e+00  2.64141916e-01]\n",
            " [ 2.24968346e+00 -1.31979479e-01  1.33113254e+00  1.44883158e+00]\n",
            " [ 5.53333275e-01  7.88807586e-01  1.04694540e+00  1.58046376e+00]\n",
            " [ 6.74501145e-01  9.82172869e-02  9.90107977e-01  7.90670654e-01]\n",
            " [ 1.89829664e-01 -1.31979479e-01  5.92245988e-01  7.90670654e-01]\n",
            " [ 1.28034050e+00  9.82172869e-02  9.33270550e-01  1.18556721e+00]\n",
            " [ 1.03800476e+00  9.82172869e-02  1.04694540e+00  1.58046376e+00]\n",
            " [ 1.28034050e+00  9.82172869e-02  7.62758269e-01  1.44883158e+00]\n",
            " [-5.25060772e-02 -8.22569778e-01  7.62758269e-01  9.22302838e-01]\n",
            " [ 1.15917263e+00  3.28414053e-01  1.21745768e+00  1.44883158e+00]\n",
            " [ 1.03800476e+00  5.58610819e-01  1.10378283e+00  1.71209594e+00]\n",
            " [ 1.03800476e+00 -1.31979479e-01  8.19595696e-01  1.44883158e+00]\n",
            " [ 5.53333275e-01 -1.28296331e+00  7.05920842e-01  9.22302838e-01]\n",
            " [ 7.95669016e-01 -1.31979479e-01  8.19595696e-01  1.05393502e+00]\n",
            " [ 4.32165405e-01  7.88807586e-01  9.33270550e-01  1.44883158e+00]\n",
            " [ 6.86617933e-02 -1.31979479e-01  7.62758269e-01  7.90670654e-01]]\n"
          ]
        }
      ]
    },
    {
      "cell_type": "code",
      "metadata": {
        "colab": {
          "base_uri": "https://localhost:8080/"
        },
        "id": "2xldw9i8Raeq",
        "outputId": "02a2496c-4ca0-4c4a-9ff5-8fa7b0f77d5d"
      },
      "source": [
        "X.mean(axis=0)"
      ],
      "execution_count": 118,
      "outputs": [
        {
          "output_type": "execute_result",
          "data": {
            "text/plain": [
              "array([-4.73695157e-16, -7.81597009e-16, -4.26325641e-16, -4.73695157e-16])"
            ]
          },
          "metadata": {},
          "execution_count": 118
        }
      ]
    },
    {
      "cell_type": "code",
      "metadata": {
        "colab": {
          "base_uri": "https://localhost:8080/"
        },
        "id": "ojTFStH0RhXL",
        "outputId": "0b36d1d6-9d7b-473b-fa22-d2aa80e56668"
      },
      "source": [
        "X.std(axis=0)"
      ],
      "execution_count": 119,
      "outputs": [
        {
          "output_type": "execute_result",
          "data": {
            "text/plain": [
              "array([1., 1., 1., 1.])"
            ]
          },
          "metadata": {},
          "execution_count": 119
        }
      ]
    },
    {
      "cell_type": "code",
      "metadata": {
        "colab": {
          "base_uri": "https://localhost:8080/",
          "height": 286
        },
        "id": "0nFSHTtULevW",
        "outputId": "2a2e42b9-edf9-4085-bb3d-5f4a27f17373"
      },
      "source": [
        "#check whether the data is standardized or not\n",
        "#mean should be 0\n",
        "import matplotlib.pyplot as plt\n",
        "import matplotlib.lines as mlines\n",
        "plt.ylim(-1,1)\n",
        "means=[]\n",
        "for i in range(X.shape[1]):\n",
        "  means.append(np.mean(X[:,i]))\n",
        "plt.plot(means, scaley=False)"
      ],
      "execution_count": 120,
      "outputs": [
        {
          "output_type": "execute_result",
          "data": {
            "text/plain": [
              "[<matplotlib.lines.Line2D at 0x7f1c96cb4e50>]"
            ]
          },
          "metadata": {},
          "execution_count": 120
        },
        {
          "output_type": "display_data",
          "data": {
            "image/png": "[encoded data removed]",
            "text/plain": [
              "<Figure size 432x288 with 1 Axes>"
            ]
          },
          "metadata": {
            "needs_background": "light"
          }
        }
      ]
    },
    {
      "cell_type": "code",
      "metadata": {
        "colab": {
          "base_uri": "https://localhost:8080/",
          "height": 286
        },
        "id": "a-nYbp47Le3x",
        "outputId": "1bbb0fe0-5b3b-4f69-d1b9-2a1cb843621d"
      },
      "source": [
        "#Check variance which should be 1\n",
        "plt.ylim(0,2)\n",
        "vars=[]\n",
        "for i in range(X.shape[1]):\n",
        "  vars.append(np.var(X[:,i]))\n",
        "plt.plot(vars)"
      ],
      "execution_count": 121,
      "outputs": [
        {
          "output_type": "execute_result",
          "data": {
            "text/plain": [
              "[<matplotlib.lines.Line2D at 0x7f1c96c14b50>]"
            ]
          },
          "metadata": {},
          "execution_count": 121
        },
        {
          "output_type": "display_data",
          "data": {
            "image/png": "[encoded data removed]",
            "text/plain": [
              "<Figure size 432x288 with 1 Axes>"
            ]
          },
          "metadata": {
            "needs_background": "light"
          }
        }
      ]
    },
    {
      "cell_type": "markdown",
      "metadata": {
        "id": "RRL0v1SKXqFh"
      },
      "source": [
        "From above output we can see that our data is standardized as you can see our mean is 0 and standard deviation is one."
      ]
    },
    {
      "cell_type": "markdown",
      "metadata": {
        "id": "eyN_c3QidzmZ"
      },
      "source": [
        "### Conclusion"
      ]
    },
    {
      "cell_type": "markdown",
      "metadata": {
        "id": "dF_eAuFdd0JP"
      },
      "source": [
        "We came to know, when to standardize and when not to, depends on which model you want to use and what you want to do with it. So, it’s very important for a ML developer to understand the internal functioning of machine learning algorithms, to be able to know when to standardize data and to build a successful machine learning model."
      ]
    },
    {
      "cell_type": "markdown",
      "metadata": {
        "id": "mkvwVFnhWjEC"
      },
      "source": [
        "**References:**\n",
        "\n",
        "1. https://365datascience.com/\n",
        "2. https://www.listendata.com/\n",
        "3. https://builtin.com/data-science/when-and-why-standardize-your-data\n"
      ]
    }
  ]
}