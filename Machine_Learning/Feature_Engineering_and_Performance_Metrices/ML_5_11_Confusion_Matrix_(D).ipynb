{
  "nbformat": 4,
  "nbformat_minor": 0,
  "metadata": {
    "colab": {
      "name": "ML_5_11_Confusion_Matrix_(D).ipynb",
      "provenance": [],
      "collapsed_sections": []
    },
    "kernelspec": {
      "name": "python3",
      "display_name": "Python 3"
    },
    "language_info": {
      "name": "python"
    }
  },
  "cells": [
    {
      "cell_type": "markdown",
      "metadata": {
        "id": "7FSAPVo6eg5r"
      },
      "source": [
        "#Title: Confusion Matrix\n",
        "\n",
        "🔴  **Type of Content :** Documentation\n",
        "\n",
        "🔴  **Domain :** Machine Learning\n",
        "\n",
        "🔴  **Module :** Feature Engineering & Performance Metrices\n"
      ]
    },
    {
      "cell_type": "markdown",
      "metadata": {
        "id": "TJw7Ix5ue_s-"
      },
      "source": [
        "## Definition\n",
        "It is a performance measurement for machine learning classification problems where output can be two or more classes. It is a summary of prediction results on a classification problem. The number of correct and incorrect predictions are summarized with count values and broken down by each class. \n",
        "\n"
      ]
    },
    {
      "cell_type": "markdown",
      "metadata": {
        "id": "Emgvcc_Se_xt"
      },
      "source": [
        "## Significance\n",
        "\n",
        "Classification accuracy alone can be misleading if you have an unequal number of observations in each class or if you have more than two classes in your dataset. Calculating a confusion matrix can give you a better idea of what your classification model is getting right and what types of errors it is making."
      ]
    },
    {
      "cell_type": "markdown",
      "metadata": {
        "id": "hLBWh-WjoEof"
      },
      "source": [
        "## How to make a Confusion Matrix\n",
        "\n",
        "1. You need a test dataset or a validation dataset with expected outcome values.\n",
        "2. Make a prediction for each row in your test dataset.\n",
        "3. From the expected outcomes and predictions count:\n",
        "\n",
        "    a. The number of correct predictions for each class.\n",
        "\n",
        "    b. The number of incorrect predictions for each class, organized by the class that was predicted.\n",
        "\n",
        "All these values are filled in a table/matrix."
      ]
    },
    {
      "cell_type": "markdown",
      "metadata": {
        "id": "taw6GT6Ve_1B"
      },
      "source": [
        "##Terms\n",
        "Let's take the most common classification example of **spam** and **ham** mails. Here the **positive** class is **spam** and the **negative** class is **ham**\n",
        "\n",
        "* **True Positives (TP):** \n",
        "The cases where positive class is correctly predicted as positive class. When a spam mail is correctly classified as spam.\n",
        "\n",
        "* **True Negatives (TN):**\n",
        "The cases where negative class is correctly predicted as negative class. When a ham mail is correctly classified as ham.\n",
        "\n",
        "* **False Positives (FP):**\n",
        "The cases where negative class is incorrectly predicted as positive class. When a ham mail is incorrectly classified as spam.\n",
        "\n",
        "* **False Negatives (FN):**\n",
        "The cases where positive class is incorrectly predicted as negative class. When a spam mail is incorrectly classified as ham."
      ]
    },
    {
      "cell_type": "markdown",
      "metadata": {
        "id": "CeFNG0mwkq5X"
      },
      "source": [
        "![image.png](data:image/png;base64,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)\n",
        "\n",
        "\n",
        "\n"
      ]
    },
    {
      "cell_type": "markdown",
      "metadata": {
        "id": "q5qOG-_ze_3_"
      },
      "source": [
        "## Inference\n",
        "From the confusion matrix the following terms can be calculated.\n",
        "\n",
        "* **Precision:**\n",
        "It is the amount of predicted positive samples which were actually positive. Basically, the less false positives a classifier gives, the higher is its precision. Precision should be as high as possible.\n",
        "\n",
        ">### Precision = TP / (TP + FP)\n",
        "\n",
        "* **Recall:**\n",
        "It is the amount of positive test samples which were actually predicted as positive. If the false negatives a classifier gives are lesser, its recall becomes higher. Recall should be as high as possible. It is also known as **Sensitivity**.\n",
        "\n",
        "> ### Recall = TP / (TP + FN)\n",
        "\n",
        "* **Accuracy:**\n",
        "It is the quantification of how many classes have been predicted correctly from the total (positive and negative). \n",
        "Accuracy should be as high as possible.\n",
        "\n",
        "> ### Accuracy = (TP + TN) / ( TP + TN + FP + FN) \n",
        "\n",
        "* **F - Measure:**\n",
        "F1 Score is the weighted average between recall and precision. It is difficult to compare two models with low precision and high recall or vice versa. So to make them comparable, we use F-Score. F-score helps to measure Recall and Precision at the same time.\n",
        "\n",
        ">### F-Measure = (2 * Precision * Recall) / (Precision + Recall)\n",
        "\n",
        "#### Rate is also a measure factor in Confusion Matrix.\n",
        "\n",
        "* **True Positive Rate:**\n",
        "\n",
        "> ### TPR = TP / (TP + FN)\n",
        "\n",
        "* **True Negative Rate:**\n",
        "\n",
        "> ### TNR = TN / (TN + FP)\n",
        "\n",
        "* **False Positive Rate:**\n",
        "\n",
        "> ### FPR = FP / (FP + TN)\n",
        "\n",
        "* **False Negative Rate:**\n",
        "\n",
        "> ### FNR = FN / (FN + TP)\n",
        "\n",
        "For better performance **TPR, TNR** should be high and **FPR, FNR** should be low."
      ]
    },
    {
      "cell_type": "markdown",
      "metadata": {
        "id": "qJNvdI4lBLsI"
      },
      "source": [
        "## AUC-ROC Curve\n",
        "\n",
        "AUC - ROC curve is a performance measurement for the classification problems at various threshold settings. ROC is a probability curve and AUC represents the degree or measure of separability. It tells how much the model is capable of distinguishing between classes. Higher the AUC, the better the model is at predicting 0 classes as 0 and 1 classes as 1.\n",
        "\n",
        "The ROC curve is plotted with TPR against the FPR where TPR is on the y-axis and FPR is on the x-axis.\n"
      ]
    },
    {
      "cell_type": "markdown",
      "metadata": {
        "id": "FJukAD5pBqiM"
      },
      "source": [
        "![image.png](data:image/png;base64,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)"
      ]
    },
    {
      "cell_type": "markdown",
      "metadata": {
        "id": "WmGDMtyvCD1L"
      },
      "source": [
        "An excellent model has AUC near 1 which means it has a good measure of separability. A poor model has an AUC near 0 which means it has the worst measure of separability. In fact, it means it is reciprocating the result. It is predicting 0s as 1s and 1s as 0s. And when AUC is 0.5, it means the model has no class separation capacity whatsoever.\n",
        "\n"
      ]
    },
    {
      "cell_type": "markdown",
      "metadata": {
        "id": "U7SAQy8bhsNl"
      },
      "source": [
        "## Code"
      ]
    },
    {
      "cell_type": "code",
      "metadata": {
        "id": "3t6QNqymbjGe",
        "colab": {
          "base_uri": "https://localhost:8080/"
        },
        "outputId": "8f00aa00-ade3-479d-adaf-fcb61206f121"
      },
      "source": [
        "from sklearn.metrics import confusion_matrix\n",
        "\n",
        "y_actual = ['ham', 'ham', 'ham', 'spam', 'spam', 'ham','ham','spam','ham']\n",
        "y_pred = ['ham', 'spam', 'spam', 'spam', 'spam', 'spam','ham','ham','spam']\n",
        "cm = confusion_matrix(y_actual, y_pred, labels=[\"ham\", \"spam\"])\n",
        "print(\"Confusion Matrix: \\n\", cm.T)"
      ],
      "execution_count": 1,
      "outputs": [
        {
          "output_type": "stream",
          "name": "stdout",
          "text": [
            "Confusion Matrix: \n",
            " [[2 1]\n",
            " [4 2]]\n"
          ]
        }
      ]
    },
    {
      "cell_type": "code",
      "metadata": {
        "colab": {
          "base_uri": "https://localhost:8080/"
        },
        "id": "7iLNzFAFDXmA",
        "outputId": "fb21be88-bd21-4f6b-edc4-72987b236ab0"
      },
      "source": [
        "tn, fp, fn, tp = cm.ravel()\n",
        "print(\"TP = \",tp)\n",
        "print(\"\\nTN = \",tn)\n",
        "print(\"\\nFP = \",fp)\n",
        "print(\"\\nFN = \",fn)"
      ],
      "execution_count": 2,
      "outputs": [
        {
          "output_type": "stream",
          "name": "stdout",
          "text": [
            "TP =  2\n",
            "\n",
            "TN =  2\n",
            "\n",
            "FP =  4\n",
            "\n",
            "FN =  1\n"
          ]
        }
      ]
    },
    {
      "cell_type": "code",
      "metadata": {
        "colab": {
          "base_uri": "https://localhost:8080/",
          "height": 286
        },
        "id": "9l42Kc7YygAK",
        "outputId": "af416e80-b05b-456a-e341-4e94691df4e8"
      },
      "source": [
        "import seaborn as sns\n",
        "sns.heatmap(cm.T, annot = True, linecolor='black', linewidths = 0.1)"
      ],
      "execution_count": 3,
      "outputs": [
        {
          "output_type": "execute_result",
          "data": {
            "text/plain": [
              "<matplotlib.axes._subplots.AxesSubplot at 0x7f4d1461f790>"
            ]
          },
          "metadata": {},
          "execution_count": 3
        },
        {
          "output_type": "display_data",
          "data": {
            "image/png": "[encoded data removed]",
            "text/plain": [
              "<Figure size 432x288 with 2 Axes>"
            ]
          },
          "metadata": {
            "needs_background": "light"
          }
        }
      ]
    },
    {
      "cell_type": "markdown",
      "metadata": {
        "id": "9xVcDs2MVNSH"
      },
      "source": [
        "**Sklearn confusion_matrix()** returns the values of the Confusion matrix. The output is, however, slightly different from what we have studied so far It takes the rows as Actual values and the columns as Predicted values. The rest of the concept remains the same."
      ]
    },
    {
      "cell_type": "code",
      "metadata": {
        "colab": {
          "base_uri": "https://localhost:8080/"
        },
        "id": "7Q_hjisTVckc",
        "outputId": "f85115e9-e08d-4471-a6a9-58dd53d5234c"
      },
      "source": [
        "from sklearn.metrics import classification_report\n",
        "\n",
        "cr = classification_report(y_actual,y_pred,labels=[\"ham\", \"spam\"])\n",
        "print('Classification report : \\n',cr)\n"
      ],
      "execution_count": 4,
      "outputs": [
        {
          "output_type": "stream",
          "name": "stdout",
          "text": [
            "Classification report : \n",
            "               precision    recall  f1-score   support\n",
            "\n",
            "         ham       0.67      0.33      0.44         6\n",
            "        spam       0.33      0.67      0.44         3\n",
            "\n",
            "    accuracy                           0.44         9\n",
            "   macro avg       0.50      0.50      0.44         9\n",
            "weighted avg       0.56      0.44      0.44         9\n",
            "\n"
          ]
        }
      ]
    },
    {
      "cell_type": "markdown",
      "metadata": {
        "id": "OPUKVc35T9Zh"
      },
      "source": [
        "**Sklearn classification_report()** outputs precision, recall and f1-score for each target class. In addition to this, it also has some extra values: micro avg, macro avg, and weighted avg\n",
        "\n",
        "**Mirco average** is the precision/recall/f1-score calculated for all the classes.\n",
        "\n",
        "> ### Micro avg Precision = (TP1 + TP2) /(TP1 + TP2 + FP1 + FP2)\n",
        "\n",
        "**Macro average** is the average of precision/recall/f1-score.\n",
        "\n",
        "> ### Macro avg Precision = (P1 + P2) / 2\n",
        "\n",
        "**Weighted average** is just the weighted average of precision/recall/f1-score.\n",
        "\n"
      ]
    },
    {
      "cell_type": "markdown",
      "metadata": {
        "id": "62vQm1AhfNif"
      },
      "source": [
        "###References\n",
        "* https://machinelearningmastery.com/confusion-matrix-machine-learning/\n",
        "* https://towardsdatascience.com/understanding-confusion-matrix-a9ad42dcfd62\n",
        "* https://towardsdatascience.com/understanding-auc-roc-curve-68b2303cc9c5"
      ]
    },
    {
      "cell_type": "markdown",
      "metadata": {
        "id": "3UkvnHQvpd7T"
      },
      "source": [
        "###GirlScript Winter of Contributions 2021\n"
      ]
    }
  ]
}