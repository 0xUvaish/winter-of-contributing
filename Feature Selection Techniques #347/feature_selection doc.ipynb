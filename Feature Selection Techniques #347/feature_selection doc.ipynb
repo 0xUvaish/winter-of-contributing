{
 "cells": [
  {
   "cell_type": "markdown",
   "metadata": {
    "id": "ugczsfvDCBbV"
   },
   "source": [
    "**Feature Selection:**\n",
    "\n",
    "Definition of feature selection can be derived from its own words feature and selection.\n",
    "Process of selecting the important or relevant features which help in increasing the performance of the model.\n"
   ]
  },
  {
   "cell_type": "markdown",
   "metadata": {
    "id": "MNNLhTCgBhcE"
   },
   "source": [
    "**Why it is used?**\n",
    "\n",
    "It helps in reducing the number of columns as we remove the irrelevant columns.\n",
    "\n",
    "*  Increases efficiency.\n",
    "*  Decrease the complexity.\n",
    "*  Increases the accuracy.\n",
    "*  Reduces training time.\n",
    "*  Reduces overfitting."
   ]
  },
  {
   "cell_type": "markdown",
   "metadata": {
    "id": "n6f4uV8zBobf"
   },
   "source": [
    "**Types of feature selection:**\n",
    "\n",
    "* Filter Methods\n",
    "* Wrapper Methods\n",
    "* Embedded Methods\n"
   ]
  },
  {
   "cell_type": "markdown",
   "metadata": {
    "id": "K6SjPPhgBsGL"
   },
   "source": [
    "**Filter methods:**\n",
    "\n",
    "Filter methods use to reduce the computational complexity using statistical methods and correlation measures. Columns having a high correlation have a linear effect with one other. Hence, removing one of the columns will help in reducing the complexity of the model. It uses statistical methods for the evaluation of a subset of features.\n",
    "\n",
    "**Types of filter methods.**\n",
    "* Pearson’s Correlation\n",
    "* Linear discriminant analysis\n",
    "* ANOVA\n",
    "* Chi-Square\n",
    "* Hypothesis Testing "
   ]
  },
  {
   "cell_type": "markdown",
   "metadata": {
    "id": "zS3M7ZlvBxs1"
   },
   "source": [
    "***Pearson’s Correlation:***\n",
    "\n",
    "Pearson’s Correlation is a measure of linear correlation between two sets of data. It is the covariance of the two variables divided by the product of their standard deviations.\n",
    "\n",
    "Formula:\n",
    "\n",
    "![pearson image.PNG](data:image/png;base64,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)\n",
    "\n",
    "cov is the covariance of the independent variable and dependent variable.\n",
    "\n",
    "σ(x) standard deviations of the independent variable.\n",
    "\n",
    "σ(y) standard deviations of the dependent variable.\n",
    "\n",
    "***Linear discriminant analysis (LDA):***\n",
    "\n",
    "LDA is used to reduce the number of columns while maximizing the variance. It is mostly used for categorical problems.\n",
    "\n",
    "\n",
    "***ANOVA:***\n",
    "\n",
    "ANOVA is known as “analysis of variance”, it is a statistical hypothesis to determine whether samples of data have the same distribution or not. Results of ANOVA helps in removing columns that are independent of the dependent variables.\n",
    "\n",
    "\n",
    "***Chi-square:***\n",
    "\n",
    "The Chi-square test is a statistical measure that is used to test the independence of two events. It is used to select the columns which are highly dependent on each other.\n",
    "\n",
    "\n",
    "***Hypothesis Testing:***\n",
    "\n",
    "A hypothesis test is a statistical test that is used to figure out whether we can apply a certain condition for an entire population and given a data sample. It helps to land on a conclusion whether to consider the condition or not.\n"
   ]
  },
  {
   "cell_type": "markdown",
   "metadata": {
    "id": "FLPqJMSwCzCj"
   },
   "source": [
    "**Wrapper Methods:**\n",
    "\n",
    "Wrapper Methods follows a greedy approach. It selects the combination of features that gives the optimal results for the specified machine learning algorithm.\n",
    "\n",
    "**Types of Wrapper Methods:**\n",
    "\n",
    "* Forward Selection\n",
    "* Backward Selection\n",
    "* Bi-directional elimination(Stepwise Selection)\n"
   ]
  },
  {
   "cell_type": "markdown",
   "metadata": {
    "id": "VoGrO8_KDnoP"
   },
   "source": [
    "***Forward Selection:***\n",
    "\n",
    "Forward Selection starts with a null model and fits the feature with the minimal p-value. It continuously increases the features and accepts the combination with less p-value.\n",
    "\n",
    "***Backward Selection:***\n",
    "\n",
    "Backward Selection starts with the full model and removes the features with the highest p-values. It continuously checks the p-values of features till it reaches the finite set of significant features by removing the features with the high p-value.\n",
    "\n",
    "***Bi-directional elimination(Stepwise Selection):***\n",
    "\n",
    "Bi-directional elimination(Stepwise Selection) is a combination of forward selection and backward selection. It selects the with the low p-value."
   ]
  },
  {
   "cell_type": "markdown",
   "metadata": {
    "id": "WdT46-AnD2t-"
   },
   "source": [
    "**Embedded Methods:**\n",
    "\n",
    "Embedded Methods use built-in methods which have the capability of selecting features on their own algorithm. It is mostly used in reducing the effect of overfitting.\n",
    "\n",
    "**Types of Embedded Methods:**\n",
    "* Lasso regression\n",
    "* Ridge regression\n",
    "* Random Forest\n",
    "\n",
    "***Lasso regression and Ridge regression:***\n",
    "\n",
    "Both the techniques work by penalizing the magnitude of coefficients of features along with minimizing the error between predictions and actual values or records.\n",
    "\n",
    "***Random Forest:***\n",
    "\n",
    "Random Forest is used in removing the branches in the decision tree which helps in increasing its accuracy, efficiency and reducing complexity.\n",
    "All of the embedded methods are mostly used to reduce as regularization techniques which helps in avoiding overfit in data.\n"
   ]
  }
 ],
 "metadata": {
  "colab": {
   "collapsed_sections": [],
   "name": "feature selection.ipynb",
   "provenance": []
  },
  "kernelspec": {
   "display_name": "Python 3",
   "language": "python",
   "name": "python3"
  },
  "language_info": {
   "codemirror_mode": {
    "name": "ipython",
    "version": 3
   },
   "file_extension": ".py",
   "mimetype": "text/x-python",
   "name": "python",
   "nbconvert_exporter": "python",
   "pygments_lexer": "ipython3",
   "version": "3.8.8"
  }
 },
 "nbformat": 4,
 "nbformat_minor": 1
}
