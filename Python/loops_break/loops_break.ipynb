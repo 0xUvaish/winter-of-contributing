{
  "nbformat": 4,
  "nbformat_minor": 0,
  "metadata": {
    "colab": {
      "name": "loops_break.ipynb",
      "provenance": [],
      "collapsed_sections": []
    },
    "kernelspec": {
      "name": "python3",
      "display_name": "Python 3"
    },
    "language_info": {
      "name": "python"
    }
  },
  "cells": [
    {
      "cell_type": "code",
      "metadata": {
        "id": "GbwA6e8cqhgD"
      },
      "source": [
        "#What is break in Python ?"
      ],
      "execution_count": 22,
      "outputs": []
    },
    {
      "cell_type": "code",
      "metadata": {
        "id": "IzM2dplHDHcy"
      },
      "source": [
        "#Break:- Break statement terminates the current loop and resume exceution at next statement\n",
        "#Break statement terminates the very loop it lies within.\n",
        "#Execution remains at the statement immediately following the body of the terminated statement.\n"
      ],
      "execution_count": 23,
      "outputs": []
    },
    {
      "cell_type": "code",
      "metadata": {
        "id": "lFvlKjB9xzXV",
        "colab": {
          "base_uri": "https://localhost:8080/"
        },
        "outputId": "a85c48e7-3651-4c21-eaed-34bb4a6bec26"
      },
      "source": [
        "for i in \"What is break in Python\":\n",
        "  if (i == \"b\"):\n",
        "    break\n",
        "  print(i)\n",
        "      "
      ],
      "execution_count": 24,
      "outputs": [
        {
          "output_type": "stream",
          "name": "stdout",
          "text": [
            "W\n",
            "h\n",
            "a\n",
            "t\n",
            " \n",
            "i\n",
            "s\n",
            " \n"
          ]
        }
      ]
    },
    {
      "cell_type": "code",
      "metadata": {
        "id": "w2WnhDHaatlh"
      },
      "source": [
        "#In the above example the loop is iterating the string \"What is break in Python\" and as soon as it encounter the character \"b\", the if condition becomes true and it encounter break statement and the flow of execution is brought out of loop."
      ],
      "execution_count": 25,
      "outputs": []
    },
    {
      "cell_type": "code",
      "metadata": {
        "id": "7ddk7Pa4EI7B"
      },
      "source": [
        "#In the above example only \"What is\" will be printed "
      ],
      "execution_count": 26,
      "outputs": []
    },
    {
      "cell_type": "code",
      "metadata": {
        "colab": {
          "base_uri": "https://localhost:8080/"
        },
        "id": "5LLbj7AhK89J",
        "outputId": "3114dcac-8ed8-437a-9023-fa8d6160af78"
      },
      "source": [
        "for M in range (0,10):\n",
        "  if M==5:\n",
        "    break\n",
        "  print(M) "
      ],
      "execution_count": 27,
      "outputs": [
        {
          "output_type": "stream",
          "name": "stdout",
          "text": [
            "0\n",
            "1\n",
            "2\n",
            "3\n",
            "4\n"
          ]
        }
      ]
    },
    {
      "cell_type": "code",
      "metadata": {
        "id": "1aYyLyxYLFMt"
      },
      "source": [
        "#In the above example only numbers 0 to 4 will be printed as when the break statement encounter the integer 5 it will come out of loop."
      ],
      "execution_count": 28,
      "outputs": []
    },
    {
      "cell_type": "code",
      "metadata": {
        "colab": {
          "base_uri": "https://localhost:8080/"
        },
        "id": "6zSmnBjsEZb5",
        "outputId": "3728cb6a-6bbd-4d3b-c761-96239add9197"
      },
      "source": [
        "my_list = ['1', '2 3', '4 5 6', '7 8 9 10', '11 12 13 14 15 16', '17 18 19 20 21 22 23'] \n",
        "\n",
        "for i in range(len(my_list)):\n",
        "    if my_list[i] == '7 8 9 10':\n",
        "      break\n",
        "    print(my_list[i]) \n"
      ],
      "execution_count": 29,
      "outputs": [
        {
          "output_type": "stream",
          "name": "stdout",
          "text": [
            "1\n",
            "2 3\n",
            "4 5 6\n"
          ]
        }
      ]
    },
    {
      "cell_type": "code",
      "metadata": {
        "id": "ViVmv99sGCej"
      },
      "source": [
        "#In the above example only numbers 1 to 6 will be printed as when the break statement encounter the list '7 8 9 10' it will come out of loop  "
      ],
      "execution_count": 30,
      "outputs": []
    },
    {
      "cell_type": "code",
      "metadata": {
        "colab": {
          "base_uri": "https://localhost:8080/"
        },
        "id": "AmTusEJ0NM_u",
        "outputId": "2c6b16ea-15b7-45a1-ae7b-debc5d29b15d"
      },
      "source": [
        "for a in range(3):\n",
        "    for b in range(4):          \n",
        "        if b==3:    \n",
        "            break\n",
        "        print(\"The number is \",a,b);"
      ],
      "execution_count": 31,
      "outputs": [
        {
          "output_type": "stream",
          "name": "stdout",
          "text": [
            "The number is  0 0\n",
            "The number is  0 1\n",
            "The number is  0 2\n",
            "The number is  1 0\n",
            "The number is  1 1\n",
            "The number is  1 2\n",
            "The number is  2 0\n",
            "The number is  2 1\n",
            "The number is  2 2\n"
          ]
        }
      ]
    },
    {
      "cell_type": "code",
      "metadata": {
        "id": "upNnqhQjNX6D"
      },
      "source": [
        "#In the above example numbers from 0 to 2 (2 D aarray) will be printed as when the break statement encounter with 3 it will come out of loop"
      ],
      "execution_count": 32,
      "outputs": []
    },
    {
      "cell_type": "code",
      "metadata": {
        "id": "u_xQGe1DOU9U"
      },
      "source": [
        "#Final Outcomes:- Break statement is to stop the excution when a special condition is met. It skips uncessary iterations of loop."
      ],
      "execution_count": 33,
      "outputs": []
    },
    {
      "cell_type": "code",
      "metadata": {
        "id": "6XUa728CYfMr"
      },
      "source": [
        "# Advantages of Break in Python\n",
        "#1. Break skips unncessary iterations of loop.<br/>\n",
        "#2. Break helps to come out of the block of code without exceuting the remaining block of code.<br/>"
      ],
      "execution_count": 34,
      "outputs": []
    }
  ]
}