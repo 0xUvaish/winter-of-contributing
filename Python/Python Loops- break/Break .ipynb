{
  "nbformat": 4,
  "nbformat_minor": 0,
  "metadata": {
    "colab": {
      "name": "Break.ipynb",
      "provenance": [],
      "collapsed_sections": [],
      "toc_visible": true
    },
    "kernelspec": {
      "name": "python3",
      "display_name": "Python 3"
    },
    "language_info": {
      "name": "python"
    }
  },
  "cells": [
    {
      "cell_type": "code",
      "metadata": {
        "id": "GbwA6e8cqhgD"
      },
      "source": [
        "#What is break in Python ?"
      ],
      "execution_count": 3,
      "outputs": []
    },
    {
      "cell_type": "code",
      "metadata": {
        "id": "IzM2dplHDHcy"
      },
      "source": [
        "#Break:- Break statement terminates the current loop and resume exceution at next statement "
      ],
      "execution_count": 9,
      "outputs": []
    },
    {
      "cell_type": "code",
      "metadata": {
        "id": "lFvlKjB9xzXV",
        "colab": {
          "base_uri": "https://localhost:8080/"
        },
        "outputId": "e85a74b8-7204-4edc-e7ab-628669c29c0c"
      },
      "source": [
        "for i in \"What is break in Python\":\n",
        "  if (i == \"b\"):\n",
        "    break\n",
        "  print(i)\n",
        "      "
      ],
      "execution_count": 5,
      "outputs": [
        {
          "output_type": "stream",
          "name": "stdout",
          "text": [
            "W\n",
            "h\n",
            "a\n",
            "t\n",
            " \n",
            "i\n",
            "s\n",
            " \n"
          ]
        }
      ]
    },
    {
      "cell_type": "code",
      "metadata": {
        "id": "w2WnhDHaatlh"
      },
      "source": [
        "#In the above example the loop is iterating the string \"What is break in Python\" and as soon as it encounter the character \"b\", the if condition becomes true and it encounter break statement and the flow of execution is brought out of loop."
      ],
      "execution_count": 6,
      "outputs": []
    },
    {
      "cell_type": "code",
      "metadata": {
        "id": "7ddk7Pa4EI7B"
      },
      "source": [
        "#In the above example only \"What is\" will be printed "
      ],
      "execution_count": 7,
      "outputs": []
    },
    {
      "cell_type": "code",
      "metadata": {
        "colab": {
          "base_uri": "https://localhost:8080/"
        },
        "id": "5LLbj7AhK89J",
        "outputId": "79f93884-e9b1-4100-e6fc-4de271a0eb7f"
      },
      "source": [
        "for M in range (0,10):\n",
        "  if M==5:\n",
        "    break\n",
        "  print(M) "
      ],
      "execution_count": 8,
      "outputs": [
        {
          "output_type": "stream",
          "name": "stdout",
          "text": [
            "0\n",
            "1\n",
            "2\n",
            "3\n",
            "4\n"
          ]
        }
      ]
    },
    {
      "cell_type": "code",
      "metadata": {
        "id": "1aYyLyxYLFMt"
      },
      "source": [
        "#In the above example only numbers 0 to 4 will be printed as when the break statement encounter the integer 5 it will come out of loop."
      ],
      "execution_count": null,
      "outputs": []
    }
  ]
}