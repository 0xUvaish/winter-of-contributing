{
  "nbformat": 4,
  "nbformat_minor": 0,
  "metadata": {
    "colab": {
      "name": "Why Python Programming.ipynb",
      "provenance": []
    },
    "kernelspec": {
      "name": "python3",
      "display_name": "Python 3"
    },
    "language_info": {
      "name": "python"
    }
  },
  "cells": [
    {
      "cell_type": "markdown",
      "metadata": {
        "id": "4-xpTbOEQJT0"
      },
      "source": [
        "# **Why Python Programming**\n",
        "\n",
        "> Python was created in 1991 by Dutch Programmer Guido Van Rossum.\n",
        "\n",
        "> Python is an Object Oriented Programming Language, which means we create objects and classes, which can be reused to implement data and output according to the users requirements.\n",
        "But, Python can also be treated in a procedural or functional way.\n",
        "\n",
        "> Python is an Open source programming language, which means it is free to access and download for everyone.\n",
        "\n",
        "> Python is a High-level language, which is easily understandable by humans.\n",
        "\n",
        "> Python is an Interpreted language.\n",
        "\n",
        "> Python is Easy to learn as syntax is similar to English Language.\n",
        "\n",
        "> Python is Portable, that means any source can implement the code written in Python.\n",
        "\n",
        "> Python works on different platforms, i.e.Windows, Linux, Mac.\n",
        "\n",
        "> Python’s Execution speed is faster.\n",
        "\n",
        "> Python has many Frameworks, tools and libraries available which makes the coding in Python easier\n",
        "> like Django and Flask for developing web applications, TensorFlow for deep learning, Matplotlib for plotting charts and graphs, Scipy for mathematics applications, BeautifulSoup for Web Scraping and pandas for data analysis.\n",
        "\n",
        "> Python helps to code in fewer(minimal) lines\n",
        "> For example: Hello World code can be completed in just one line as shown below\n",
        "> print(“Hello World”)\n",
        "\n",
        "> Python is Versatile, it can be used for Web Development, Machine Learning, Software Development, Artificial Intelligence, Mathematics, GUI Application Development, Game Development.\n",
        "> Where, Big Data, Machine Learning, AI, Cloud computing are the ongoing trends in the technological world.\n",
        "\n",
        "> Python is highly productive if compared to other OOP languages like Java and C++.\n",
        "\n",
        "> Python has a large community.\n",
        "\n",
        "> Google is the supporter of Python. It adopted python programming in 2006.\n",
        "\n",
        "> Easy Documentation and developer support is available for all levels beginner to expert to learn and adapt this programming language.\n",
        "\n",
        "> Python is reliable more than any other programming languages.\n",
        "\n",
        "> Python is High in demand in the development market. Therefore, it has wide range of opportunities opened for python developers with high salary packages.\n",
        "\n",
        "> Python is the best for automation and software testing because it just needs few lines of code to display required results.\\n\",\n",
        "\n",
        "> Python is a valueable skill-set to have for any developer or programmer.\n",
        "\n",
        "> Python is used by popular websites like Youtube, Reddit, Dropbox, Instagram etc.\n",
        "\n",
        "> Semicolon is not used at the end, this reduces the probability of warnings and errors.\n",
        "\n",
        "\n",
        "\n",
        "\n",
        "\n"
      ]
    }
  ]
}