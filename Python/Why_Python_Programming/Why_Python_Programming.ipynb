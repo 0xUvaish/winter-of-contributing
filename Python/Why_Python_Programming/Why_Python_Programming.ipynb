{
  "nbformat": 4,
  "nbformat_minor": 0,
  "metadata": {
    "colab": {
      "name": "Why Python Programming.ipynb",
      "provenance": []
    },
    "kernelspec": {
      "name": "python3",
      "display_name": "Python 3"
    },
    "language_info": {
      "name": "python"
    }
  },
  "cells": [
    {
      "cell_type": "markdown",
      "metadata": {
        "id": "4-xpTbOEQJT0"
      },
      "source": [
        "# **Why Python Programming**\n",
        "\n",
        "> Python was created in 1991 by Dutch Programmer Guido Van Rossum.\n",
        "\n",
        "> Python is an Object Oriented Programming Language, which means we create objects and classes, which can be reused to implement data and output according to the users requirements.\n",
        "But, Python can also be treated in a procedural or functional way.\n",
        "\n",
        "> Python is an Open source programming language, which means it is free to access and download for everyone.\n",
        "\n",
        "> Python is a High-level language, which is easily understandable by humans.\n",
        "\n",
        "> Python is an Interpreted language.\n",
        "\n",
        "> Python is Easy to learn as syntax is similar to English Language.\n",
        "\n",
        "> Python is Portable, that means any source can implement the code written in Python.\n",
        "\n",
        "> Python works on different platforms, i.e.Windows, Linux, Mac.\n",
        "\n",
        "> Python’s Execution speed is faster.\n",
        "\n",
        "> Python has many Frameworks, tools and libraries available which makes the coding in Python easier.\n",
        "\n",
        "> Python helps to code in fewer(minimal) lines;\n",
        "For example: Hello World code can be completed in just one line as shown below;\n",
        "print(“Hello World”)\n",
        "\n",
        "> Python is Versatile, it can be used for Web Development, Machine Learning, Software Development, Artificial Intelligence, Mathematics, GUI Application Development, Game Development.\n",
        "\n",
        "\n",
        "\n",
        "\n",
        "\n",
        "\n"
      ]
    }
  ]
}