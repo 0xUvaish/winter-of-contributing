{
  "nbformat": 4,
  "nbformat_minor": 0,
  "metadata": {
    "colab": {
      "name": "Sets.ipynb",
      "provenance": [],
      "collapsed_sections": [
        "aeR808eVKBx_",
        "lmsuJ-5AYID8",
        "gegFfBdnbDBi",
        "tlwcMEBBeyJ_"
      ]
    },
    "kernelspec": {
      "name": "python3",
      "display_name": "Python 3"
    },
    "language_info": {
      "name": "python"
    }
  },
  "cells": [
    {
      "cell_type": "markdown",
      "metadata": {
        "id": "aeR808eVKBx_"
      },
      "source": [
        "# SET\n",
        "Set is one of the built-in datatype, used to store collections of data. Sets are representated by{}. \n",
        "\n",
        "* Set items are **unordered** i.e. indexing can't be done.\n",
        "* Sets are **unchangeable** i.e. we can't change it's items, can only add new items.\n",
        "* Sets **doesn't allow duplicates**. \n",
        "```\n",
        "example_of_set = {1, True, \"David\"}\n",
        "```"
      ]
    },
    {
      "cell_type": "code",
      "metadata": {
        "colab": {
          "base_uri": "https://localhost:8080/"
        },
        "id": "N5wFmQBoS6ar",
        "outputId": "aa682a9a-045e-4c72-96ef-ca91f8e4072e"
      },
      "source": [
        "# Sets Can be created by\n",
        "set1 = {1, 2, 3, \"Hello\", False}\n",
        "set2 = set([1, 2, \"World\", 3, 4, True, 5])\n",
        "print('This is set 1 : ',set1)\n",
        "print('This is set 2 : ',set2)"
      ],
      "execution_count": null,
      "outputs": [
        {
          "output_type": "stream",
          "name": "stdout",
          "text": [
            "This is set 1 :  {False, 1, 2, 3, 'Hello'}\n",
            "This is set 2 :  {1, 2, 3, 'World', 4, 5}\n"
          ]
        }
      ]
    },
    {
      "cell_type": "code",
      "metadata": {
        "colab": {
          "base_uri": "https://localhost:8080/"
        },
        "id": "lqGgjMNhRpEE",
        "outputId": "dba28e42-0f90-4b47-f3ad-998b5860d083"
      },
      "source": [
        "# Set items are unordered \n",
        "set1 = {1, 10, -3, False, \"david\", 100, 'john'}\n",
        "print(set1)         # by running this you can see that indexing is not fixed as while printing the items were shuffled\n",
        "# print(set1[2])    # run this command(by uncommenting it) to check that it will give error as indexing can't be done"
      ],
      "execution_count": null,
      "outputs": [
        {
          "output_type": "stream",
          "name": "stdout",
          "text": [
            "{False, 1, 100, 10, 'david', 'john', -3}\n"
          ]
        }
      ]
    },
    {
      "cell_type": "code",
      "metadata": {
        "colab": {
          "base_uri": "https://localhost:8080/",
          "height": 221
        },
        "id": "6FdlOTdzWf9z",
        "outputId": "f13e47c6-aae9-4e97-e32f-ed34f7f924c9"
      },
      "source": [
        "# Sets are unchangeable :- if er try to change its item it will give error\n",
        "set1 = {1, 10, -3, False, \"david\", 100, 'john'}\n",
        "set1[3] = 5  # run this to see that it will give error\n",
        "print(set1)"
      ],
      "execution_count": null,
      "outputs": [
        {
          "output_type": "error",
          "ename": "TypeError",
          "evalue": "ignored",
          "traceback": [
            "\u001b[0;31m---------------------------------------------------------------------------\u001b[0m",
            "\u001b[0;31mTypeError\u001b[0m                                 Traceback (most recent call last)",
            "\u001b[0;32m<ipython-input-21-6d83a4d00bf7>\u001b[0m in \u001b[0;36m<module>\u001b[0;34m()\u001b[0m\n\u001b[1;32m      1\u001b[0m \u001b[0;31m# Sets are unchangeable :- if er try to change its item it will give error\u001b[0m\u001b[0;34m\u001b[0m\u001b[0;34m\u001b[0m\u001b[0;34m\u001b[0m\u001b[0m\n\u001b[1;32m      2\u001b[0m \u001b[0mset1\u001b[0m \u001b[0;34m=\u001b[0m \u001b[0;34m{\u001b[0m\u001b[0;36m1\u001b[0m\u001b[0;34m,\u001b[0m \u001b[0;36m10\u001b[0m\u001b[0;34m,\u001b[0m \u001b[0;34m-\u001b[0m\u001b[0;36m3\u001b[0m\u001b[0;34m,\u001b[0m \u001b[0;32mFalse\u001b[0m\u001b[0;34m,\u001b[0m \u001b[0;34m\"david\"\u001b[0m\u001b[0;34m,\u001b[0m \u001b[0;36m100\u001b[0m\u001b[0;34m,\u001b[0m \u001b[0;34m'john'\u001b[0m\u001b[0;34m}\u001b[0m\u001b[0;34m\u001b[0m\u001b[0;34m\u001b[0m\u001b[0m\n\u001b[0;32m----> 3\u001b[0;31m \u001b[0mset1\u001b[0m\u001b[0;34m[\u001b[0m\u001b[0;36m3\u001b[0m\u001b[0;34m]\u001b[0m \u001b[0;34m=\u001b[0m \u001b[0;36m5\u001b[0m  \u001b[0;31m# run this to see that it will give error\u001b[0m\u001b[0;34m\u001b[0m\u001b[0;34m\u001b[0m\u001b[0m\n\u001b[0m\u001b[1;32m      4\u001b[0m \u001b[0mprint\u001b[0m\u001b[0;34m(\u001b[0m\u001b[0mset1\u001b[0m\u001b[0;34m)\u001b[0m\u001b[0;34m\u001b[0m\u001b[0;34m\u001b[0m\u001b[0m\n",
            "\u001b[0;31mTypeError\u001b[0m: 'set' object does not support item assignment"
          ]
        }
      ]
    },
    {
      "cell_type": "code",
      "metadata": {
        "id": "XOEeLLH-XUU9"
      },
      "source": [
        "# Sets doesn't allow duplicates\n",
        "set2 = set([1, 1, 1, 2, 2, 3, 3, 3, 4])\n",
        "print(set2)"
      ],
      "execution_count": null,
      "outputs": []
    },
    {
      "cell_type": "markdown",
      "metadata": {
        "id": "lmsuJ-5AYID8"
      },
      "source": [
        "# Use of len() and type() function \n",
        "* **len()** is used to get the length of set.\n",
        "* Sets are defined as objects with the data type 'set' for checking the type of variable we use **type()**."
      ]
    },
    {
      "cell_type": "code",
      "metadata": {
        "id": "77MBHM8RZPqr"
      },
      "source": [
        "# Use of len() function\n",
        "set2 = set([1, 1, 1, 2, 2, 3, 3, 3, 4, 'david', 'alex', False])\n",
        "length = len(set2)\n",
        "print(set2,'has',length,'items')"
      ],
      "execution_count": null,
      "outputs": []
    },
    {
      "cell_type": "code",
      "metadata": {
        "colab": {
          "base_uri": "https://localhost:8080/"
        },
        "id": "ke4LPpWkaAvt",
        "outputId": "c3eda8b6-4f3f-4364-b283-25736baa3066"
      },
      "source": [
        "# Use of len() function\n",
        "set2 = set([1, 1, 1, 2, 2, 3, 3, 3, 4, 'david', 'alex', False])\n",
        "print(type(set2))"
      ],
      "execution_count": null,
      "outputs": [
        {
          "output_type": "stream",
          "name": "stdout",
          "text": [
            "<class 'set'>\n"
          ]
        }
      ]
    },
    {
      "cell_type": "markdown",
      "metadata": {
        "id": "gegFfBdnbDBi"
      },
      "source": [
        "# Adding items in SET\n",
        "Once a set is created, we cannot change it's items, but we can add new items, for adding item in set we can use following functions :-\n",
        "* **add()** - To add one item to a set we use add() method.\n",
        "* **update()** - To add items from another set into the current set, we use update() method, the object in the update() method does not have to be a set, it can be any iterable object (tuples, lists etc.)."
      ]
    },
    {
      "cell_type": "code",
      "metadata": {
        "colab": {
          "base_uri": "https://localhost:8080/"
        },
        "id": "p56mcFGTcFws",
        "outputId": "4cb5ad1a-c93a-4454-df4a-db161f993001"
      },
      "source": [
        "# use of add()\n",
        "set1 = {1, 2, 3, 4}\n",
        "print('Set before adding new item :',set1)\n",
        "set1.add('John')\n",
        "print('Set after adding new item :',set1)"
      ],
      "execution_count": null,
      "outputs": [
        {
          "output_type": "stream",
          "name": "stdout",
          "text": [
            "Set before adding new item : {1, 2, 3, 4}\n",
            "Set after adding new item : {1, 2, 3, 4, 'John'}\n"
          ]
        }
      ]
    },
    {
      "cell_type": "code",
      "metadata": {
        "id": "UICyYXIIdjMi"
      },
      "source": [
        "# use of add()\n",
        "set1 = {1, 2, 3, 4}\n",
        "set2 = {\"john\", \"david\", False}\n",
        "lst = [\"alex\", \"jack\"]\n",
        "\n",
        "print('Set-1 :',set1)\n",
        "print('Set-2 :',set2)\n",
        "\n",
        "set1.update(set2)\n",
        "print('Set after adding set-2 in it :',set1)\n",
        "\n",
        "set1.update(lst)\n",
        "print('Set after adding list in it :',set1)"
      ],
      "execution_count": null,
      "outputs": []
    },
    {
      "cell_type": "markdown",
      "metadata": {
        "id": "tlwcMEBBeyJ_"
      },
      "source": [
        "# Removing items from SET\n",
        "For removing items in set we use following functions :-\n",
        "* **remove()** is used to remove item from set, if the item to be removed does not exist, remove() will raise an error.\n",
        "* **discrad()** is used to remove item from set, if the item to be removed does not exist, discard() will not raise an error.\n",
        "* **pop()** in others datatypes pop() removes last item, but set are unordered so when using the pop() method, we do not know which item that gets removed.\n",
        "* **clear()** is used to empty the set.\n",
        "* **del** keyword is used to del the set completely.\n"
      ]
    },
    {
      "cell_type": "code",
      "metadata": {
        "id": "Si9kBwMOx5hr"
      },
      "source": [
        "# use of remove()\n",
        "set1 = {1, 2, 3, 4}\n",
        "print('Set before removing any item :',set1)\n",
        "\n",
        "set1.remove(2)\n",
        "print('Set after removing \"2\" :',set1)\n",
        "\n",
        "# set1.remove(5)          # if you run it after umcommenting it will give error as 5 is not in the set"
      ],
      "execution_count": null,
      "outputs": []
    },
    {
      "cell_type": "code",
      "metadata": {
        "colab": {
          "base_uri": "https://localhost:8080/"
        },
        "id": "W2wcRNrtyaMt",
        "outputId": "566d9068-5547-4a6e-a5b3-e9b96180905a"
      },
      "source": [
        "# use of discard()\n",
        "set1 = {1, 2, 3, 4}\n",
        "print('Set before removing any item :',set1)\n",
        "\n",
        "set1.discard(2)\n",
        "print('Set after removing \"2\" :',set1)\n",
        "\n",
        "set1.discard(5)      # it will not give any error\n",
        "      "
      ],
      "execution_count": 3,
      "outputs": [
        {
          "output_type": "stream",
          "name": "stdout",
          "text": [
            "Set before removing any item : {1, 2, 3, 4}\n",
            "Set after removing \"2\" : {1, 3, 4}\n"
          ]
        }
      ]
    },
    {
      "cell_type": "code",
      "metadata": {
        "colab": {
          "base_uri": "https://localhost:8080/"
        },
        "id": "4yC8kZTLzQ5s",
        "outputId": "d486cd8c-b6ca-47f0-ee14-6736f9a9aa44"
      },
      "source": [
        "# use of pop()\n",
        "set1 = {1, 'David', 2, 3, 4, False}\n",
        "print('Set before removing any item :',set1)\n",
        "\n",
        "set1.pop()\n",
        "print('Set after using pop() :',set1)"
      ],
      "execution_count": 7,
      "outputs": [
        {
          "output_type": "stream",
          "name": "stdout",
          "text": [
            "Set before removing any item : {False, 1, 2, 3, 4, 'David'}\n",
            "Set after using pop() : {1, 2, 3, 4, 'David'}\n"
          ]
        }
      ]
    },
    {
      "cell_type": "code",
      "metadata": {
        "id": "GK8PiQ4lzrMQ"
      },
      "source": [
        "# use of clear()\n",
        "set1 = {1, 'David', 2, 3, 4, False}\n",
        "print('Set before using clear() :',set1)\n",
        "\n",
        "set1.clear()    # it will make the set empty \n",
        "print('Set after using clear() :',set1)"
      ],
      "execution_count": null,
      "outputs": []
    },
    {
      "cell_type": "code",
      "metadata": {
        "id": "yrguInxd0Dke"
      },
      "source": [
        "# use of del\n",
        "set1 = {1, 'David', 2, 3, 4, False}\n",
        "print('Set before using del :',set1)\n",
        "\n",
        "del set1   # it will delete the existance of set and give error as this set is not exist\n",
        "print('Set after using del :',set1)"
      ],
      "execution_count": null,
      "outputs": []
    },
    {
      "cell_type": "markdown",
      "metadata": {
        "id": "n_Cv7W8S1lyy"
      },
      "source": [
        "# Some SET Operations\n",
        "* **union()** method returns a new set with all items from both the sets.\n",
        "* **update()** method inserts the items from one set into another.\n",
        "* **intersection_update()** method will keep only the items that are present in both sets.\n",
        "* **intersection()** method will return a new set, that only contains the items that are present in both sets.\n",
        "* **symmetric_difference_update()** method will keep only the elements that are NOT present in both sets.\n",
        "* **symmetric_difference()** method will return a new set, that contains only the elements that are NOT present in both sets.\n",
        "* **difference_update()**\tremoves the items in the set that are also included in another, specified set.\n",
        "* **difference()** returns a set containing the difference between two or more sets.\n",
        "* **isdisjoint()**\treturns True if they do-not have any common elements in between them..\n",
        "* **issubset()**\t returns True if all elements of a set A are present in another set B. \n",
        "* **issuperset()**\treturns True if all elements of a set A occupies set B .\n",
        "\n"
      ]
    },
    {
      "cell_type": "code",
      "metadata": {
        "id": "5UTEByy5ATP1"
      },
      "source": [
        "# Use of union()\n",
        "a = {1,2,3,4}\n",
        "b = {3,4,5,6}\n",
        "print('Set a :',a,'\\nSet b :',b)\n",
        "\n",
        "c = a.union(b)\n",
        "print('Set-a union Set-b is',c)"
      ],
      "execution_count": null,
      "outputs": []
    },
    {
      "cell_type": "code",
      "metadata": {
        "id": "oC2Nk_kaAngr"
      },
      "source": [
        "# Use of update()\n",
        "a = {1,2,3,4}\n",
        "b = {3,4,5,6}\n",
        "print('Set a :',a,'\\nSet b :',b)\n",
        "\n",
        "a.update(b)\n",
        "print('Set-a after updating',a)"
      ],
      "execution_count": null,
      "outputs": []
    },
    {
      "cell_type": "code",
      "metadata": {
        "id": "VuUBg6TfB3Bj"
      },
      "source": [
        "# Use of intersection_update()\n",
        "a = {1,2,3,4}\n",
        "b = {3,4,5,6}\n",
        "print('Set a :',a,'\\nSet b :',b)\n",
        "\n",
        "a.intersection_update(b)\n",
        "print('New Set-a',a)"
      ],
      "execution_count": null,
      "outputs": []
    },
    {
      "cell_type": "code",
      "metadata": {
        "id": "7tJQbz2WCLf7"
      },
      "source": [
        "# use of intersection()\n",
        "a = {1,2,3,4}\n",
        "b = {3,4,5,6}\n",
        "print('Set a :',a,'\\nSet b :',b)\n",
        "\n",
        "c = a.intersection(b)\n",
        "print('New Set-c :',c)"
      ],
      "execution_count": null,
      "outputs": []
    },
    {
      "cell_type": "code",
      "metadata": {
        "id": "jzqMlVd-Cy99"
      },
      "source": [
        "# Use of symmetric_difference_update()\n",
        "a = {1,2,3,4}\n",
        "b = {3,4,5,6}\n",
        "print('Set a :',a,'\\nSet b :',b)\n",
        "\n",
        "a.symmetric_difference_update(b)\n",
        "print('New Set-a',a)"
      ],
      "execution_count": null,
      "outputs": []
    },
    {
      "cell_type": "code",
      "metadata": {
        "id": "iFrMx5PPDFJD"
      },
      "source": [
        "# use of symmetric_difference()\n",
        "a = {1,2,3,4}\n",
        "b = {3,4,5,6}\n",
        "print('Set a :',a,'\\nSet b :',b)\n",
        "\n",
        "c = a.symmetric_difference(b)\n",
        "print('New Set-c :',c)"
      ],
      "execution_count": null,
      "outputs": []
    },
    {
      "cell_type": "code",
      "metadata": {
        "id": "GWRhFMoREHXH"
      },
      "source": [
        "# use of difference_update() \n",
        "a = {1,2,3,4}\n",
        "b = {4,5,6}\n",
        "print('Set a :',a,'\\nSet b :',b)\n",
        "\n",
        "a.difference_update(b)\n",
        "print('New Set-a',a)"
      ],
      "execution_count": null,
      "outputs": []
    },
    {
      "cell_type": "code",
      "metadata": {
        "id": "vJE9pSxbDWE7"
      },
      "source": [
        "# use of difference() \n",
        "a = {1,2,3,4}\n",
        "b = {3,5,6}\n",
        "print('Set a :',a,'\\nSet b :',b)\n",
        "\n",
        "c = a.difference(b)\n",
        "print('New Set-c :',c)"
      ],
      "execution_count": null,
      "outputs": []
    },
    {
      "cell_type": "code",
      "metadata": {
        "id": "qB5EVjkgE0FP"
      },
      "source": [
        "# use of isdisjoint()\n",
        "a = {1,2,3}\n",
        "b = {4,5,6}\n",
        "print('Set a :',a,'\\nSet b :',b)\n",
        "\n",
        "print(a.isdisjoint(b))\n"
      ],
      "execution_count": null,
      "outputs": []
    },
    {
      "cell_type": "code",
      "metadata": {
        "colab": {
          "base_uri": "https://localhost:8080/"
        },
        "id": "5Gg-YbX3F0Rw",
        "outputId": "60e9efd5-6444-43bd-921b-6ec61c6dd7dc"
      },
      "source": [
        "# use of issubset()\n",
        "a = {1,2,3}\n",
        "b = {1}\n",
        "c = {2,3,4}\n",
        "print('Set a :',a,'\\nSet b :',b,'\\nSet c :',c)\n",
        "\n",
        "print('\\nset-b is subset of set-a :',b.issubset(a))\n",
        "print('set-c is subset of set-a :',c.issubset(a))"
      ],
      "execution_count": 53,
      "outputs": [
        {
          "output_type": "stream",
          "name": "stdout",
          "text": [
            "Set a : {1, 2, 3} \n",
            "Set b : {1} \n",
            "Set c : {2, 3, 4}\n",
            "\n",
            "set-b is subset of set-a : True\n",
            "set-c is subset of set-a : False\n"
          ]
        }
      ]
    },
    {
      "cell_type": "code",
      "metadata": {
        "id": "S-evCsPpG3Wq"
      },
      "source": [
        "# use of issuperset()\n",
        "a = {1,2,3}\n",
        "b = {1}\n",
        "c = {2,3,4}\n",
        "print('Set a :',a,'\\nSet b :',b,'\\nSet c :',c)\n",
        "\n",
        "print('\\nset-a is superset of set-b :',a.issuperset(b))\n",
        "print('set-a is superset of set-c :',a.issuperset(c))"
      ],
      "execution_count": null,
      "outputs": []
    }
  ]
}