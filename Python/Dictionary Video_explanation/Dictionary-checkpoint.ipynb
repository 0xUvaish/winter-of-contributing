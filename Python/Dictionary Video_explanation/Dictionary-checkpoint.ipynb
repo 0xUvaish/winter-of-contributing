{
 "cells": [
  {
   "cell_type": "markdown",
   "id": "a8c934a0",
   "metadata": {},
   "source": [
    "# Dictionary\n",
    "Dictionary is one of the four collection data types in python.\n",
    "It is a data structre that stores data in key:value pairs.\n",
    "\n",
    "The main properties of a dictionary is that they are\n",
    ">Ordered (as of python version 3.7)\n",
    "\n",
    ">Changable\n",
    "\n",
    ">Do not allow duplicate"
   ]
  },
  {
   "cell_type": "code",
   "execution_count": 70,
   "id": "3432ba69",
   "metadata": {},
   "outputs": [],
   "source": [
    "#empty dictionary and how python reads it"
   ]
  },
  {
   "cell_type": "markdown",
   "id": "8c6d2c0a",
   "metadata": {},
   "source": [
    "# Initialization"
   ]
  },
  {
   "cell_type": "code",
   "execution_count": 62,
   "id": "a2fcc5dc",
   "metadata": {},
   "outputs": [],
   "source": [
    "# 2 ways\n"
   ]
  },
  {
   "cell_type": "code",
   "execution_count": 63,
   "id": "0411dd90",
   "metadata": {},
   "outputs": [],
   "source": [
    "#dict()\n"
   ]
  },
  {
   "cell_type": "code",
   "execution_count": null,
   "id": "e8508353",
   "metadata": {},
   "outputs": [],
   "source": [
    "#duplicates"
   ]
  },
  {
   "cell_type": "code",
   "execution_count": 64,
   "id": "a4cc99e6",
   "metadata": {},
   "outputs": [],
   "source": [
    "#playing around with datasets"
   ]
  },
  {
   "cell_type": "code",
   "execution_count": 65,
   "id": "4a965712",
   "metadata": {},
   "outputs": [],
   "source": [
    "#nested dictionary"
   ]
  },
  {
   "cell_type": "code",
   "execution_count": 66,
   "id": "050606d3",
   "metadata": {},
   "outputs": [],
   "source": [
    "#methods to get insights -- keys(),values(),items()"
   ]
  },
  {
   "cell_type": "markdown",
   "id": "39570e1c",
   "metadata": {},
   "source": [
    "# Data accessing"
   ]
  },
  {
   "cell_type": "code",
   "execution_count": 67,
   "id": "374f0255",
   "metadata": {},
   "outputs": [],
   "source": [
    "#using keys"
   ]
  },
  {
   "cell_type": "code",
   "execution_count": 68,
   "id": "296c7573",
   "metadata": {},
   "outputs": [],
   "source": [
    "#accessing from nested dictionary"
   ]
  },
  {
   "cell_type": "code",
   "execution_count": 69,
   "id": "2b061027",
   "metadata": {},
   "outputs": [],
   "source": [
    "#using dictionary method get()"
   ]
  },
  {
   "cell_type": "markdown",
   "id": "09d0d795",
   "metadata": {},
   "source": [
    "# Modifications"
   ]
  },
  {
   "cell_type": "code",
   "execution_count": 61,
   "id": "5e30dc8f",
   "metadata": {},
   "outputs": [],
   "source": [
    "#adding item in a dictionary using key value"
   ]
  },
  {
   "cell_type": "code",
   "execution_count": 60,
   "id": "c7d37391",
   "metadata": {},
   "outputs": [],
   "source": [
    "#removing an item in dictionary\n",
    "#del keyword\n",
    "Dict = { 5 : 'Welcome', 6 : 'To', 7 : 'Python',\n",
    "        'A' : {1 : 'A', 2 : 'B', 3 : 'C'},\n",
    "        'B' : {1 : 'a', 2 : 'b'}}\n",
    " \n",
    "del Dict[6]\n",
    "print(Dict)\n",
    " \n",
    "# Deleting a Key from nested Dictionary\n",
    "del Dict['A'][2]\n",
    "print(Dict)"
   ]
  },
  {
   "cell_type": "code",
   "execution_count": 59,
   "id": "8f365615",
   "metadata": {},
   "outputs": [],
   "source": [
    "#pop()"
   ]
  },
  {
   "cell_type": "code",
   "execution_count": 58,
   "id": "26092997",
   "metadata": {},
   "outputs": [],
   "source": [
    "#popitem"
   ]
  },
  {
   "cell_type": "code",
   "execution_count": 57,
   "id": "0ec25a53",
   "metadata": {},
   "outputs": [],
   "source": [
    "#clear()\n"
   ]
  }
 ],
 "metadata": {
  "kernelspec": {
   "display_name": "Python 3 (ipykernel)",
   "language": "python",
   "name": "python3"
  },
  "language_info": {
   "codemirror_mode": {
    "name": "ipython",
    "version": 3
   },
   "file_extension": ".py",
   "mimetype": "text/x-python",
   "name": "python",
   "nbconvert_exporter": "python",
   "pygments_lexer": "ipython3",
   "version": "3.9.5"
  }
 },
 "nbformat": 4,
 "nbformat_minor": 5
}
