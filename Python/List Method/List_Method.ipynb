{
  "nbformat": 4,
  "nbformat_minor": 0,
  "metadata": {
    "colab": {
      "name": "List_Method.ipynb",
      "provenance": []
    },
    "kernelspec": {
      "name": "python3",
      "display_name": "Python 3"
    },
    "language_info": {
      "name": "python"
    }
  },
  "cells": [
    {
      "cell_type": "code",
      "metadata": {
        "id": "SCpC9eySd95A"
      },
      "source": [
        "# What are List Methods?"
      ],
      "execution_count": 32,
      "outputs": []
    },
    {
      "cell_type": "code",
      "metadata": {
        "id": "yp4o4QJMeAL5"
      },
      "source": [
        "#Python has a set of built-in methods that you can use on List.\n",
        "#Lists are used to store multiple items in a single variable."
      ],
      "execution_count": 33,
      "outputs": []
    },
    {
      "cell_type": "code",
      "metadata": {
        "id": "qTK6yCNKf-Go"
      },
      "source": [
        "#<Listobject>. <methodname> ()"
      ],
      "execution_count": 34,
      "outputs": []
    },
    {
      "cell_type": "code",
      "metadata": {
        "id": "61pmFp_Ygj0F"
      },
      "source": [
        "#Main Purpose of List methods are to create Lists or change the contents of a List.\n",
        "#List is created using square bracket."
      ],
      "execution_count": 35,
      "outputs": []
    },
    {
      "cell_type": "code",
      "metadata": {
        "colab": {
          "base_uri": "https://localhost:8080/"
        },
        "id": "wH6tdQTaiKRb",
        "outputId": "0209a6c9-a91d-48e5-917e-cd37a519a4c7"
      },
      "source": [
        "L=['A','B','C']\n",
        "L.append('D') #append is used to add elements in end\n",
        "L"
      ],
      "execution_count": 6,
      "outputs": [
        {
          "output_type": "execute_result",
          "data": {
            "text/plain": [
              "['A', 'B', 'C', 'D']"
            ]
          },
          "metadata": {},
          "execution_count": 6
        }
      ]
    },
    {
      "cell_type": "code",
      "metadata": {
        "colab": {
          "base_uri": "https://localhost:8080/"
        },
        "id": "CkHMnFoqkiSi",
        "outputId": "6bc0785c-d284-42b4-8414-5507c13275db"
      },
      "source": [
        "y=L.copy() #Copy elements of list to another\n",
        "y"
      ],
      "execution_count": 7,
      "outputs": [
        {
          "output_type": "execute_result",
          "data": {
            "text/plain": [
              "['A', 'B', 'C', 'D']"
            ]
          },
          "metadata": {},
          "execution_count": 7
        }
      ]
    },
    {
      "cell_type": "code",
      "metadata": {
        "colab": {
          "base_uri": "https://localhost:8080/"
        },
        "id": "AAqGa1xdk5rU",
        "outputId": "66aa8fd1-c2b2-4f73-ccc0-217e2d6f5434"
      },
      "source": [
        "z=y.count('A') # count the number on list elements in given list  \n",
        "z"
      ],
      "execution_count": 8,
      "outputs": [
        {
          "output_type": "execute_result",
          "data": {
            "text/plain": [
              "1"
            ]
          },
          "metadata": {},
          "execution_count": 8
        }
      ]
    },
    {
      "cell_type": "code",
      "metadata": {
        "colab": {
          "base_uri": "https://localhost:8080/"
        },
        "id": "WhRI7r57kfEn",
        "outputId": "65af4f45-f2c8-4e68-f9cd-de9259ace160"
      },
      "source": [
        "L.clear() #Clear the list elements\n",
        "L"
      ],
      "execution_count": 3,
      "outputs": [
        {
          "output_type": "execute_result",
          "data": {
            "text/plain": [
              "[]"
            ]
          },
          "metadata": {},
          "execution_count": 3
        }
      ]
    },
    {
      "cell_type": "code",
      "metadata": {
        "colab": {
          "base_uri": "https://localhost:8080/"
        },
        "id": "8O6bZCS6lFYi",
        "outputId": "b8bef4cc-f6ba-460d-83bb-ccec182c7279"
      },
      "source": [
        "M=['A','B']\n",
        "N=['C','D']\n",
        "M.extend(N) #adds the specified list elements to the end of the current list\n",
        "M"
      ],
      "execution_count": 9,
      "outputs": [
        {
          "output_type": "execute_result",
          "data": {
            "text/plain": [
              "['A', 'B', 'C', 'D']"
            ]
          },
          "metadata": {},
          "execution_count": 9
        }
      ]
    },
    {
      "cell_type": "code",
      "metadata": {
        "colab": {
          "base_uri": "https://localhost:8080/"
        },
        "id": "In4HaiU2laSO",
        "outputId": "3cfe1b69-11b3-47d0-ee72-b9e464cbee9d"
      },
      "source": [
        "P= M.index('C') #used to check element c in list and return the index of it\n",
        "P"
      ],
      "execution_count": 12,
      "outputs": [
        {
          "output_type": "execute_result",
          "data": {
            "text/plain": [
              "2"
            ]
          },
          "metadata": {},
          "execution_count": 12
        }
      ]
    },
    {
      "cell_type": "code",
      "metadata": {
        "colab": {
          "base_uri": "https://localhost:8080/"
        },
        "id": "2ocA_D9OmeYl",
        "outputId": "c4c250ca-2e82-43bc-fe87-1436df31a0b9"
      },
      "source": [
        "I=M.remove('C') #To remove C element  from the list\n",
        "M"
      ],
      "execution_count": 25,
      "outputs": [
        {
          "output_type": "execute_result",
          "data": {
            "text/plain": [
              "['A', 'B', 'D']"
            ]
          },
          "metadata": {},
          "execution_count": 25
        }
      ]
    },
    {
      "cell_type": "code",
      "metadata": {
        "colab": {
          "base_uri": "https://localhost:8080/"
        },
        "id": "4cqq2PZSlxto",
        "outputId": "b8b871c0-f0a3-4510-e100-4edec616ee2e"
      },
      "source": [
        "I=M.insert(2,'F') #used to insert F element using index\n",
        "M"
      ],
      "execution_count": 26,
      "outputs": [
        {
          "output_type": "execute_result",
          "data": {
            "text/plain": [
              "['A', 'B', 'F', 'D']"
            ]
          },
          "metadata": {},
          "execution_count": 26
        }
      ]
    },
    {
      "cell_type": "code",
      "metadata": {
        "colab": {
          "base_uri": "https://localhost:8080/"
        },
        "id": "JftBkt7cm_mW",
        "outputId": "4ae35efa-8573-45dc-fe23-47642f0f8451"
      },
      "source": [
        "M.reverse() #used to reverse the list\n",
        "M"
      ],
      "execution_count": 27,
      "outputs": [
        {
          "output_type": "execute_result",
          "data": {
            "text/plain": [
              "['D', 'F', 'B', 'A']"
            ]
          },
          "metadata": {},
          "execution_count": 27
        }
      ]
    },
    {
      "cell_type": "code",
      "metadata": {
        "colab": {
          "base_uri": "https://localhost:8080/"
        },
        "id": "DJ2j2A_vnEmt",
        "outputId": "e3f5c941-ad18-498e-fab4-f13f02b2f82c"
      },
      "source": [
        "M.sort() #Sort the list in ascending order\n",
        "M"
      ],
      "execution_count": 28,
      "outputs": [
        {
          "output_type": "execute_result",
          "data": {
            "text/plain": [
              "['A', 'B', 'D', 'F']"
            ]
          },
          "metadata": {},
          "execution_count": 28
        }
      ]
    },
    {
      "cell_type": "code",
      "metadata": {
        "id": "ELfAgR-zpadx"
      },
      "source": [
        "# Advantage- List formatting is easier. "
      ],
      "execution_count": 29,
      "outputs": []
    },
    {
      "cell_type": "code",
      "metadata": {
        "id": "rkJHnwgjp1K3"
      },
      "source": [
        "# Conclusion-List methods change or manipulate the original List."
      ],
      "execution_count": 31,
      "outputs": []
    }
  ]
}