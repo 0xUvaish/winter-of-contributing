{
  "nbformat": 4,
  "nbformat_minor": 0,
  "metadata": {
    "colab": {
      "name": "Tuples.ipynb",
      "provenance": []
    },
    "kernelspec": {
      "name": "python3",
      "display_name": "Python 3"
    },
    "language_info": {
      "name": "python"
    }
  },
  "cells": [
    {
      "cell_type": "markdown",
      "metadata": {
        "id": "7OIu4iJ6BuIh"
      },
      "source": [
        "# Tuples\n",
        "Tuple is a data structure used to store mutiple items in a single variable <br>\n",
        "Tuple is one of 4 built-in data types in Python used to store collections of data\n"
      ]
    },
    {
      "cell_type": "code",
      "metadata": {
        "id": "6wzLo3Q-ADJ8",
        "colab": {
          "base_uri": "https://localhost:8080/"
        },
        "outputId": "9eac3997-6b1d-42f7-d9ba-e91f06f1cf6f"
      },
      "source": [
        "#initializing ways\n",
        "t = (1,2,3,4)\n",
        "type(t)\n",
        "t = tuple((1,2,3,4))\n",
        "t"
      ],
      "execution_count": null,
      "outputs": [
        {
          "output_type": "execute_result",
          "data": {
            "text/plain": [
              "(1, 2, 3, 4)"
            ]
          },
          "metadata": {},
          "execution_count": 31
        }
      ]
    },
    {
      "cell_type": "code",
      "metadata": {
        "id": "pqp4Dn1ZCc3_",
        "colab": {
          "base_uri": "https://localhost:8080/"
        },
        "outputId": "f9e6e9fa-f2bd-4a7d-dbb3-c340dac529ec"
      },
      "source": [
        "#identifying length\n",
        "len(t)"
      ],
      "execution_count": null,
      "outputs": [
        {
          "output_type": "execute_result",
          "data": {
            "text/plain": [
              "4"
            ]
          },
          "metadata": {},
          "execution_count": 32
        }
      ]
    },
    {
      "cell_type": "markdown",
      "metadata": {
        "id": "Vu5hhHcQAM2E"
      },
      "source": [
        "**Properties**"
      ]
    },
    {
      "cell_type": "markdown",
      "metadata": {
        "id": "jKdfrRg4BVHA"
      },
      "source": [
        "Some basic properties include\n",
        " >Ordered <br>\n",
        " >Unchangable"
      ]
    },
    {
      "cell_type": "code",
      "metadata": {
        "id": "qUnKEEa9Aoip",
        "colab": {
          "base_uri": "https://localhost:8080/"
        },
        "outputId": "d4900bb3-0a3a-450b-9121-7196dbbdaef0"
      },
      "source": [
        "#tuples are indexed\n",
        "t[2]"
      ],
      "execution_count": null,
      "outputs": [
        {
          "output_type": "execute_result",
          "data": {
            "text/plain": [
              "3"
            ]
          },
          "metadata": {},
          "execution_count": 33
        }
      ]
    },
    {
      "cell_type": "code",
      "metadata": {
        "id": "aR4xfQOyA886",
        "colab": {
          "base_uri": "https://localhost:8080/"
        },
        "outputId": "dd6a783b-7cbb-4ba5-ff63-57ab978f7b35"
      },
      "source": [
        "#allows duplicates\n",
        "t1 = (\"a\",\"a\",\"b\")\n",
        "t1"
      ],
      "execution_count": null,
      "outputs": [
        {
          "output_type": "execute_result",
          "data": {
            "text/plain": [
              "('a', 'a', 'b')"
            ]
          },
          "metadata": {},
          "execution_count": 34
        }
      ]
    },
    {
      "cell_type": "code",
      "metadata": {
        "id": "oNDCLMAwBDoF",
        "colab": {
          "base_uri": "https://localhost:8080/"
        },
        "outputId": "9cdddb46-8f73-4171-9187-e7f752abbcc3"
      },
      "source": [
        "#can contain different datatypes\n",
        "t2 = (False,4.6,\"gh\",2)\n",
        "t2"
      ],
      "execution_count": null,
      "outputs": [
        {
          "output_type": "execute_result",
          "data": {
            "text/plain": [
              "(False, 4.6, 'gh', 2)"
            ]
          },
          "metadata": {},
          "execution_count": 35
        }
      ]
    },
    {
      "cell_type": "markdown",
      "metadata": {
        "id": "pBKih5VnDSSk"
      },
      "source": [
        "<b>When to use?</b> <br>\n",
        "When you need a data structure which can hold duplicates, or which cannot get modified later or which can store multiple data types at a time."
      ]
    }
  ]
}