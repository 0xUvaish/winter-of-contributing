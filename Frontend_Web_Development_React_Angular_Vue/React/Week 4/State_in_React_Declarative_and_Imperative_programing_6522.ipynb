{
  "nbformat": 4,
  "nbformat_minor": 0,
  "metadata": {
    "colab": {
      "name": "State in React-Declarative and Imperative programing #6522.ipynb",
      "provenance": []
    },
    "kernelspec": {
      "name": "python3",
      "display_name": "Python 3"
    },
    "language_info": {
      "name": "python"
    }
  },
  "cells": [
    {
      "cell_type": "markdown",
      "metadata": {
        "id": "7o1N7zNLEOqM"
      },
      "source": [
        "# **State in React-Declarative and Imperative programing**"
      ]
    },
    {
      "cell_type": "markdown",
      "metadata": {
        "id": "QWdLqPdw4ha_"
      },
      "source": [
        "<img src=\"https://www.dottedsquirrel.com/content/images/2021/06/app.jpg\">\n",
        "\n"
      ]
    },
    {
      "cell_type": "markdown",
      "metadata": {
        "id": "dAiH9EdWFe0R"
      },
      "source": [
        "##**What is Declarative Programming ?**"
      ]
    },
    {
      "cell_type": "markdown",
      "metadata": {
        "id": "tM9Pdw7BEja-"
      },
      "source": [
        "\n",
        "*   Declarative programming is a style of programming where applications are structured in a way that prioritizes describing what should happen over defining how it should happen.\n",
        "\n",
        "*   Describes what a program should accomplish (or what the end result should be)\n",
        "*   Leaves the determination of how to get to the end result up to the program\n",
        "\n",
        "*   This approach involves providing a domain-specific language (DSL) for expressing what the user wants\n",
        "\n",
        "\n",
        "\n",
        "\n",
        "\n"
      ]
    },
    {
      "cell_type": "markdown",
      "metadata": {
        "id": "tgfVYpXFFz7v"
      },
      "source": [
        "##**Benefits of Declarative Programming**\n",
        "\n",
        "\n",
        "\n",
        "*   Declarative approach makes React easy to use.\n",
        "*   The resulting code is simple.\n",
        "*    It has possibility of fewer bugs and more maintainability.\n",
        "*   This Domain Specific Language shields users from messy low-level constructs while still achieving the desired end-state. \n",
        "*   Declarative programming generally allows for quicker and simpler problem resolution. \n",
        "*   Easy optimisation as implementation is controlled by an algorithm.\n",
        "\n",
        "\n",
        "\n",
        "\n"
      ]
    },
    {
      "cell_type": "markdown",
      "metadata": {
        "id": "T9uJ-Mdm4jqc"
      },
      "source": [
        "## **Where we use Declarative programing ?**\n",
        "\n",
        "React is so powerful is because it enforces a declarative programming paradigm. Declarative programming is approach as a way of describing what you want to achieve.It expresses the logic of a computation without describing its control flow.Hence to achieve the optimal solution with easy code and efficient approach Declarative Programming is used.\n",
        "\n",
        "### **CODE :**\n"
      ]
    },
    {
      "cell_type": "code",
      "metadata": {
        "id": "3gWoytyobuyA"
      },
      "source": [
        "class Button extends React.Component{\n",
        "  this.state = { color: 'green' }\n",
        "  handleChange = () => {\n",
        "    const color = this.state.color === 'green' ? 'blue' : 'green';\n",
        "    this.setState({ color });\n",
        "  }\n",
        "  render() {\n",
        "    return (<div>\n",
        "      <button \n",
        "         className=`btn ${this.state.color}`\n",
        "         onClick={this.handleChange}>\n",
        "      </button>\n",
        "    </div>);\n",
        "  }\n",
        "}"
      ],
      "execution_count": null,
      "outputs": []
    },
    {
      "cell_type": "markdown",
      "metadata": {
        "id": "usgG1vPQbc1F"
      },
      "source": [
        "### **Explanation**\n",
        "\n",
        "* We have the logic that says if it is not green color then its blue !\n",
        "\n",
        "* The React example never actually touches an element. it simply declares an element should be rendered given our current state as stated in the above code. It does not actually manipulate the DOM itself.\n",
        "\n",
        "* This sets us up for a good control flow where state goes through a series of predictable and replicable mutations."
      ]
    },
    {
      "cell_type": "markdown",
      "metadata": {
        "id": "yyoyEsWncuIs"
      },
      "source": [
        "## **What is Imperative Programing in React ?**\n",
        "\n",
        "* Imperative programming is when you tell your program every single step to achieve a specific outcome. \n",
        "* It is the step by step process of getting to the result (often disregarding the process to get there).\n",
        "*  This means your program have to follow each procedure or else it will fail.\n",
        "\n"
      ]
    },
    {
      "cell_type": "markdown",
      "metadata": {
        "id": "twTSadkQlAOn"
      },
      "source": [
        "##**Benefits Of Imperative Programming**\n",
        "\n",
        "* Imperative Program is relatively easy to learn, as the code can be read like a step-by-step instruction. \n",
        "* It is relatively easy to learn, as the code can be read like a step-by-step instruction. \n",
        "* Conceptual model (solution path) is very easy for beginners to understand.\n",
        "* Characteristics of specific applications can be taken into account.\n",
        "* Imperative programming is great for spaces where the sequence is required to achieve a particular result. That’s why it often sits at the hardware level of programming."
      ]
    },
    {
      "cell_type": "markdown",
      "metadata": {
        "id": "q2OUMSRlwD9m"
      },
      "source": [
        "##**Where we use Imperative Programming ?**\n",
        "\n",
        "Although, Imperative way of programming has been used a long time ago, and used in the implementation of low-level- machine language programming.it is still used in modern era as it includes machine architecture , sequential execution and mutable state.Procedural, Object-Oriented and Parallel Processing are also invloved in imperative programming.\n",
        "\n",
        "\n",
        "###**CODE :**\n",
        "\n",
        "\n",
        "\n"
      ]
    },
    {
      "cell_type": "code",
      "metadata": {
        "id": "nG4Lfr9pyCnk"
      },
      "source": [
        "const container = document.getElementById(‘container’);\n",
        "const btn = document.createElement(‘button’);\n",
        "btn.className = ‘btn green;\n",
        "btn.onclick = function(event) {\n",
        " if (this.classList.contains(‘green’)) {\n",
        "   this.classList.remove(‘green’);\n",
        "   this.classList.add(‘blue’);\n",
        " } else {\n",
        "   this.classList.remove(‘blue’);\n",
        "   this.classList.add(‘green’);\n",
        " }\n",
        "};\n",
        "container.appendChild(btn);"
      ],
      "execution_count": null,
      "outputs": []
    },
    {
      "cell_type": "markdown",
      "metadata": {
        "id": "ZhrlJt3OyM2u"
      },
      "source": [
        "###**Explanation**\n",
        "\n",
        "* We still have logic that says if green then blue as in example of declarative programming .\n",
        "* but there is difference the declarative approach simply describes the aim where here the program describe each step on how to perform the operation.\n",
        "* Hence it has listed out the directions step by step, hence indicative of an imperative approach. "
      ]
    },
    {
      "cell_type": "markdown",
      "metadata": {
        "id": "8aamqz3c0GRt"
      },
      "source": [
        "\n",
        "##**Difference between Declarative and Imperative programing**\n",
        "\n",
        "<br>\n",
        "\n",
        "\n",
        "###**Declarative Programming**  \n",
        "* In this, programs specify what is to be done.\n",
        "* It simply expresses the logic of computation.  \n",
        "* Its main goal is to describe the desired result without direct dictation on how to get it.  \n",
        "* Its advantages include effective code, which can be applied by using ways, easy extension, high level of abstraction, etc.  \n",
        "* It has no side effects and does not include any mutable variables as compared to imperative programming.  \n",
        "* It may automate repetitive flow along with simplifying code structure. \n",
        "\n",
        "###**Imperative Programming**  \n",
        "\n",
        "* In this, programs specify how it is to be done.  \n",
        "* It simply describes the control flow of computation. \n",
        "* Its main goal is to describe how to get it or accomplish it.\n",
        "* Its advantages include ease to learn and read, the notional model is simple to understand, etc.  \n",
        "* It has many side effects and includes mutable variables as compared to declarative programming.  \n",
        "* It gives full control to developers that are very important in low-level programming.  \n",
        "\n",
        "\n",
        "\n",
        "\n"
      ]
    },
    {
      "cell_type": "markdown",
      "metadata": {
        "id": "KNCbstaE3zfA"
      },
      "source": [
        "####**CONCLUSION**\n",
        "I hope this short article on the brief introduction to Programming paradigms and differences between Imperative and Declarative programming helped you to get a better and a clear understanding of the discussed topics. "
      ]
    }
  ]
}